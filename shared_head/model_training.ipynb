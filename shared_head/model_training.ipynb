{
 "cells": [
  {
   "cell_type": "code",
   "execution_count": 2,
   "id": "ee8ea569",
   "metadata": {},
   "outputs": [],
   "source": [
    "# 🧩 Setup: Import and Configuration\n",
    "from pathlib import Path\n",
    "import pandas as pd\n",
    "import torch\n",
    "import torch.nn as nn\n",
    "from torch.utils.data import Dataset, DataLoader\n",
    "from torchvision import transforms\n",
    "from PIL import Image\n",
    "from timm import create_model\n",
    "from sklearn.metrics import accuracy_score, precision_score, recall_score, f1_score, confusion_matrix\n",
    "import matplotlib.pyplot as plt\n",
    "import gc\n",
    "import time\n",
    "from tqdm import tqdm\n",
    "from torch.amp import autocast, GradScaler\n",
    "import torch.nn.functional as F\n",
    "import random\n",
    "import numpy as np\n",
    "import os"
   ]
  },
  {
   "cell_type": "code",
   "execution_count": 20,
   "id": "ffa68a53",
   "metadata": {},
   "outputs": [],
   "source": [
    "# Constants\n",
    "IMAGE_SIZE = 224\n",
    "BATCH_SIZE = 32\n",
    "NUM_CLASSES = 2\n",
    "EPOCHS = 15\n",
    "DEVICE = 'cuda' if torch.cuda.is_available() else 'cpu'\n",
    "USE_MIXUP = True\n",
    "ALPHA_MIXUP = 0.4\n",
    "TEMPERATURE = 2.0\n",
    "\n",
    "# Local Paths\n",
    "ROOT_DIR = Path(\"C:/Users/rsriram3/Documents/ind_study\")\n",
    "OUTPUT_DIR = ROOT_DIR / \"data\"\n",
    "TRAIN_CSV = OUTPUT_DIR / \"train_split_augmented.csv\"\n",
    "TEST_CSV = OUTPUT_DIR / \"test_split_augmented.csv\"\n",
    "CHECKPOINT_DIR = OUTPUT_DIR / \"best_checkpoints\"\n",
    "CHECKPOINT_DIR.mkdir(parents=True, exist_ok=True)"
   ]
  },
  {
   "cell_type": "code",
   "execution_count": 21,
   "id": "e47a5a5c",
   "metadata": {},
   "outputs": [],
   "source": [
    "# Dataset Definition (with engineered features)\n",
    "class SharedHeadDataset(Dataset):\n",
    "    def __init__(self, csv_file, root_dir):\n",
    "        self.data = pd.read_csv(csv_file)\n",
    "        self.root_dir = Path(root_dir)\n",
    "\n",
    "    def __len__(self):\n",
    "        return len(self.data)\n",
    "\n",
    "    def __getitem__(self, idx):\n",
    "        row = self.data.iloc[idx]\n",
    "        img_path = self.root_dir / row.image\n",
    "        try:\n",
    "            image = Image.open(img_path)\n",
    "        except Exception as e:\n",
    "            print(f\"[ Failed to load image: {img_path}, error: {e}\")\n",
    "            return self.__getitem__((idx + 1) % len(self.data))\n",
    "\n",
    "        if image.mode != 'RGB':\n",
    "            image = image.convert(\"RGB\")\n",
    "\n",
    "        transform = transforms.Compose([\n",
    "            transforms.Resize((IMAGE_SIZE, IMAGE_SIZE)),\n",
    "            transforms.RandomHorizontalFlip(),\n",
    "            transforms.RandomResizedCrop(IMAGE_SIZE, scale=(0.85, 1.0)),\n",
    "            transforms.ColorJitter(brightness=0.2, contrast=0.2),\n",
    "            transforms.ToTensor(),\n",
    "            transforms.Normalize([0.485, 0.456, 0.406], [0.229, 0.224, 0.225])\n",
    "        ])\n",
    "\n",
    "        image_tensor = transform(image)\n",
    "        label = int(row.label)\n",
    "\n",
    "        brightness = torch.tensor(row.brightness_mean, dtype=torch.float32).unsqueeze(0)\n",
    "        edge_density = torch.tensor(row.edge_density, dtype=torch.float32).unsqueeze(0)\n",
    "        entropy = torch.tensor(row.entropy, dtype=torch.float32).unsqueeze(0)\n",
    "\n",
    "        channel_mode = row.channel_mode\n",
    "        if channel_mode == 'rgb':\n",
    "            channel_tensor = torch.tensor([1.0, 0.0])\n",
    "        elif channel_mode == 'ir':\n",
    "            channel_tensor = torch.tensor([0.0, 1.0])\n",
    "        else:\n",
    "            channel_tensor = torch.tensor([0.0, 0.0])\n",
    "\n",
    "        # aux_features = torch.cat([brightness, edge_density, entropy, channel_tensor], dim=0)\n",
    "        aux_features = torch.cat([brightness, edge_density, entropy], dim=0)\n",
    "\n",
    "        return image_tensor, aux_features, label\n"
   ]
  },
  {
   "cell_type": "code",
   "execution_count": 22,
   "id": "4bdcc2cc",
   "metadata": {},
   "outputs": [],
   "source": [
    "# Collate Function\n",
    "def collate_fun(batch):\n",
    "    images, aux_feats, labels = zip(*batch)\n",
    "    return torch.stack(images), torch.stack(aux_feats), torch.tensor(labels)"
   ]
  },
  {
   "cell_type": "code",
   "execution_count": 23,
   "id": "6863bbb6",
   "metadata": {},
   "outputs": [],
   "source": [
    "# Model Definition\n",
    "class ExtendedModel(nn.Module):\n",
    "    # def __init__(self, backbone_name, num_aux_features=5, num_classes=2): ## ORIGINALLY num_features=5\n",
    "    def __init__(self, backbone_name, num_aux_features=3, num_classes=2):\n",
    "        super().__init__()\n",
    "        self.backbone = create_model(backbone_name, pretrained=True, num_classes=0)\n",
    "        backbone_output_dim = self.backbone.num_features\n",
    "        self.backbone.reset_classifier(0)\n",
    "        self.classifier = nn.Sequential(\n",
    "            nn.Linear(backbone_output_dim + num_aux_features, 256),\n",
    "            nn.ReLU(),\n",
    "            nn.Dropout(0.3),\n",
    "            nn.Linear(256, num_classes)\n",
    "        )\n",
    "\n",
    "    def forward(self, x, aux):\n",
    "        feats = self.backbone(x)\n",
    "        combined = torch.cat([feats, aux], dim=1)\n",
    "        return self.classifier(combined)\n",
    "\n",
    "# 🧪 Evaluation\n",
    "def evaluate_model(model, dataloader):\n",
    "    model.eval()\n",
    "    preds, targets = [], []\n",
    "    with torch.no_grad():\n",
    "        for images, aux, labels in dataloader:\n",
    "            images, aux = images.to(DEVICE), aux.to(DEVICE)\n",
    "            outputs = model(images, aux)\n",
    "            preds.extend(torch.argmax(outputs, dim=1).cpu().tolist())\n",
    "            targets.extend(labels.tolist())\n",
    "    acc = accuracy_score(targets, preds)\n",
    "    prec = precision_score(targets, preds)\n",
    "    rec = recall_score(targets, preds)\n",
    "    f1 = f1_score(targets, preds)\n",
    "    cm = confusion_matrix(targets, preds)\n",
    "    return acc, prec, rec, f1, cm\n"
   ]
  },
  {
   "cell_type": "code",
   "execution_count": 45,
   "id": "fddb7695",
   "metadata": {},
   "outputs": [],
   "source": [
    "# Plotting Accuracy\n",
    "def plot_metrics(train_accs, val_accs, model_name, save_path):\n",
    "    save_path.mkdir(parents=True, exist_ok=True)\n",
    "\n",
    "    plt.figure(figsize=(10, 6))\n",
    "    plt.plot(train_accs, label='Train Accuracy')\n",
    "    plt.plot(val_accs, label='Validation Accuracy')\n",
    "    plt.title(f'Training vs Validation Accuracy - {model_name}')\n",
    "    plt.xlabel('Epoch')\n",
    "    plt.ylabel('Accuracy')\n",
    "    plt.legend()\n",
    "    plt.grid(True)\n",
    "    plot_path = save_path / f'{model_name}_accuracy_plot.png'\n",
    "    plt.savefig(plot_path)\n",
    "    plt.show()\n",
    "    plt.close()"
   ]
  },
  {
   "cell_type": "code",
   "execution_count": 25,
   "id": "5dece278",
   "metadata": {},
   "outputs": [],
   "source": [
    "#  Mixup Training\n",
    "def mixup_data(x, y, alpha=1.0):\n",
    "    lam = np.random.beta(alpha, alpha) if alpha > 0 else 1\n",
    "    batch_size = x.size(0)\n",
    "    index = torch.randperm(batch_size).to(x.device)\n",
    "    mixed_x = lam * x + (1 - lam) * x[index, :]\n",
    "    y_a, y_b = y, y[index]\n",
    "    return mixed_x, y_a, y_b, lam"
   ]
  },
  {
   "cell_type": "code",
   "execution_count": null,
   "id": "fe38d388",
   "metadata": {},
   "outputs": [],
   "source": [
    "## OLD\n",
    "\n",
    "def mixup_criterion(pred, y_a, y_b, lam):\n",
    "    return lam * F.cross_entropy(pred, y_a) + (1 - lam) * F.cross_entropy(pred, y_b)"
   ]
  },
  {
   "cell_type": "code",
   "execution_count": null,
   "id": "0c282c98",
   "metadata": {},
   "outputs": [],
   "source": [
    "## NEW\n",
    "\n",
    "def entropy_loss(logits):\n",
    "    p = F.softmax(logits, dim=1)\n",
    "    return -torch.mean(torch.sum(p * torch.log(p + 1e-6), dim=1))\n",
    "\n",
    "def mixup_criterion(pred, y_a, y_b, lam, entropy_weight=0.05):\n",
    "    ce_a = F.cross_entropy(pred, y_a, label_smoothing=0.1)\n",
    "    ce_b = F.cross_entropy(pred, y_b, label_smoothing=0.1)\n",
    "    ent = entropy_loss(pred)\n",
    "    return lam * ce_a + (1 - lam) * ce_b + entropy_weight * ent\n"
   ]
  },
  {
   "cell_type": "markdown",
   "id": "1ce5d1cf",
   "metadata": {},
   "source": [
    "### ORIGINAL TRAINING PIPELINE - WITHOUT CROSS VALIDATION "
   ]
  },
  {
   "cell_type": "code",
   "execution_count": null,
   "id": "421bef10",
   "metadata": {},
   "outputs": [],
   "source": [
    "# Model Training Wrapper (ORIGINAL)\n",
    "def train_model(model_name, train_csv, test_csv, root_dir, save_path):\n",
    "    train_ds = SharedHeadDataset(train_csv, root_dir)\n",
    "    test_ds = SharedHeadDataset(test_csv, root_dir)\n",
    "    train_loader = DataLoader(train_ds, batch_size=BATCH_SIZE, shuffle=True, collate_fn=collate_fun, pin_memory=True)\n",
    "    test_loader = DataLoader(test_ds, batch_size=BATCH_SIZE, collate_fn=collate_fun, pin_memory=True)\n",
    "\n",
    "    model = ExtendedModel(model_name).to(DEVICE)\n",
    "    optimizer = torch.optim.AdamW(model.parameters(), lr=1e-4)\n",
    "    scheduler = torch.optim.lr_scheduler.CosineAnnealingWarmRestarts(optimizer, T_0=5, T_mult=2)\n",
    "    scaler = GradScaler()\n",
    "\n",
    "    train_accs, val_accs = [], []\n",
    "    best_acc = 0.0\n",
    "    previous_logits = None\n",
    "\n",
    "    for epoch in range(EPOCHS):\n",
    "        print(f\"\\n[ Epoch {epoch+1}/{EPOCHS} ]\")\n",
    "        model.train()\n",
    "        correct, total = 0, 0\n",
    "        progress = tqdm(train_loader, desc=f\"Training {model_name}\", leave=False)\n",
    "\n",
    "        for images, aux, labels in progress:\n",
    "            images, aux, labels = images.to(DEVICE), aux.to(DEVICE), labels.to(DEVICE)\n",
    "            optimizer.zero_grad()\n",
    "\n",
    "            if USE_MIXUP:\n",
    "                images, targets_a, targets_b, lam = mixup_data(images, labels, ALPHA_MIXUP)\n",
    "\n",
    "            with autocast(device_type='cuda'):\n",
    "                outputs = model(images, aux)\n",
    "                if USE_MIXUP:\n",
    "                    loss = mixup_criterion(outputs, targets_a, targets_b, lam)\n",
    "                else:\n",
    "                    loss = F.cross_entropy(outputs, labels)\n",
    "\n",
    "                if previous_logits is not None:\n",
    "                    soft_targets = F.softmax(previous_logits / TEMPERATURE, dim=1)\n",
    "                    distill_loss = F.kl_div(F.log_softmax(outputs / TEMPERATURE, dim=1), soft_targets, reduction='batchmean')\n",
    "                    loss += 0.5 * distill_loss\n",
    "\n",
    "            scaler.scale(loss).backward()\n",
    "            scaler.step(optimizer)\n",
    "            scaler.update()\n",
    "\n",
    "            preds = torch.argmax(outputs, dim=1)\n",
    "            correct += (preds == labels).sum().item()\n",
    "            total += labels.size(0)\n",
    "            progress.set_postfix({\"loss\": f\"{loss.item():.4f}\", \"acc\": f\"{correct / total:.4f}\"})\n",
    "\n",
    "        train_acc = correct / total\n",
    "        val_acc, _, _, _, _ = evaluate_model(model, test_loader)\n",
    "        train_accs.append(train_acc)\n",
    "        val_accs.append(val_acc)\n",
    "        print(f\"Epoch {epoch+1} | Train Acc: {train_acc:.4f} | Val Acc: {val_acc:.4f}\")\n",
    "\n",
    "        scheduler.step(epoch)\n",
    "        if val_acc > best_acc:\n",
    "            best_acc = val_acc\n",
    "            torch.save(model.state_dict(), CHECKPOINT_DIR / f\"{model_name}_best.pth\")\n",
    "\n",
    "        torch.cuda.empty_cache()\n",
    "        gc.collect()\n",
    "\n",
    "    torch.save(model.state_dict(), save_path)\n",
    "    return model, train_accs, val_accs"
   ]
  },
  {
   "cell_type": "code",
   "execution_count": null,
   "id": "1d84f98a",
   "metadata": {},
   "outputs": [],
   "source": [
    "model_configs = [\n",
    "    (\"swin_small_patch4_window7_224.ms_in1k\", \"swin_model.pth\"),\n",
    "    (\"coatnet_1_rw_224.sw_in1k\", \"coatnet_model.pth\"),\n",
    "    (\"convnext_small.fb_in1k\", \"convnext_model.pth\")\n",
    "]\n",
    "\n",
    "model_id = 2  # Example: ConvNeXt\n",
    "model_name = model_configs[model_id][0]\n",
    "history = model_configs[model_id][1]\n",
    "save_path = ROOT_DIR / \"models\" / model_configs[model_id][1]\n",
    "\n",
    "# Train\n",
    "model, train_accs, val_accs = train_model(model_name, TRAIN_CSV, TEST_CSV, ROOT_DIR, save_path)"
   ]
  },
  {
   "cell_type": "code",
   "execution_count": 26,
   "id": "f13c89ef",
   "metadata": {},
   "outputs": [
    {
     "name": "stdout",
     "output_type": "stream",
     "text": [
      "Confusion Matrix:\n",
      " [[954   0]\n",
      " [  0 198]]\n"
     ]
    },
    {
     "data": {
      "image/png": "[encoded data removed]",
      "text/plain": [
       "<Figure size 800x500 with 1 Axes>"
      ]
     },
     "metadata": {},
     "output_type": "display_data"
    }
   ],
   "source": [
    "# 🧪 Reload and Evaluate\n",
    "checkpoint_path = CHECKPOINT_DIR / f\"{model_name}_best.pth\"\n",
    "# model = create_model(model_name, pretrained=False, num_classes=NUM_CLASSES).to(DEVICE)\n",
    "model = ExtendedModel(model_name, num_aux_features=3, num_classes=NUM_CLASSES).to(DEVICE)\n",
    "model.load_state_dict(torch.load(checkpoint_path))\n",
    "\n",
    "test_loader = DataLoader(\n",
    "    SharedHeadDataset(TEST_CSV, ROOT_DIR),\n",
    "    batch_size=BATCH_SIZE,\n",
    "    collate_fn=collate_fun\n",
    ")\n",
    "\n",
    "_, _, _, _, cm = evaluate_model(model, test_loader)\n",
    "print(\"Confusion Matrix:\\n\", cm)\n",
    "\n",
    "# 📉 Plot Metrics\n",
    "plot_metrics(train_accs, val_accs, model_name)"
   ]
  },
  {
   "cell_type": "markdown",
   "id": "90c86692",
   "metadata": {},
   "source": [
    "### TRAINING PIPELINE - WITH STRATIFIED 5 FOLD CROSS VALIDATION "
   ]
  },
  {
   "cell_type": "code",
   "execution_count": 27,
   "id": "1a521df5",
   "metadata": {},
   "outputs": [],
   "source": [
    "# Model Training Wrapper - Updated checkpoint logic\n",
    "def train_model(model_name, train_csv, test_csv, root_dir, save_path):\n",
    "    train_ds = SharedHeadDataset(train_csv, root_dir)\n",
    "    test_ds = SharedHeadDataset(test_csv, root_dir)\n",
    "    train_loader = DataLoader(train_ds, batch_size=BATCH_SIZE, shuffle=True, collate_fn=collate_fun, pin_memory=True)\n",
    "    test_loader = DataLoader(test_ds, batch_size=BATCH_SIZE, collate_fn=collate_fun, pin_memory=True)\n",
    "\n",
    "    model = ExtendedModel(model_name).to(DEVICE)\n",
    "    optimizer = torch.optim.AdamW(model.parameters(), lr=1e-4)\n",
    "    scheduler = torch.optim.lr_scheduler.CosineAnnealingWarmRestarts(optimizer, T_0=5, T_mult=2)\n",
    "    scaler = GradScaler()\n",
    "\n",
    "    train_accs, val_accs = [], []\n",
    "    best_val_acc = 0.0\n",
    "    best_train_acc = 0.0\n",
    "    previous_logits = None\n",
    "\n",
    "    for epoch in range(EPOCHS):\n",
    "        print(f\"\\n[ Epoch {epoch+1}/{EPOCHS} ]\")\n",
    "        model.train()\n",
    "        correct, total = 0, 0\n",
    "        progress = tqdm(train_loader, desc=f\"Training {model_name}\", leave=False)\n",
    "\n",
    "        for images, aux, labels in progress:\n",
    "            images, aux, labels = images.to(DEVICE), aux.to(DEVICE), labels.to(DEVICE)\n",
    "            optimizer.zero_grad()\n",
    "\n",
    "            if USE_MIXUP:\n",
    "                images, targets_a, targets_b, lam = mixup_data(images, labels, ALPHA_MIXUP)\n",
    "\n",
    "            with autocast(device_type='cuda'):\n",
    "                outputs = model(images, aux)\n",
    "                if USE_MIXUP:\n",
    "                    loss = mixup_criterion(outputs, targets_a, targets_b, lam)\n",
    "                else:\n",
    "                    loss = F.cross_entropy(outputs, labels)\n",
    "\n",
    "                if previous_logits is not None:\n",
    "                    soft_targets = F.softmax(previous_logits / TEMPERATURE, dim=1)\n",
    "                    distill_loss = F.kl_div(F.log_softmax(outputs / TEMPERATURE, dim=1), soft_targets, reduction='batchmean')\n",
    "                    loss += 0.5 * distill_loss\n",
    "\n",
    "            scaler.scale(loss).backward()\n",
    "            scaler.step(optimizer)\n",
    "            scaler.update()\n",
    "\n",
    "            preds = torch.argmax(outputs, dim=1)\n",
    "            correct += (preds == labels).sum().item()\n",
    "            total += labels.size(0)\n",
    "            progress.set_postfix({\"loss\": f\"{loss.item():.4f}\", \"acc\": f\"{correct / total:.4f}\"})\n",
    "\n",
    "        train_acc = correct / total\n",
    "        val_acc, _, _, _, _ = evaluate_model(model, test_loader)\n",
    "\n",
    "        train_accs.append(train_acc)\n",
    "        val_accs.append(val_acc)\n",
    "        print(f\"Epoch {epoch+1} | Train Acc: {train_acc:.4f} | Val Acc: {val_acc:.4f}\")\n",
    "\n",
    "        # Save checkpoint if train_acc or val_acc improves\n",
    "        if (train_acc > best_train_acc) or (val_acc > best_val_acc):\n",
    "            best_train_acc = max(best_train_acc, train_acc)\n",
    "            best_val_acc = max(best_val_acc, val_acc)\n",
    "            torch.save(model.state_dict(), CHECKPOINT_DIR / f\"{model_name}_best.pth\")\n",
    "\n",
    "        scheduler.step(epoch)\n",
    "        torch.cuda.empty_cache()\n",
    "        gc.collect()\n",
    "\n",
    "    torch.save(model.state_dict(), save_path)\n",
    "    return model, train_accs, val_accs"
   ]
  },
  {
   "cell_type": "markdown",
   "id": "f91c3773",
   "metadata": {},
   "source": [
    "## TRAINING PIPELINE - WITH STRATIFIED 5 FOLD CROSS VALIDATION \n",
    "\n",
    "#### Using EarlyStopping"
   ]
  },
  {
   "cell_type": "code",
   "execution_count": 58,
   "id": "62c7f31e",
   "metadata": {},
   "outputs": [],
   "source": [
    "class EarlyStopping:\n",
    "    def __init__(self, patience=5, delta=0.001, verbose=True):\n",
    "        self.patience = patience\n",
    "        self.delta = delta\n",
    "        self.verbose = verbose\n",
    "        self.counter = 0\n",
    "        self.best_score = None\n",
    "        self.early_stop = False\n",
    "        self.val_loss_min = float('inf')\n",
    "\n",
    "    def __call__(self, val_loss, model, path):\n",
    "        score = -val_loss\n",
    "        if self.best_score is None:\n",
    "            self.best_score = score\n",
    "            self.save_checkpoint(val_loss, model, path)\n",
    "        elif score < self.best_score + self.delta:\n",
    "            self.counter += 1\n",
    "            if self.verbose:\n",
    "                print(f\"EarlyStopping counter: {self.counter} of {self.patience}\")\n",
    "            if self.counter >= self.patience:\n",
    "                self.early_stop = True\n",
    "        else:\n",
    "            self.best_score = score\n",
    "            self.save_checkpoint(val_loss, model, path)\n",
    "            self.counter = 0\n",
    "\n",
    "    def save_checkpoint(self, val_loss, model, path):\n",
    "        torch.save(model.state_dict(), path)\n",
    "        self.val_loss_min = val_loss"
   ]
  },
  {
   "cell_type": "code",
   "execution_count": 59,
   "id": "f208591b",
   "metadata": {},
   "outputs": [],
   "source": [
    "def train_model(model_name, train_csv, test_csv, root_dir, save_path):\n",
    "    train_ds = SharedHeadDataset(train_csv, root_dir)\n",
    "    test_ds = SharedHeadDataset(test_csv, root_dir)\n",
    "    train_loader = DataLoader(train_ds, batch_size=BATCH_SIZE, shuffle=True, collate_fn=collate_fun, pin_memory=True)\n",
    "    test_loader = DataLoader(test_ds, batch_size=BATCH_SIZE, collate_fn=collate_fun, pin_memory=True)\n",
    "\n",
    "    model = ExtendedModel(model_name).to(DEVICE)\n",
    "    optimizer = torch.optim.AdamW(model.parameters(), lr=1e-4)\n",
    "    # NEW \n",
    "    scheduler = torch.optim.lr_scheduler.CosineAnnealingWarmRestarts(\n",
    "        optimizer, T_0=3, T_mult=1, eta_min=1e-5\n",
    "    )\n",
    "\n",
    "    scaler = GradScaler()\n",
    "    \n",
    "    early_stopper = EarlyStopping(patience=5, delta=0.001, verbose=True)\n",
    "    early_stop_path = CHECKPOINT_DIR / f\"{model_name}_earlystop_best.pth\"\n",
    "\n",
    "    train_accs, val_accs = [], []\n",
    "    best_val_acc = 0.0\n",
    "    best_train_acc = 0.0\n",
    "    previous_logits = None\n",
    "\n",
    "    for epoch in range(EPOCHS):\n",
    "        print(f\"\\n[ Epoch {epoch+1}/{EPOCHS} ]\")\n",
    "        model.train()\n",
    "        correct, total = 0, 0\n",
    "        progress = tqdm(train_loader, desc=f\"Training {model_name}\", leave=False)\n",
    "\n",
    "        for images, aux, labels in progress:\n",
    "            images, aux, labels = images.to(DEVICE), aux.to(DEVICE), labels.to(DEVICE)\n",
    "            optimizer.zero_grad()\n",
    "\n",
    "            if USE_MIXUP:\n",
    "                images, targets_a, targets_b, lam = mixup_data(images, labels, ALPHA_MIXUP)\n",
    "\n",
    "            with autocast(device_type='cuda'):\n",
    "                outputs = model(images, aux)\n",
    "                if USE_MIXUP:\n",
    "                    loss = mixup_criterion(outputs, targets_a, targets_b, lam)\n",
    "                else:\n",
    "                    loss = F.cross_entropy(outputs, labels)\n",
    "\n",
    "                if previous_logits is not None:\n",
    "                    soft_targets = F.softmax(previous_logits / TEMPERATURE, dim=1)\n",
    "                    distill_loss = F.kl_div(F.log_softmax(outputs / TEMPERATURE, dim=1), soft_targets, reduction='batchmean')\n",
    "                    loss += 0.5 * distill_loss\n",
    "\n",
    "            scaler.scale(loss).backward()\n",
    "            scaler.step(optimizer)\n",
    "            scaler.update()\n",
    "\n",
    "            preds = torch.argmax(outputs, dim=1)\n",
    "            correct += (preds == labels).sum().item()\n",
    "            total += labels.size(0)\n",
    "            progress.set_postfix({\"loss\": f\"{loss.item():.4f}\", \"acc\": f\"{correct / total:.4f}\"})\n",
    "\n",
    "        train_acc = correct / total\n",
    "        val_acc, _, _, _, _ = evaluate_model(model, test_loader)\n",
    "        \n",
    "        model.eval()\n",
    "        val_loss_total = 0.0\n",
    "        with torch.no_grad():\n",
    "            for images, aux, labels in test_loader:\n",
    "                images, aux, labels = images.to(DEVICE), aux.to(DEVICE), labels.to(DEVICE)\n",
    "                outputs = model(images, aux)\n",
    "                val_loss_total += F.cross_entropy(outputs, labels, label_smoothing=0.1).item()\n",
    "        val_loss_avg = val_loss_total / len(test_loader)\n",
    "\n",
    "\n",
    "        train_accs.append(train_acc)\n",
    "        val_accs.append(val_acc)\n",
    "        print(f\"Epoch {epoch+1} | Train Acc: {train_acc:.4f} | Val Acc: {val_acc:.4f}\")\n",
    "\n",
    "        # # Save checkpoint if train_acc or val_acc improves\n",
    "        # if (train_acc > best_train_acc) or (val_acc > best_val_acc):\n",
    "        #     best_train_acc = max(best_train_acc, train_acc)\n",
    "        #     best_val_acc = max(best_val_acc, val_acc)\n",
    "        #     torch.save(model.state_dict(), CHECKPOINT_DIR / f\"{model_name}_best.pth\")\n",
    "        \n",
    "        early_stopper(val_loss_avg, model, early_stop_path)\n",
    "        if early_stopper.early_stop:\n",
    "            print(\"🔁 Early stopping triggered. Halting training.\")\n",
    "            break\n",
    "\n",
    "\n",
    "        scheduler.step(epoch)\n",
    "        torch.cuda.empty_cache()\n",
    "        gc.collect()\n",
    "\n",
    "    # Save latest model for reference\n",
    "    torch.save(model.state_dict(), save_path)\n",
    "\n",
    "    # Load best checkpoint if early stopping occurred\n",
    "    if early_stopper.early_stop:\n",
    "        model.load_state_dict(torch.load(early_stop_path))\n",
    "\n",
    "    return model, train_accs, val_accs\n"
   ]
  },
  {
   "cell_type": "code",
   "execution_count": 60,
   "id": "e3b9ffc6",
   "metadata": {},
   "outputs": [],
   "source": [
    "model_configs = [\n",
    "    (\"swin_small_patch4_window7_224.ms_in1k\", \"swin_model.pth\"),\n",
    "    (\"coatnet_1_rw_224.sw_in1k\", \"coatnet_model.pth\"),\n",
    "    (\"convnext_small.fb_in1k\", \"convnext_model.pth\")\n",
    "]"
   ]
  },
  {
   "cell_type": "code",
   "execution_count": 61,
   "id": "c24c5f85",
   "metadata": {},
   "outputs": [],
   "source": [
    "from sklearn.model_selection import StratifiedKFold\n",
    "\n",
    "# Run Stratified K-Fold Training\n",
    "full_df = pd.read_csv(OUTPUT_DIR / \"train_split_augmented.csv\")\n",
    "skf = StratifiedKFold(n_splits=5, shuffle=True, random_state=42)"
   ]
  },
  {
   "cell_type": "markdown",
   "id": "932b79ec",
   "metadata": {},
   "source": [
    "# ConvNeXt Model"
   ]
  },
  {
   "cell_type": "code",
   "execution_count": 62,
   "id": "924a3ccb",
   "metadata": {},
   "outputs": [],
   "source": [
    "model_id = 2  # Example: ConvNeXt\n",
    "model_name = model_configs[model_id][0]\n",
    "history = model_configs[model_id][1]\n",
    "save_path = ROOT_DIR / \"models\" / history.split('.')[0]\n",
    "plot_save_path = Path(\"C:/Users/rsriram3/Documents/ind_study/test-IIM\") / \"figures\" / \"shared_head_figures\" / history.split('.')[0]\n",
    "plot_save_path.mkdir(parents=True, exist_ok=True)"
   ]
  },
  {
   "cell_type": "code",
   "execution_count": 63,
   "id": "8d30c776",
   "metadata": {},
   "outputs": [],
   "source": [
    "# Create folds directory\n",
    "FOLDS_DIR = OUTPUT_DIR / \"folds\"\n",
    "FOLDS_DIR.mkdir(parents=True, exist_ok=True)"
   ]
  },
  {
   "cell_type": "code",
   "execution_count": 64,
   "id": "bc356257",
   "metadata": {},
   "outputs": [
    {
     "name": "stdout",
     "output_type": "stream",
     "text": [
      "\n",
      " Fold 1 \n",
      "\n",
      "[ Epoch 1/15 ]\n"
     ]
    },
    {
     "name": "stderr",
     "output_type": "stream",
     "text": [
      "                                                                                                         \r"
     ]
    },
    {
     "name": "stdout",
     "output_type": "stream",
     "text": [
      "Epoch 1 | Train Acc: 0.6801 | Val Acc: 1.0000\n",
      "\n",
      "[ Epoch 2/15 ]\n"
     ]
    },
    {
     "name": "stderr",
     "output_type": "stream",
     "text": [
      "                                                                                                         \r"
     ]
    },
    {
     "name": "stdout",
     "output_type": "stream",
     "text": [
      "Epoch 2 | Train Acc: 0.8038 | Val Acc: 1.0000\n",
      "EarlyStopping counter: 1 of 5\n",
      "\n",
      "[ Epoch 3/15 ]\n"
     ]
    },
    {
     "name": "stderr",
     "output_type": "stream",
     "text": [
      "                                                                                                         \r"
     ]
    },
    {
     "name": "stdout",
     "output_type": "stream",
     "text": [
      "Epoch 3 | Train Acc: 0.8047 | Val Acc: 1.0000\n",
      "EarlyStopping counter: 2 of 5\n",
      "\n",
      "[ Epoch 4/15 ]\n"
     ]
    },
    {
     "name": "stderr",
     "output_type": "stream",
     "text": [
      "                                                                                                         \r"
     ]
    },
    {
     "name": "stdout",
     "output_type": "stream",
     "text": [
      "Epoch 4 | Train Acc: 0.7549 | Val Acc: 1.0000\n",
      "EarlyStopping counter: 3 of 5\n",
      "\n",
      "[ Epoch 5/15 ]\n"
     ]
    },
    {
     "name": "stderr",
     "output_type": "stream",
     "text": [
      "                                                                                                         \r"
     ]
    },
    {
     "name": "stdout",
     "output_type": "stream",
     "text": [
      "Epoch 5 | Train Acc: 0.8097 | Val Acc: 1.0000\n",
      "EarlyStopping counter: 4 of 5\n",
      "\n",
      "[ Epoch 6/15 ]\n"
     ]
    },
    {
     "name": "stderr",
     "output_type": "stream",
     "text": [
      "                                                                                                         \r"
     ]
    },
    {
     "name": "stdout",
     "output_type": "stream",
     "text": [
      "Epoch 6 | Train Acc: 0.7829 | Val Acc: 1.0000\n",
      "EarlyStopping counter: 5 of 5\n",
      "🔁 Early stopping triggered. Halting training.\n"
     ]
    },
    {
     "data": {
      "image/png": "[encoded data removed]",
      "text/plain": [
       "<Figure size 1000x600 with 1 Axes>"
      ]
     },
     "metadata": {},
     "output_type": "display_data"
    },
    {
     "name": "stdout",
     "output_type": "stream",
     "text": [
      "\n",
      " Fold 2 \n",
      "\n",
      "[ Epoch 1/15 ]\n"
     ]
    },
    {
     "name": "stderr",
     "output_type": "stream",
     "text": [
      "                                                                                                         \r"
     ]
    },
    {
     "name": "stdout",
     "output_type": "stream",
     "text": [
      "Epoch 1 | Train Acc: 0.7792 | Val Acc: 1.0000\n",
      "\n",
      "[ Epoch 2/15 ]\n"
     ]
    },
    {
     "name": "stderr",
     "output_type": "stream",
     "text": [
      "                                                                                                         \r"
     ]
    },
    {
     "name": "stdout",
     "output_type": "stream",
     "text": [
      "Epoch 2 | Train Acc: 0.7917 | Val Acc: 1.0000\n",
      "EarlyStopping counter: 1 of 5\n",
      "\n",
      "[ Epoch 3/15 ]\n"
     ]
    },
    {
     "name": "stderr",
     "output_type": "stream",
     "text": [
      "                                                                                                         \r"
     ]
    },
    {
     "name": "stdout",
     "output_type": "stream",
     "text": [
      "Epoch 3 | Train Acc: 0.7871 | Val Acc: 1.0000\n",
      "EarlyStopping counter: 2 of 5\n",
      "\n",
      "[ Epoch 4/15 ]\n"
     ]
    },
    {
     "name": "stderr",
     "output_type": "stream",
     "text": [
      "                                                                                                         \r"
     ]
    },
    {
     "name": "stdout",
     "output_type": "stream",
     "text": [
      "Epoch 4 | Train Acc: 0.7666 | Val Acc: 1.0000\n",
      "EarlyStopping counter: 3 of 5\n",
      "\n",
      "[ Epoch 5/15 ]\n"
     ]
    },
    {
     "name": "stderr",
     "output_type": "stream",
     "text": [
      "                                                                                                         \r"
     ]
    },
    {
     "name": "stdout",
     "output_type": "stream",
     "text": [
      "Epoch 5 | Train Acc: 0.7884 | Val Acc: 1.0000\n",
      "EarlyStopping counter: 4 of 5\n",
      "\n",
      "[ Epoch 6/15 ]\n"
     ]
    },
    {
     "name": "stderr",
     "output_type": "stream",
     "text": [
      "                                                                                                         \r"
     ]
    },
    {
     "name": "stdout",
     "output_type": "stream",
     "text": [
      "Epoch 6 | Train Acc: 0.7746 | Val Acc: 1.0000\n",
      "EarlyStopping counter: 5 of 5\n",
      "🔁 Early stopping triggered. Halting training.\n"
     ]
    },
    {
     "data": {
      "image/png": "[encoded data removed]",
      "text/plain": [
       "<Figure size 1000x600 with 1 Axes>"
      ]
     },
     "metadata": {},
     "output_type": "display_data"
    },
    {
     "name": "stdout",
     "output_type": "stream",
     "text": [
      "\n",
      " Fold 3 \n",
      "\n",
      "[ Epoch 1/15 ]\n"
     ]
    },
    {
     "name": "stderr",
     "output_type": "stream",
     "text": [
      "                                                                                                         \r"
     ]
    },
    {
     "name": "stdout",
     "output_type": "stream",
     "text": [
      "Epoch 1 | Train Acc: 0.7574 | Val Acc: 0.9967\n",
      "\n",
      "[ Epoch 2/15 ]\n"
     ]
    },
    {
     "name": "stderr",
     "output_type": "stream",
     "text": [
      "                                                                                                         \r"
     ]
    },
    {
     "name": "stdout",
     "output_type": "stream",
     "text": [
      "Epoch 2 | Train Acc: 0.7771 | Val Acc: 1.0000\n",
      "EarlyStopping counter: 1 of 5\n",
      "\n",
      "[ Epoch 3/15 ]\n"
     ]
    },
    {
     "name": "stderr",
     "output_type": "stream",
     "text": [
      "                                                                                                         \r"
     ]
    },
    {
     "name": "stdout",
     "output_type": "stream",
     "text": [
      "Epoch 3 | Train Acc: 0.7704 | Val Acc: 1.0000\n",
      "EarlyStopping counter: 2 of 5\n",
      "\n",
      "[ Epoch 4/15 ]\n"
     ]
    },
    {
     "name": "stderr",
     "output_type": "stream",
     "text": [
      "                                                                                                         \r"
     ]
    },
    {
     "name": "stdout",
     "output_type": "stream",
     "text": [
      "Epoch 4 | Train Acc: 0.8001 | Val Acc: 0.9983\n",
      "EarlyStopping counter: 3 of 5\n",
      "\n",
      "[ Epoch 5/15 ]\n"
     ]
    },
    {
     "name": "stderr",
     "output_type": "stream",
     "text": [
      "                                                                                                         \r"
     ]
    },
    {
     "name": "stdout",
     "output_type": "stream",
     "text": [
      "Epoch 5 | Train Acc: 0.7440 | Val Acc: 1.0000\n",
      "EarlyStopping counter: 4 of 5\n",
      "\n",
      "[ Epoch 6/15 ]\n"
     ]
    },
    {
     "name": "stderr",
     "output_type": "stream",
     "text": [
      "                                                                                                         \r"
     ]
    },
    {
     "name": "stdout",
     "output_type": "stream",
     "text": [
      "Epoch 6 | Train Acc: 0.7319 | Val Acc: 1.0000\n",
      "EarlyStopping counter: 5 of 5\n",
      "🔁 Early stopping triggered. Halting training.\n"
     ]
    },
    {
     "data": {
      "image/png": "[encoded data removed]",
      "text/plain": [
       "<Figure size 1000x600 with 1 Axes>"
      ]
     },
     "metadata": {},
     "output_type": "display_data"
    },
    {
     "name": "stdout",
     "output_type": "stream",
     "text": [
      "\n",
      " Fold 4 \n",
      "\n",
      "[ Epoch 1/15 ]\n"
     ]
    },
    {
     "name": "stderr",
     "output_type": "stream",
     "text": [
      "                                                                                                         \r"
     ]
    },
    {
     "name": "stdout",
     "output_type": "stream",
     "text": [
      "Epoch 1 | Train Acc: 0.7633 | Val Acc: 1.0000\n",
      "\n",
      "[ Epoch 2/15 ]\n"
     ]
    },
    {
     "name": "stderr",
     "output_type": "stream",
     "text": [
      "                                                                                                         \r"
     ]
    },
    {
     "name": "stdout",
     "output_type": "stream",
     "text": [
      "Epoch 2 | Train Acc: 0.8009 | Val Acc: 1.0000\n",
      "EarlyStopping counter: 1 of 5\n",
      "\n",
      "[ Epoch 3/15 ]\n"
     ]
    },
    {
     "name": "stderr",
     "output_type": "stream",
     "text": [
      "                                                                                                         \r"
     ]
    },
    {
     "name": "stdout",
     "output_type": "stream",
     "text": [
      "Epoch 3 | Train Acc: 0.7666 | Val Acc: 1.0000\n",
      "EarlyStopping counter: 2 of 5\n",
      "\n",
      "[ Epoch 4/15 ]\n"
     ]
    },
    {
     "name": "stderr",
     "output_type": "stream",
     "text": [
      "                                                                                                         \r"
     ]
    },
    {
     "name": "stdout",
     "output_type": "stream",
     "text": [
      "Epoch 4 | Train Acc: 0.8018 | Val Acc: 1.0000\n",
      "EarlyStopping counter: 3 of 5\n",
      "\n",
      "[ Epoch 5/15 ]\n"
     ]
    },
    {
     "name": "stderr",
     "output_type": "stream",
     "text": [
      "                                                                                                         \r"
     ]
    },
    {
     "name": "stdout",
     "output_type": "stream",
     "text": [
      "Epoch 5 | Train Acc: 0.8084 | Val Acc: 1.0000\n",
      "EarlyStopping counter: 4 of 5\n",
      "\n",
      "[ Epoch 6/15 ]\n"
     ]
    },
    {
     "name": "stderr",
     "output_type": "stream",
     "text": [
      "                                                                                                         \r"
     ]
    },
    {
     "name": "stdout",
     "output_type": "stream",
     "text": [
      "Epoch 6 | Train Acc: 0.7583 | Val Acc: 1.0000\n",
      "EarlyStopping counter: 5 of 5\n",
      "🔁 Early stopping triggered. Halting training.\n"
     ]
    },
    {
     "data": {
      "image/png": "[encoded data removed]",
      "text/plain": [
       "<Figure size 1000x600 with 1 Axes>"
      ]
     },
     "metadata": {},
     "output_type": "display_data"
    },
    {
     "name": "stdout",
     "output_type": "stream",
     "text": [
      "\n",
      " Fold 5 \n",
      "\n",
      "[ Epoch 1/15 ]\n"
     ]
    },
    {
     "name": "stderr",
     "output_type": "stream",
     "text": [
      "                                                                                                         \r"
     ]
    },
    {
     "name": "stdout",
     "output_type": "stream",
     "text": [
      "Epoch 1 | Train Acc: 0.7320 | Val Acc: 1.0000\n",
      "\n",
      "[ Epoch 2/15 ]\n"
     ]
    },
    {
     "name": "stderr",
     "output_type": "stream",
     "text": [
      "                                                                                                         \r"
     ]
    },
    {
     "name": "stdout",
     "output_type": "stream",
     "text": [
      "Epoch 2 | Train Acc: 0.7868 | Val Acc: 1.0000\n",
      "EarlyStopping counter: 1 of 5\n",
      "\n",
      "[ Epoch 3/15 ]\n"
     ]
    },
    {
     "name": "stderr",
     "output_type": "stream",
     "text": [
      "                                                                                                         \r"
     ]
    },
    {
     "name": "stdout",
     "output_type": "stream",
     "text": [
      "Epoch 3 | Train Acc: 0.7550 | Val Acc: 1.0000\n",
      "EarlyStopping counter: 2 of 5\n",
      "\n",
      "[ Epoch 4/15 ]\n"
     ]
    },
    {
     "name": "stderr",
     "output_type": "stream",
     "text": [
      "                                                                                                         \r"
     ]
    },
    {
     "name": "stdout",
     "output_type": "stream",
     "text": [
      "Epoch 4 | Train Acc: 0.7797 | Val Acc: 1.0000\n",
      "EarlyStopping counter: 3 of 5\n",
      "\n",
      "[ Epoch 5/15 ]\n"
     ]
    },
    {
     "name": "stderr",
     "output_type": "stream",
     "text": [
      "                                                                                                         \r"
     ]
    },
    {
     "name": "stdout",
     "output_type": "stream",
     "text": [
      "Epoch 5 | Train Acc: 0.8491 | Val Acc: 1.0000\n",
      "EarlyStopping counter: 4 of 5\n",
      "\n",
      "[ Epoch 6/15 ]\n"
     ]
    },
    {
     "name": "stderr",
     "output_type": "stream",
     "text": [
      "                                                                                                         \r"
     ]
    },
    {
     "name": "stdout",
     "output_type": "stream",
     "text": [
      "Epoch 6 | Train Acc: 0.8002 | Val Acc: 1.0000\n",
      "EarlyStopping counter: 5 of 5\n",
      "🔁 Early stopping triggered. Halting training.\n"
     ]
    },
    {
     "data": {
      "image/png": "[encoded data removed]",
      "text/plain": [
       "<Figure size 1000x600 with 1 Axes>"
      ]
     },
     "metadata": {},
     "output_type": "display_data"
    }
   ],
   "source": [
    "for fold, (train_idx, val_idx) in enumerate(skf.split(full_df, full_df['label'])):\n",
    "    print(f\"\\n Fold {fold + 1} \")\n",
    "    # Get folds\n",
    "    train_df = full_df.iloc[train_idx]\n",
    "    val_df = full_df.iloc[val_idx]\n",
    "\n",
    "    # Save folds as CSVs\n",
    "    train_fold_path = FOLDS_DIR / f\"{history}_train_fold_{fold+1}.csv\"\n",
    "    val_fold_path = FOLDS_DIR / f\"{history}_val_fold_{fold+1}.csv\"\n",
    "    train_df.to_csv(train_fold_path, index=False)\n",
    "    val_df.to_csv(val_fold_path, index=False)\n",
    "\n",
    "    # Call training using paths\n",
    "    save_path.mkdir(parents=True, exist_ok=True)\n",
    "    model_save_path = save_path / f\"{model_name}_fold{fold+1}.pth\"\n",
    "    model, train_accs, val_accs = train_model(model_name, train_fold_path, val_fold_path, ROOT_DIR, model_save_path)\n",
    "\n",
    "    # Plot\n",
    "    plot_metrics(train_accs, val_accs, f\"{model_name}_fold{fold+1}\", plot_save_path)\n"
   ]
  },
  {
   "cell_type": "markdown",
   "id": "5cd3a104",
   "metadata": {},
   "source": [
    "# SWIN Transformer"
   ]
  },
  {
   "cell_type": "code",
   "execution_count": null,
   "id": "40429fa0",
   "metadata": {},
   "outputs": [],
   "source": [
    "model_id = 0  # Example: SWIN Transformer\n",
    "model_name = model_configs[model_id][0]\n",
    "history = model_configs[model_id][1]\n",
    "save_path = ROOT_DIR / \"models\" / history.split('.')[0]\n",
    "plot_save_path = Path(\"C:/Users/rsriram3/Documents/ind_study/test-IIM\") / \"figures\" / \"shared_head_figures\" / history.split('.')[0]\n",
    "plot_save_path.mkdir(parents=True, exist_ok=True)"
   ]
  },
  {
   "cell_type": "code",
   "execution_count": 13,
   "id": "bbe9ac8b",
   "metadata": {},
   "outputs": [],
   "source": [
    "# Create folds directory\n",
    "FOLDS_DIR = OUTPUT_DIR / \"folds\"\n",
    "FOLDS_DIR.mkdir(parents=True, exist_ok=True)"
   ]
  },
  {
   "cell_type": "code",
   "execution_count": null,
   "id": "e6261bc1",
   "metadata": {},
   "outputs": [
    {
     "name": "stdout",
     "output_type": "stream",
     "text": [
      "\n",
      " Fold 1 \n",
      "\n",
      "[ Epoch 1/15 ]\n"
     ]
    },
    {
     "name": "stderr",
     "output_type": "stream",
     "text": [
      "                                                                                                                        \r"
     ]
    },
    {
     "name": "stdout",
     "output_type": "stream",
     "text": [
      "Epoch 1 | Train Acc: 0.7825 | Val Acc: 1.0000\n",
      "\n",
      "[ Epoch 2/15 ]\n"
     ]
    },
    {
     "name": "stderr",
     "output_type": "stream",
     "text": [
      "                                                                                                                        \r"
     ]
    },
    {
     "name": "stdout",
     "output_type": "stream",
     "text": [
      "Epoch 2 | Train Acc: 0.7771 | Val Acc: 1.0000\n",
      "\n",
      "[ Epoch 3/15 ]\n"
     ]
    },
    {
     "name": "stderr",
     "output_type": "stream",
     "text": [
      "                                                                                                                        \r"
     ]
    },
    {
     "name": "stdout",
     "output_type": "stream",
     "text": [
      "Epoch 3 | Train Acc: 0.7934 | Val Acc: 1.0000\n",
      "\n",
      "[ Epoch 4/15 ]\n"
     ]
    },
    {
     "name": "stderr",
     "output_type": "stream",
     "text": [
      "                                                                                                                        \r"
     ]
    },
    {
     "name": "stdout",
     "output_type": "stream",
     "text": [
      "Epoch 4 | Train Acc: 0.7955 | Val Acc: 1.0000\n",
      "\n",
      "[ Epoch 5/15 ]\n"
     ]
    },
    {
     "name": "stderr",
     "output_type": "stream",
     "text": [
      "                                                                                                                        \r"
     ]
    },
    {
     "name": "stdout",
     "output_type": "stream",
     "text": [
      "Epoch 5 | Train Acc: 0.8164 | Val Acc: 1.0000\n",
      "\n",
      "[ Epoch 6/15 ]\n"
     ]
    },
    {
     "name": "stderr",
     "output_type": "stream",
     "text": [
      "                                                                                                                        \r"
     ]
    },
    {
     "name": "stdout",
     "output_type": "stream",
     "text": [
      "Epoch 6 | Train Acc: 0.7854 | Val Acc: 1.0000\n",
      "\n",
      "[ Epoch 7/15 ]\n"
     ]
    },
    {
     "name": "stderr",
     "output_type": "stream",
     "text": [
      "                                                                                                                        \r"
     ]
    },
    {
     "name": "stdout",
     "output_type": "stream",
     "text": [
      "Epoch 7 | Train Acc: 0.7344 | Val Acc: 1.0000\n",
      "\n",
      "[ Epoch 8/15 ]\n"
     ]
    },
    {
     "name": "stderr",
     "output_type": "stream",
     "text": [
      "                                                                                                                        \r"
     ]
    },
    {
     "name": "stdout",
     "output_type": "stream",
     "text": [
      "Epoch 8 | Train Acc: 0.7361 | Val Acc: 1.0000\n",
      "\n",
      "[ Epoch 9/15 ]\n"
     ]
    },
    {
     "name": "stderr",
     "output_type": "stream",
     "text": [
      "                                                                                                                        \r"
     ]
    },
    {
     "name": "stdout",
     "output_type": "stream",
     "text": [
      "Epoch 9 | Train Acc: 0.7637 | Val Acc: 1.0000\n",
      "\n",
      "[ Epoch 10/15 ]\n"
     ]
    },
    {
     "name": "stderr",
     "output_type": "stream",
     "text": [
      "                                                                                                                        \r"
     ]
    },
    {
     "ename": "KeyboardInterrupt",
     "evalue": "",
     "output_type": "error",
     "traceback": [
      "\u001b[31m---------------------------------------------------------------------------\u001b[39m",
      "\u001b[31mKeyboardInterrupt\u001b[39m                         Traceback (most recent call last)",
      "\u001b[36mCell\u001b[39m\u001b[36m \u001b[39m\u001b[32mIn[18]\u001b[39m\u001b[32m, line 16\u001b[39m\n\u001b[32m     14\u001b[39m model_save_path = save_path / \u001b[33mf\u001b[39m\u001b[33m\"\u001b[39m\u001b[38;5;132;01m{\u001b[39;00mmodel_name\u001b[38;5;132;01m}\u001b[39;00m\u001b[33m_fold\u001b[39m\u001b[38;5;132;01m{\u001b[39;00mfold+\u001b[32m1\u001b[39m\u001b[38;5;132;01m}\u001b[39;00m\u001b[33m.pth\u001b[39m\u001b[33m\"\u001b[39m\n\u001b[32m     15\u001b[39m model_save_path.mkdir(parents=\u001b[38;5;28;01mTrue\u001b[39;00m, exist_ok=\u001b[38;5;28;01mTrue\u001b[39;00m)\n\u001b[32m---> \u001b[39m\u001b[32m16\u001b[39m model, train_accs, val_accs = \u001b[43mtrain_model\u001b[49m\u001b[43m(\u001b[49m\u001b[43mmodel_name\u001b[49m\u001b[43m,\u001b[49m\u001b[43m \u001b[49m\u001b[43mtrain_fold_path\u001b[49m\u001b[43m,\u001b[49m\u001b[43m \u001b[49m\u001b[43mval_fold_path\u001b[49m\u001b[43m,\u001b[49m\u001b[43m \u001b[49m\u001b[43mROOT_DIR\u001b[49m\u001b[43m,\u001b[49m\u001b[43m \u001b[49m\u001b[43mmodel_save_path\u001b[49m\u001b[43m)\u001b[49m\n\u001b[32m     18\u001b[39m \u001b[38;5;66;03m# Plot\u001b[39;00m\n\u001b[32m     19\u001b[39m plot_metrics(train_accs, val_accs, model_name, plot_save_path)\n",
      "\u001b[36mCell\u001b[39m\u001b[36m \u001b[39m\u001b[32mIn[9]\u001b[39m\u001b[32m, line 43\u001b[39m, in \u001b[36mtrain_model\u001b[39m\u001b[34m(model_name, train_csv, test_csv, root_dir, save_path)\u001b[39m\n\u001b[32m     40\u001b[39m         distill_loss = F.kl_div(F.log_softmax(outputs / TEMPERATURE, dim=\u001b[32m1\u001b[39m), soft_targets, reduction=\u001b[33m'\u001b[39m\u001b[33mbatchmean\u001b[39m\u001b[33m'\u001b[39m)\n\u001b[32m     41\u001b[39m         loss += \u001b[32m0.5\u001b[39m * distill_loss\n\u001b[32m---> \u001b[39m\u001b[32m43\u001b[39m \u001b[43mscaler\u001b[49m\u001b[43m.\u001b[49m\u001b[43mscale\u001b[49m\u001b[43m(\u001b[49m\u001b[43mloss\u001b[49m\u001b[43m)\u001b[49m\u001b[43m.\u001b[49m\u001b[43mbackward\u001b[49m\u001b[43m(\u001b[49m\u001b[43m)\u001b[49m\n\u001b[32m     44\u001b[39m scaler.step(optimizer)\n\u001b[32m     45\u001b[39m scaler.update()\n",
      "\u001b[36mFile \u001b[39m\u001b[32mc:\\Users\\rsriram3\\Documents\\ind_study\\test-IIM\\my-iim\\Lib\\site-packages\\torch\\_tensor.py:626\u001b[39m, in \u001b[36mTensor.backward\u001b[39m\u001b[34m(self, gradient, retain_graph, create_graph, inputs)\u001b[39m\n\u001b[32m    616\u001b[39m \u001b[38;5;28;01mif\u001b[39;00m has_torch_function_unary(\u001b[38;5;28mself\u001b[39m):\n\u001b[32m    617\u001b[39m     \u001b[38;5;28;01mreturn\u001b[39;00m handle_torch_function(\n\u001b[32m    618\u001b[39m         Tensor.backward,\n\u001b[32m    619\u001b[39m         (\u001b[38;5;28mself\u001b[39m,),\n\u001b[32m   (...)\u001b[39m\u001b[32m    624\u001b[39m         inputs=inputs,\n\u001b[32m    625\u001b[39m     )\n\u001b[32m--> \u001b[39m\u001b[32m626\u001b[39m \u001b[43mtorch\u001b[49m\u001b[43m.\u001b[49m\u001b[43mautograd\u001b[49m\u001b[43m.\u001b[49m\u001b[43mbackward\u001b[49m\u001b[43m(\u001b[49m\n\u001b[32m    627\u001b[39m \u001b[43m    \u001b[49m\u001b[38;5;28;43mself\u001b[39;49m\u001b[43m,\u001b[49m\u001b[43m \u001b[49m\u001b[43mgradient\u001b[49m\u001b[43m,\u001b[49m\u001b[43m \u001b[49m\u001b[43mretain_graph\u001b[49m\u001b[43m,\u001b[49m\u001b[43m \u001b[49m\u001b[43mcreate_graph\u001b[49m\u001b[43m,\u001b[49m\u001b[43m \u001b[49m\u001b[43minputs\u001b[49m\u001b[43m=\u001b[49m\u001b[43minputs\u001b[49m\n\u001b[32m    628\u001b[39m \u001b[43m\u001b[49m\u001b[43m)\u001b[49m\n",
      "\u001b[36mFile \u001b[39m\u001b[32mc:\\Users\\rsriram3\\Documents\\ind_study\\test-IIM\\my-iim\\Lib\\site-packages\\torch\\autograd\\__init__.py:347\u001b[39m, in \u001b[36mbackward\u001b[39m\u001b[34m(tensors, grad_tensors, retain_graph, create_graph, grad_variables, inputs)\u001b[39m\n\u001b[32m    342\u001b[39m     retain_graph = create_graph\n\u001b[32m    344\u001b[39m \u001b[38;5;66;03m# The reason we repeat the same comment below is that\u001b[39;00m\n\u001b[32m    345\u001b[39m \u001b[38;5;66;03m# some Python versions print out the first line of a multi-line function\u001b[39;00m\n\u001b[32m    346\u001b[39m \u001b[38;5;66;03m# calls in the traceback and some print out the last line\u001b[39;00m\n\u001b[32m--> \u001b[39m\u001b[32m347\u001b[39m \u001b[43m_engine_run_backward\u001b[49m\u001b[43m(\u001b[49m\n\u001b[32m    348\u001b[39m \u001b[43m    \u001b[49m\u001b[43mtensors\u001b[49m\u001b[43m,\u001b[49m\n\u001b[32m    349\u001b[39m \u001b[43m    \u001b[49m\u001b[43mgrad_tensors_\u001b[49m\u001b[43m,\u001b[49m\n\u001b[32m    350\u001b[39m \u001b[43m    \u001b[49m\u001b[43mretain_graph\u001b[49m\u001b[43m,\u001b[49m\n\u001b[32m    351\u001b[39m \u001b[43m    \u001b[49m\u001b[43mcreate_graph\u001b[49m\u001b[43m,\u001b[49m\n\u001b[32m    352\u001b[39m \u001b[43m    \u001b[49m\u001b[43minputs\u001b[49m\u001b[43m,\u001b[49m\n\u001b[32m    353\u001b[39m \u001b[43m    \u001b[49m\u001b[43mallow_unreachable\u001b[49m\u001b[43m=\u001b[49m\u001b[38;5;28;43;01mTrue\u001b[39;49;00m\u001b[43m,\u001b[49m\n\u001b[32m    354\u001b[39m \u001b[43m    \u001b[49m\u001b[43maccumulate_grad\u001b[49m\u001b[43m=\u001b[49m\u001b[38;5;28;43;01mTrue\u001b[39;49;00m\u001b[43m,\u001b[49m\n\u001b[32m    355\u001b[39m \u001b[43m\u001b[49m\u001b[43m)\u001b[49m\n",
      "\u001b[36mFile \u001b[39m\u001b[32mc:\\Users\\rsriram3\\Documents\\ind_study\\test-IIM\\my-iim\\Lib\\site-packages\\torch\\autograd\\graph.py:823\u001b[39m, in \u001b[36m_engine_run_backward\u001b[39m\u001b[34m(t_outputs, *args, **kwargs)\u001b[39m\n\u001b[32m    821\u001b[39m     unregister_hooks = _register_logging_hooks_on_whole_graph(t_outputs)\n\u001b[32m    822\u001b[39m \u001b[38;5;28;01mtry\u001b[39;00m:\n\u001b[32m--> \u001b[39m\u001b[32m823\u001b[39m     \u001b[38;5;28;01mreturn\u001b[39;00m \u001b[43mVariable\u001b[49m\u001b[43m.\u001b[49m\u001b[43m_execution_engine\u001b[49m\u001b[43m.\u001b[49m\u001b[43mrun_backward\u001b[49m\u001b[43m(\u001b[49m\u001b[43m  \u001b[49m\u001b[38;5;66;43;03m# Calls into the C++ engine to run the backward pass\u001b[39;49;00m\n\u001b[32m    824\u001b[39m \u001b[43m        \u001b[49m\u001b[43mt_outputs\u001b[49m\u001b[43m,\u001b[49m\u001b[43m \u001b[49m\u001b[43m*\u001b[49m\u001b[43margs\u001b[49m\u001b[43m,\u001b[49m\u001b[43m \u001b[49m\u001b[43m*\u001b[49m\u001b[43m*\u001b[49m\u001b[43mkwargs\u001b[49m\n\u001b[32m    825\u001b[39m \u001b[43m    \u001b[49m\u001b[43m)\u001b[49m  \u001b[38;5;66;03m# Calls into the C++ engine to run the backward pass\u001b[39;00m\n\u001b[32m    826\u001b[39m \u001b[38;5;28;01mfinally\u001b[39;00m:\n\u001b[32m    827\u001b[39m     \u001b[38;5;28;01mif\u001b[39;00m attach_logging_hooks:\n",
      "\u001b[31mKeyboardInterrupt\u001b[39m: "
     ]
    }
   ],
   "source": [
    "for fold, (train_idx, val_idx) in enumerate(skf.split(full_df, full_df['label'])):\n",
    "    print(f\"\\n Fold {fold + 1} \")\n",
    "    # Get folds\n",
    "    train_df = full_df.iloc[train_idx]\n",
    "    val_df = full_df.iloc[val_idx]\n",
    "\n",
    "    # Save folds as CSVs\n",
    "    train_fold_path = FOLDS_DIR / f\"{history}_train_fold_{fold+1}.csv\"\n",
    "    val_fold_path = FOLDS_DIR / f\"{history}_val_fold_{fold+1}.csv\"\n",
    "    train_df.to_csv(train_fold_path, index=False)\n",
    "    val_df.to_csv(val_fold_path, index=False)\n",
    "\n",
    "    # Call training using paths\n",
    "    save_path.mkdir(parents=True, exist_ok=True)\n",
    "    model_save_path = save_path / f\"{model_name}_fold{fold+1}.pth\"\n",
    "    model, train_accs, val_accs = train_model(model_name, train_fold_path, val_fold_path, ROOT_DIR, model_save_path)\n",
    "\n",
    "    # Plot\n",
    "    plot_metrics(train_accs, val_accs, f\"{model_name}_fold{fold+1}\", plot_save_path)"
   ]
  },
  {
   "cell_type": "markdown",
   "id": "04b518f6",
   "metadata": {},
   "source": [
    "## TINY-VIT MODEL"
   ]
  },
  {
   "cell_type": "code",
   "execution_count": null,
   "id": "2793c0c4",
   "metadata": {},
   "outputs": [],
   "source": [
    "model_configs = [\n",
    "    (\"swin_small_patch4_window7_224.ms_in1k\", \"swin_model.pth\"),\n",
    "    (\"coatnet_1_rw_224.sw_in1k\", \"coatnet_model.pth\"),\n",
    "    (\"convnext_small.fb_in1k\", \"convnext_model.pth\"),\n",
    "    (\"tiny_vit_5m_224.dist_in22k_ft_in1k\", \"tiny_vit_model.pth\"),\n",
    "]\n",
    "\n",
    "# tiny_vit_5m_224, tiny_vit_11m_224, tiny_vit_21m_224\n",
    "# levit_128s, levit_128, levit_192, levit_256\n",
    "# efficientformer_l1, efficientformer_l3\n",
    "# edgenext_xx_small, edgenext_x_small, edgenext_small\n",
    "# mobilevitv2_050, mobilevitv2_075, mobilevitv2_100\n"
   ]
  },
  {
   "cell_type": "code",
   "execution_count": null,
   "id": "1a16a1e2",
   "metadata": {},
   "outputs": [],
   "source": [
    "model_id = 3  # Example: SWIN Transformer\n",
    "model_name = model_configs[model_id][0]\n",
    "history = model_configs[model_id][1]\n",
    "save_path = ROOT_DIR / \"models\" / history.split('.')[0]\n",
    "plot_save_path = Path(\"C:/Users/rsriram3/Documents/ind_study/test-IIM\") / \"figures\" / \"shared_head_figures\" / history.split('.')[0]\n",
    "plot_save_path.mkdir(parents=True, exist_ok=True)"
   ]
  },
  {
   "cell_type": "code",
   "execution_count": null,
   "id": "c1a17b2a",
   "metadata": {},
   "outputs": [
    {
     "name": "stdout",
     "output_type": "stream",
     "text": [
      "\n",
      " Fold 1 \n",
      "\n",
      "[ Epoch 1/15 ]\n"
     ]
    },
    {
     "name": "stderr",
     "output_type": "stream",
     "text": [
      "                                                                                                                    \r"
     ]
    },
    {
     "ename": "KeyboardInterrupt",
     "evalue": "",
     "output_type": "error",
     "traceback": [
      "\u001b[31m---------------------------------------------------------------------------\u001b[39m",
      "\u001b[31mKeyboardInterrupt\u001b[39m                         Traceback (most recent call last)",
      "\u001b[36mCell\u001b[39m\u001b[36m \u001b[39m\u001b[32mIn[35]\u001b[39m\u001b[32m, line 16\u001b[39m\n\u001b[32m     14\u001b[39m model_save_path = save_path / \u001b[33mf\u001b[39m\u001b[33m\"\u001b[39m\u001b[38;5;132;01m{\u001b[39;00mmodel_name\u001b[38;5;132;01m}\u001b[39;00m\u001b[33m_fold\u001b[39m\u001b[38;5;132;01m{\u001b[39;00mfold+\u001b[32m1\u001b[39m\u001b[38;5;132;01m}\u001b[39;00m\u001b[33m.pth\u001b[39m\u001b[33m\"\u001b[39m\n\u001b[32m     15\u001b[39m model_save_path.mkdir(parents=\u001b[38;5;28;01mTrue\u001b[39;00m, exist_ok=\u001b[38;5;28;01mTrue\u001b[39;00m)\n\u001b[32m---> \u001b[39m\u001b[32m16\u001b[39m model, train_accs, val_accs = \u001b[43mtrain_model\u001b[49m\u001b[43m(\u001b[49m\u001b[43mmodel_name\u001b[49m\u001b[43m,\u001b[49m\u001b[43m \u001b[49m\u001b[43mtrain_fold_path\u001b[49m\u001b[43m,\u001b[49m\u001b[43m \u001b[49m\u001b[43mval_fold_path\u001b[49m\u001b[43m,\u001b[49m\u001b[43m \u001b[49m\u001b[43mROOT_DIR\u001b[49m\u001b[43m,\u001b[49m\u001b[43m \u001b[49m\u001b[43mmodel_save_path\u001b[49m\u001b[43m)\u001b[49m\n\u001b[32m     18\u001b[39m \u001b[38;5;66;03m# Plot\u001b[39;00m\n\u001b[32m     19\u001b[39m plot_metrics(train_accs, val_accs, model_name, plot_save_path)\n",
      "\u001b[36mCell\u001b[39m\u001b[36m \u001b[39m\u001b[32mIn[27]\u001b[39m\u001b[32m, line 24\u001b[39m, in \u001b[36mtrain_model\u001b[39m\u001b[34m(model_name, train_csv, test_csv, root_dir, save_path)\u001b[39m\n\u001b[32m     21\u001b[39m correct, total = \u001b[32m0\u001b[39m, \u001b[32m0\u001b[39m\n\u001b[32m     22\u001b[39m progress = tqdm(train_loader, desc=\u001b[33mf\u001b[39m\u001b[33m\"\u001b[39m\u001b[33mTraining \u001b[39m\u001b[38;5;132;01m{\u001b[39;00mmodel_name\u001b[38;5;132;01m}\u001b[39;00m\u001b[33m\"\u001b[39m, leave=\u001b[38;5;28;01mFalse\u001b[39;00m)\n\u001b[32m---> \u001b[39m\u001b[32m24\u001b[39m \u001b[43m\u001b[49m\u001b[38;5;28;43;01mfor\u001b[39;49;00m\u001b[43m \u001b[49m\u001b[43mimages\u001b[49m\u001b[43m,\u001b[49m\u001b[43m \u001b[49m\u001b[43maux\u001b[49m\u001b[43m,\u001b[49m\u001b[43m \u001b[49m\u001b[43mlabels\u001b[49m\u001b[43m \u001b[49m\u001b[38;5;129;43;01min\u001b[39;49;00m\u001b[43m \u001b[49m\u001b[43mprogress\u001b[49m\u001b[43m:\u001b[49m\n\u001b[32m     25\u001b[39m \u001b[43m    \u001b[49m\u001b[43mimages\u001b[49m\u001b[43m,\u001b[49m\u001b[43m \u001b[49m\u001b[43maux\u001b[49m\u001b[43m,\u001b[49m\u001b[43m \u001b[49m\u001b[43mlabels\u001b[49m\u001b[43m \u001b[49m\u001b[43m=\u001b[49m\u001b[43m \u001b[49m\u001b[43mimages\u001b[49m\u001b[43m.\u001b[49m\u001b[43mto\u001b[49m\u001b[43m(\u001b[49m\u001b[43mDEVICE\u001b[49m\u001b[43m)\u001b[49m\u001b[43m,\u001b[49m\u001b[43m \u001b[49m\u001b[43maux\u001b[49m\u001b[43m.\u001b[49m\u001b[43mto\u001b[49m\u001b[43m(\u001b[49m\u001b[43mDEVICE\u001b[49m\u001b[43m)\u001b[49m\u001b[43m,\u001b[49m\u001b[43m \u001b[49m\u001b[43mlabels\u001b[49m\u001b[43m.\u001b[49m\u001b[43mto\u001b[49m\u001b[43m(\u001b[49m\u001b[43mDEVICE\u001b[49m\u001b[43m)\u001b[49m\n\u001b[32m     26\u001b[39m \u001b[43m    \u001b[49m\u001b[43moptimizer\u001b[49m\u001b[43m.\u001b[49m\u001b[43mzero_grad\u001b[49m\u001b[43m(\u001b[49m\u001b[43m)\u001b[49m\n",
      "\u001b[36mFile \u001b[39m\u001b[32mc:\\Users\\rsriram3\\Documents\\ind_study\\test-IIM\\my-iim\\Lib\\site-packages\\tqdm\\std.py:1181\u001b[39m, in \u001b[36mtqdm.__iter__\u001b[39m\u001b[34m(self)\u001b[39m\n\u001b[32m   1178\u001b[39m time = \u001b[38;5;28mself\u001b[39m._time\n\u001b[32m   1180\u001b[39m \u001b[38;5;28;01mtry\u001b[39;00m:\n\u001b[32m-> \u001b[39m\u001b[32m1181\u001b[39m \u001b[43m    \u001b[49m\u001b[38;5;28;43;01mfor\u001b[39;49;00m\u001b[43m \u001b[49m\u001b[43mobj\u001b[49m\u001b[43m \u001b[49m\u001b[38;5;129;43;01min\u001b[39;49;00m\u001b[43m \u001b[49m\u001b[43miterable\u001b[49m\u001b[43m:\u001b[49m\n\u001b[32m   1182\u001b[39m \u001b[43m        \u001b[49m\u001b[38;5;28;43;01myield\u001b[39;49;00m\u001b[43m \u001b[49m\u001b[43mobj\u001b[49m\n\u001b[32m   1183\u001b[39m \u001b[43m        \u001b[49m\u001b[38;5;66;43;03m# Update and possibly print the progressbar.\u001b[39;49;00m\n\u001b[32m   1184\u001b[39m \u001b[43m        \u001b[49m\u001b[38;5;66;43;03m# Note: does not call self.update(1) for speed optimisation.\u001b[39;49;00m\n",
      "\u001b[36mFile \u001b[39m\u001b[32mc:\\Users\\rsriram3\\Documents\\ind_study\\test-IIM\\my-iim\\Lib\\site-packages\\torch\\utils\\data\\dataloader.py:708\u001b[39m, in \u001b[36m_BaseDataLoaderIter.__next__\u001b[39m\u001b[34m(self)\u001b[39m\n\u001b[32m    705\u001b[39m \u001b[38;5;28;01mif\u001b[39;00m \u001b[38;5;28mself\u001b[39m._sampler_iter \u001b[38;5;129;01mis\u001b[39;00m \u001b[38;5;28;01mNone\u001b[39;00m:\n\u001b[32m    706\u001b[39m     \u001b[38;5;66;03m# TODO(https://github.com/pytorch/pytorch/issues/76750)\u001b[39;00m\n\u001b[32m    707\u001b[39m     \u001b[38;5;28mself\u001b[39m._reset()  \u001b[38;5;66;03m# type: ignore[call-arg]\u001b[39;00m\n\u001b[32m--> \u001b[39m\u001b[32m708\u001b[39m data = \u001b[38;5;28;43mself\u001b[39;49m\u001b[43m.\u001b[49m\u001b[43m_next_data\u001b[49m\u001b[43m(\u001b[49m\u001b[43m)\u001b[49m\n\u001b[32m    709\u001b[39m \u001b[38;5;28mself\u001b[39m._num_yielded += \u001b[32m1\u001b[39m\n\u001b[32m    710\u001b[39m \u001b[38;5;28;01mif\u001b[39;00m (\n\u001b[32m    711\u001b[39m     \u001b[38;5;28mself\u001b[39m._dataset_kind == _DatasetKind.Iterable\n\u001b[32m    712\u001b[39m     \u001b[38;5;129;01mand\u001b[39;00m \u001b[38;5;28mself\u001b[39m._IterableDataset_len_called \u001b[38;5;129;01mis\u001b[39;00m \u001b[38;5;129;01mnot\u001b[39;00m \u001b[38;5;28;01mNone\u001b[39;00m\n\u001b[32m    713\u001b[39m     \u001b[38;5;129;01mand\u001b[39;00m \u001b[38;5;28mself\u001b[39m._num_yielded > \u001b[38;5;28mself\u001b[39m._IterableDataset_len_called\n\u001b[32m    714\u001b[39m ):\n",
      "\u001b[36mFile \u001b[39m\u001b[32mc:\\Users\\rsriram3\\Documents\\ind_study\\test-IIM\\my-iim\\Lib\\site-packages\\torch\\utils\\data\\dataloader.py:764\u001b[39m, in \u001b[36m_SingleProcessDataLoaderIter._next_data\u001b[39m\u001b[34m(self)\u001b[39m\n\u001b[32m    762\u001b[39m \u001b[38;5;28;01mdef\u001b[39;00m\u001b[38;5;250m \u001b[39m\u001b[34m_next_data\u001b[39m(\u001b[38;5;28mself\u001b[39m):\n\u001b[32m    763\u001b[39m     index = \u001b[38;5;28mself\u001b[39m._next_index()  \u001b[38;5;66;03m# may raise StopIteration\u001b[39;00m\n\u001b[32m--> \u001b[39m\u001b[32m764\u001b[39m     data = \u001b[38;5;28;43mself\u001b[39;49m\u001b[43m.\u001b[49m\u001b[43m_dataset_fetcher\u001b[49m\u001b[43m.\u001b[49m\u001b[43mfetch\u001b[49m\u001b[43m(\u001b[49m\u001b[43mindex\u001b[49m\u001b[43m)\u001b[49m  \u001b[38;5;66;03m# may raise StopIteration\u001b[39;00m\n\u001b[32m    765\u001b[39m     \u001b[38;5;28;01mif\u001b[39;00m \u001b[38;5;28mself\u001b[39m._pin_memory:\n\u001b[32m    766\u001b[39m         data = _utils.pin_memory.pin_memory(data, \u001b[38;5;28mself\u001b[39m._pin_memory_device)\n",
      "\u001b[36mFile \u001b[39m\u001b[32mc:\\Users\\rsriram3\\Documents\\ind_study\\test-IIM\\my-iim\\Lib\\site-packages\\torch\\utils\\data\\_utils\\fetch.py:52\u001b[39m, in \u001b[36m_MapDatasetFetcher.fetch\u001b[39m\u001b[34m(self, possibly_batched_index)\u001b[39m\n\u001b[32m     50\u001b[39m         data = \u001b[38;5;28mself\u001b[39m.dataset.__getitems__(possibly_batched_index)\n\u001b[32m     51\u001b[39m     \u001b[38;5;28;01melse\u001b[39;00m:\n\u001b[32m---> \u001b[39m\u001b[32m52\u001b[39m         data = [\u001b[38;5;28;43mself\u001b[39;49m\u001b[43m.\u001b[49m\u001b[43mdataset\u001b[49m\u001b[43m[\u001b[49m\u001b[43midx\u001b[49m\u001b[43m]\u001b[49m \u001b[38;5;28;01mfor\u001b[39;00m idx \u001b[38;5;129;01min\u001b[39;00m possibly_batched_index]\n\u001b[32m     53\u001b[39m \u001b[38;5;28;01melse\u001b[39;00m:\n\u001b[32m     54\u001b[39m     data = \u001b[38;5;28mself\u001b[39m.dataset[possibly_batched_index]\n",
      "\u001b[36mCell\u001b[39m\u001b[36m \u001b[39m\u001b[32mIn[21]\u001b[39m\u001b[32m, line 31\u001b[39m, in \u001b[36mSharedHeadDataset.__getitem__\u001b[39m\u001b[34m(self, idx)\u001b[39m\n\u001b[32m     20\u001b[39m     image = image.convert(\u001b[33m\"\u001b[39m\u001b[33mRGB\u001b[39m\u001b[33m\"\u001b[39m)\n\u001b[32m     22\u001b[39m transform = transforms.Compose([\n\u001b[32m     23\u001b[39m     transforms.Resize((IMAGE_SIZE, IMAGE_SIZE)),\n\u001b[32m     24\u001b[39m     transforms.RandomHorizontalFlip(),\n\u001b[32m   (...)\u001b[39m\u001b[32m     28\u001b[39m     transforms.Normalize([\u001b[32m0.485\u001b[39m, \u001b[32m0.456\u001b[39m, \u001b[32m0.406\u001b[39m], [\u001b[32m0.229\u001b[39m, \u001b[32m0.224\u001b[39m, \u001b[32m0.225\u001b[39m])\n\u001b[32m     29\u001b[39m ])\n\u001b[32m---> \u001b[39m\u001b[32m31\u001b[39m image_tensor = \u001b[43mtransform\u001b[49m\u001b[43m(\u001b[49m\u001b[43mimage\u001b[49m\u001b[43m)\u001b[49m\n\u001b[32m     32\u001b[39m label = \u001b[38;5;28mint\u001b[39m(row.label)\n\u001b[32m     34\u001b[39m brightness = torch.tensor(row.brightness_mean, dtype=torch.float32).unsqueeze(\u001b[32m0\u001b[39m)\n",
      "\u001b[36mFile \u001b[39m\u001b[32mc:\\Users\\rsriram3\\Documents\\ind_study\\test-IIM\\my-iim\\Lib\\site-packages\\torchvision\\transforms\\transforms.py:95\u001b[39m, in \u001b[36mCompose.__call__\u001b[39m\u001b[34m(self, img)\u001b[39m\n\u001b[32m     93\u001b[39m \u001b[38;5;28;01mdef\u001b[39;00m\u001b[38;5;250m \u001b[39m\u001b[34m__call__\u001b[39m(\u001b[38;5;28mself\u001b[39m, img):\n\u001b[32m     94\u001b[39m     \u001b[38;5;28;01mfor\u001b[39;00m t \u001b[38;5;129;01min\u001b[39;00m \u001b[38;5;28mself\u001b[39m.transforms:\n\u001b[32m---> \u001b[39m\u001b[32m95\u001b[39m         img = \u001b[43mt\u001b[49m\u001b[43m(\u001b[49m\u001b[43mimg\u001b[49m\u001b[43m)\u001b[49m\n\u001b[32m     96\u001b[39m     \u001b[38;5;28;01mreturn\u001b[39;00m img\n",
      "\u001b[36mFile \u001b[39m\u001b[32mc:\\Users\\rsriram3\\Documents\\ind_study\\test-IIM\\my-iim\\Lib\\site-packages\\torch\\nn\\modules\\module.py:1739\u001b[39m, in \u001b[36mModule._wrapped_call_impl\u001b[39m\u001b[34m(self, *args, **kwargs)\u001b[39m\n\u001b[32m   1737\u001b[39m     \u001b[38;5;28;01mreturn\u001b[39;00m \u001b[38;5;28mself\u001b[39m._compiled_call_impl(*args, **kwargs)  \u001b[38;5;66;03m# type: ignore[misc]\u001b[39;00m\n\u001b[32m   1738\u001b[39m \u001b[38;5;28;01melse\u001b[39;00m:\n\u001b[32m-> \u001b[39m\u001b[32m1739\u001b[39m     \u001b[38;5;28;01mreturn\u001b[39;00m \u001b[38;5;28;43mself\u001b[39;49m\u001b[43m.\u001b[49m\u001b[43m_call_impl\u001b[49m\u001b[43m(\u001b[49m\u001b[43m*\u001b[49m\u001b[43margs\u001b[49m\u001b[43m,\u001b[49m\u001b[43m \u001b[49m\u001b[43m*\u001b[49m\u001b[43m*\u001b[49m\u001b[43mkwargs\u001b[49m\u001b[43m)\u001b[49m\n",
      "\u001b[36mFile \u001b[39m\u001b[32mc:\\Users\\rsriram3\\Documents\\ind_study\\test-IIM\\my-iim\\Lib\\site-packages\\torch\\nn\\modules\\module.py:1750\u001b[39m, in \u001b[36mModule._call_impl\u001b[39m\u001b[34m(self, *args, **kwargs)\u001b[39m\n\u001b[32m   1745\u001b[39m \u001b[38;5;66;03m# If we don't have any hooks, we want to skip the rest of the logic in\u001b[39;00m\n\u001b[32m   1746\u001b[39m \u001b[38;5;66;03m# this function, and just call forward.\u001b[39;00m\n\u001b[32m   1747\u001b[39m \u001b[38;5;28;01mif\u001b[39;00m \u001b[38;5;129;01mnot\u001b[39;00m (\u001b[38;5;28mself\u001b[39m._backward_hooks \u001b[38;5;129;01mor\u001b[39;00m \u001b[38;5;28mself\u001b[39m._backward_pre_hooks \u001b[38;5;129;01mor\u001b[39;00m \u001b[38;5;28mself\u001b[39m._forward_hooks \u001b[38;5;129;01mor\u001b[39;00m \u001b[38;5;28mself\u001b[39m._forward_pre_hooks\n\u001b[32m   1748\u001b[39m         \u001b[38;5;129;01mor\u001b[39;00m _global_backward_pre_hooks \u001b[38;5;129;01mor\u001b[39;00m _global_backward_hooks\n\u001b[32m   1749\u001b[39m         \u001b[38;5;129;01mor\u001b[39;00m _global_forward_hooks \u001b[38;5;129;01mor\u001b[39;00m _global_forward_pre_hooks):\n\u001b[32m-> \u001b[39m\u001b[32m1750\u001b[39m     \u001b[38;5;28;01mreturn\u001b[39;00m \u001b[43mforward_call\u001b[49m\u001b[43m(\u001b[49m\u001b[43m*\u001b[49m\u001b[43margs\u001b[49m\u001b[43m,\u001b[49m\u001b[43m \u001b[49m\u001b[43m*\u001b[49m\u001b[43m*\u001b[49m\u001b[43mkwargs\u001b[49m\u001b[43m)\u001b[49m\n\u001b[32m   1752\u001b[39m result = \u001b[38;5;28;01mNone\u001b[39;00m\n\u001b[32m   1753\u001b[39m called_always_called_hooks = \u001b[38;5;28mset\u001b[39m()\n",
      "\u001b[36mFile \u001b[39m\u001b[32mc:\\Users\\rsriram3\\Documents\\ind_study\\test-IIM\\my-iim\\Lib\\site-packages\\torchvision\\transforms\\transforms.py:354\u001b[39m, in \u001b[36mResize.forward\u001b[39m\u001b[34m(self, img)\u001b[39m\n\u001b[32m    346\u001b[39m \u001b[38;5;28;01mdef\u001b[39;00m\u001b[38;5;250m \u001b[39m\u001b[34mforward\u001b[39m(\u001b[38;5;28mself\u001b[39m, img):\n\u001b[32m    347\u001b[39m \u001b[38;5;250m    \u001b[39m\u001b[33;03m\"\"\"\u001b[39;00m\n\u001b[32m    348\u001b[39m \u001b[33;03m    Args:\u001b[39;00m\n\u001b[32m    349\u001b[39m \u001b[33;03m        img (PIL Image or Tensor): Image to be scaled.\u001b[39;00m\n\u001b[32m   (...)\u001b[39m\u001b[32m    352\u001b[39m \u001b[33;03m        PIL Image or Tensor: Rescaled image.\u001b[39;00m\n\u001b[32m    353\u001b[39m \u001b[33;03m    \"\"\"\u001b[39;00m\n\u001b[32m--> \u001b[39m\u001b[32m354\u001b[39m     \u001b[38;5;28;01mreturn\u001b[39;00m \u001b[43mF\u001b[49m\u001b[43m.\u001b[49m\u001b[43mresize\u001b[49m\u001b[43m(\u001b[49m\u001b[43mimg\u001b[49m\u001b[43m,\u001b[49m\u001b[43m \u001b[49m\u001b[38;5;28;43mself\u001b[39;49m\u001b[43m.\u001b[49m\u001b[43msize\u001b[49m\u001b[43m,\u001b[49m\u001b[43m \u001b[49m\u001b[38;5;28;43mself\u001b[39;49m\u001b[43m.\u001b[49m\u001b[43minterpolation\u001b[49m\u001b[43m,\u001b[49m\u001b[43m \u001b[49m\u001b[38;5;28;43mself\u001b[39;49m\u001b[43m.\u001b[49m\u001b[43mmax_size\u001b[49m\u001b[43m,\u001b[49m\u001b[43m \u001b[49m\u001b[38;5;28;43mself\u001b[39;49m\u001b[43m.\u001b[49m\u001b[43mantialias\u001b[49m\u001b[43m)\u001b[49m\n",
      "\u001b[36mFile \u001b[39m\u001b[32mc:\\Users\\rsriram3\\Documents\\ind_study\\test-IIM\\my-iim\\Lib\\site-packages\\torchvision\\transforms\\functional.py:477\u001b[39m, in \u001b[36mresize\u001b[39m\u001b[34m(img, size, interpolation, max_size, antialias)\u001b[39m\n\u001b[32m    475\u001b[39m         warnings.warn(\u001b[33m\"\u001b[39m\u001b[33mAnti-alias option is always applied for PIL Image input. Argument antialias is ignored.\u001b[39m\u001b[33m\"\u001b[39m)\n\u001b[32m    476\u001b[39m     pil_interpolation = pil_modes_mapping[interpolation]\n\u001b[32m--> \u001b[39m\u001b[32m477\u001b[39m     \u001b[38;5;28;01mreturn\u001b[39;00m \u001b[43mF_pil\u001b[49m\u001b[43m.\u001b[49m\u001b[43mresize\u001b[49m\u001b[43m(\u001b[49m\u001b[43mimg\u001b[49m\u001b[43m,\u001b[49m\u001b[43m \u001b[49m\u001b[43msize\u001b[49m\u001b[43m=\u001b[49m\u001b[43moutput_size\u001b[49m\u001b[43m,\u001b[49m\u001b[43m \u001b[49m\u001b[43minterpolation\u001b[49m\u001b[43m=\u001b[49m\u001b[43mpil_interpolation\u001b[49m\u001b[43m)\u001b[49m\n\u001b[32m    479\u001b[39m \u001b[38;5;28;01mreturn\u001b[39;00m F_t.resize(img, size=output_size, interpolation=interpolation.value, antialias=antialias)\n",
      "\u001b[36mFile \u001b[39m\u001b[32mc:\\Users\\rsriram3\\Documents\\ind_study\\test-IIM\\my-iim\\Lib\\site-packages\\torchvision\\transforms\\_functional_pil.py:250\u001b[39m, in \u001b[36mresize\u001b[39m\u001b[34m(img, size, interpolation)\u001b[39m\n\u001b[32m    247\u001b[39m \u001b[38;5;28;01mif\u001b[39;00m \u001b[38;5;129;01mnot\u001b[39;00m (\u001b[38;5;28misinstance\u001b[39m(size, \u001b[38;5;28mlist\u001b[39m) \u001b[38;5;129;01mand\u001b[39;00m \u001b[38;5;28mlen\u001b[39m(size) == \u001b[32m2\u001b[39m):\n\u001b[32m    248\u001b[39m     \u001b[38;5;28;01mraise\u001b[39;00m \u001b[38;5;167;01mTypeError\u001b[39;00m(\u001b[33mf\u001b[39m\u001b[33m\"\u001b[39m\u001b[33mGot inappropriate size arg: \u001b[39m\u001b[38;5;132;01m{\u001b[39;00msize\u001b[38;5;132;01m}\u001b[39;00m\u001b[33m\"\u001b[39m)\n\u001b[32m--> \u001b[39m\u001b[32m250\u001b[39m \u001b[38;5;28;01mreturn\u001b[39;00m \u001b[43mimg\u001b[49m\u001b[43m.\u001b[49m\u001b[43mresize\u001b[49m\u001b[43m(\u001b[49m\u001b[38;5;28;43mtuple\u001b[39;49m\u001b[43m(\u001b[49m\u001b[43msize\u001b[49m\u001b[43m[\u001b[49m\u001b[43m:\u001b[49m\u001b[43m:\u001b[49m\u001b[43m-\u001b[49m\u001b[32;43m1\u001b[39;49m\u001b[43m]\u001b[49m\u001b[43m)\u001b[49m\u001b[43m,\u001b[49m\u001b[43m \u001b[49m\u001b[43minterpolation\u001b[49m\u001b[43m)\u001b[49m\n",
      "\u001b[36mFile \u001b[39m\u001b[32mc:\\Users\\rsriram3\\Documents\\ind_study\\test-IIM\\my-iim\\Lib\\site-packages\\PIL\\Image.py:2296\u001b[39m, in \u001b[36mImage.resize\u001b[39m\u001b[34m(self, size, resample, box, reducing_gap)\u001b[39m\n\u001b[32m   2293\u001b[39m     im = im.resize(size, resample, box)\n\u001b[32m   2294\u001b[39m     \u001b[38;5;28;01mreturn\u001b[39;00m im.convert(\u001b[38;5;28mself\u001b[39m.mode)\n\u001b[32m-> \u001b[39m\u001b[32m2296\u001b[39m \u001b[38;5;28;43mself\u001b[39;49m\u001b[43m.\u001b[49m\u001b[43mload\u001b[49m\u001b[43m(\u001b[49m\u001b[43m)\u001b[49m\n\u001b[32m   2298\u001b[39m \u001b[38;5;28;01mif\u001b[39;00m reducing_gap \u001b[38;5;129;01mis\u001b[39;00m \u001b[38;5;129;01mnot\u001b[39;00m \u001b[38;5;28;01mNone\u001b[39;00m \u001b[38;5;129;01mand\u001b[39;00m resample != Resampling.NEAREST:\n\u001b[32m   2299\u001b[39m     factor_x = \u001b[38;5;28mint\u001b[39m((box[\u001b[32m2\u001b[39m] - box[\u001b[32m0\u001b[39m]) / size[\u001b[32m0\u001b[39m] / reducing_gap) \u001b[38;5;129;01mor\u001b[39;00m \u001b[32m1\u001b[39m\n",
      "\u001b[36mFile \u001b[39m\u001b[32mc:\\Users\\rsriram3\\Documents\\ind_study\\test-IIM\\my-iim\\Lib\\site-packages\\PIL\\ImageFile.py:389\u001b[39m, in \u001b[36mImageFile.load\u001b[39m\u001b[34m(self)\u001b[39m\n\u001b[32m    386\u001b[39m         \u001b[38;5;28;01mraise\u001b[39;00m \u001b[38;5;167;01mOSError\u001b[39;00m(msg)\n\u001b[32m    388\u001b[39m b = b + s\n\u001b[32m--> \u001b[39m\u001b[32m389\u001b[39m n, err_code = \u001b[43mdecoder\u001b[49m\u001b[43m.\u001b[49m\u001b[43mdecode\u001b[49m\u001b[43m(\u001b[49m\u001b[43mb\u001b[49m\u001b[43m)\u001b[49m\n\u001b[32m    390\u001b[39m \u001b[38;5;28;01mif\u001b[39;00m n < \u001b[32m0\u001b[39m:\n\u001b[32m    391\u001b[39m     \u001b[38;5;28;01mbreak\u001b[39;00m\n",
      "\u001b[31mKeyboardInterrupt\u001b[39m: "
     ]
    }
   ],
   "source": [
    "for fold, (train_idx, val_idx) in enumerate(skf.split(full_df, full_df['label'])):\n",
    "    print(f\"\\n Fold {fold + 1} \")\n",
    "    # Get folds\n",
    "    train_df = full_df.iloc[train_idx]\n",
    "    val_df = full_df.iloc[val_idx]\n",
    "\n",
    "    # Save folds as CSVs\n",
    "    train_fold_path = FOLDS_DIR / f\"{history}_train_fold_{fold+1}.csv\"\n",
    "    val_fold_path = FOLDS_DIR / f\"{history}_val_fold_{fold+1}.csv\"\n",
    "    train_df.to_csv(train_fold_path, index=False)\n",
    "    val_df.to_csv(val_fold_path, index=False)\n",
    "\n",
    "    # Call training using paths\n",
    "    save_path.mkdir(parents=True, exist_ok=True)\n",
    "    model_save_path = save_path / f\"{model_name}_fold{fold+1}.pth\"\n",
    "    model, train_accs, val_accs = train_model(model_name, train_fold_path, val_fold_path, ROOT_DIR, model_save_path)\n",
    "\n",
    "    # Plot\n",
    "    plot_metrics(train_accs, val_accs, f\"{model_name}_fold{fold+1}\", plot_save_path)"
   ]
  },
  {
   "cell_type": "markdown",
   "id": "74b168fb",
   "metadata": {},
   "source": [
    "## EDGENEXT XX MODEL"
   ]
  },
  {
   "cell_type": "code",
   "execution_count": 40,
   "id": "9a863d3d",
   "metadata": {},
   "outputs": [],
   "source": [
    "model_configs = [\n",
    "    (\"swin_small_patch4_window7_224.ms_in1k\", \"swin_model.pth\"),\n",
    "    (\"coatnet_1_rw_224.sw_in1k\", \"coatnet_model.pth\"),\n",
    "    (\"convnext_small.fb_in1k\", \"convnext_model.pth\"),\n",
    "    (\"tiny_vit_5m_224.dist_in22k_ft_in1k\", \"tiny_vit_model.pth\"),\n",
    "    (\"edgenext_xx_small.in1k\", \"edgenext_xx_model.pth\")\n",
    "]\n",
    "\n",
    "# tiny_vit_5m_224, tiny_vit_11m_224, tiny_vit_21m_224\n",
    "# levit_128s, levit_128, levit_192, levit_256\n",
    "# efficientformer_l1, efficientformer_l3\n",
    "# edgenext_xx_small, edgenext_x_small, edgenext_small\n",
    "# mobilevitv2_050, mobilevitv2_075, mobilevitv2_100\n"
   ]
  },
  {
   "cell_type": "code",
   "execution_count": 55,
   "id": "e6197f86",
   "metadata": {},
   "outputs": [],
   "source": [
    "model_id = 4  # Example: edgenext_xx_model\n",
    "model_name = model_configs[model_id][0]\n",
    "history = model_configs[model_id][1]\n",
    "save_path = ROOT_DIR / \"models\" / history.split('.')[0]\n",
    "plot_save_path = Path(\"C:/Users/rsriram3/Documents/ind_study/test-IIM\") / \"figures\" / \"shared_head_figures\" / history.split('.')[0]\n",
    "plot_save_path.mkdir(parents=True, exist_ok=True)"
   ]
  },
  {
   "cell_type": "code",
   "execution_count": null,
   "id": "d6cfb854",
   "metadata": {},
   "outputs": [
    {
     "name": "stdout",
     "output_type": "stream",
     "text": [
      "\n",
      " Fold 1 \n",
      "\n",
      "[ Epoch 1/15 ]\n"
     ]
    },
    {
     "name": "stderr",
     "output_type": "stream",
     "text": [
      "                                                                                                         \r"
     ]
    },
    {
     "name": "stdout",
     "output_type": "stream",
     "text": [
      "Epoch 1 | Train Acc: 0.6826 | Val Acc: 1.0000\n",
      "\n",
      "[ Epoch 2/15 ]\n"
     ]
    },
    {
     "name": "stderr",
     "output_type": "stream",
     "text": [
      "                                                                                                         \r"
     ]
    },
    {
     "name": "stdout",
     "output_type": "stream",
     "text": [
      "Epoch 2 | Train Acc: 0.7578 | Val Acc: 1.0000\n",
      "\n",
      "[ Epoch 3/15 ]\n"
     ]
    },
    {
     "name": "stderr",
     "output_type": "stream",
     "text": [
      "                                                                                                         \r"
     ]
    },
    {
     "name": "stdout",
     "output_type": "stream",
     "text": [
      "Epoch 3 | Train Acc: 0.7767 | Val Acc: 1.0000\n",
      "\n",
      "[ Epoch 4/15 ]\n"
     ]
    },
    {
     "name": "stderr",
     "output_type": "stream",
     "text": [
      "                                                                                                         \r"
     ]
    },
    {
     "name": "stdout",
     "output_type": "stream",
     "text": [
      "Epoch 4 | Train Acc: 0.7892 | Val Acc: 1.0000\n",
      "\n",
      "[ Epoch 5/15 ]\n"
     ]
    },
    {
     "name": "stderr",
     "output_type": "stream",
     "text": [
      "                                                                                                         \r"
     ]
    },
    {
     "name": "stdout",
     "output_type": "stream",
     "text": [
      "Epoch 5 | Train Acc: 0.7846 | Val Acc: 1.0000\n",
      "\n",
      "[ Epoch 6/15 ]\n"
     ]
    },
    {
     "name": "stderr",
     "output_type": "stream",
     "text": [
      "                                                                                                         \r"
     ]
    },
    {
     "name": "stdout",
     "output_type": "stream",
     "text": [
      "Epoch 6 | Train Acc: 0.7654 | Val Acc: 1.0000\n",
      "\n",
      "[ Epoch 7/15 ]\n"
     ]
    },
    {
     "name": "stderr",
     "output_type": "stream",
     "text": [
      "                                                                                                         \r"
     ]
    },
    {
     "name": "stdout",
     "output_type": "stream",
     "text": [
      "Epoch 7 | Train Acc: 0.7591 | Val Acc: 1.0000\n",
      "\n",
      "[ Epoch 8/15 ]\n"
     ]
    },
    {
     "name": "stderr",
     "output_type": "stream",
     "text": [
      "                                                                                                         \r"
     ]
    },
    {
     "name": "stdout",
     "output_type": "stream",
     "text": [
      "Epoch 8 | Train Acc: 0.7683 | Val Acc: 1.0000\n",
      "\n",
      "[ Epoch 9/15 ]\n"
     ]
    },
    {
     "name": "stderr",
     "output_type": "stream",
     "text": [
      "                                                                                                         \r"
     ]
    },
    {
     "name": "stdout",
     "output_type": "stream",
     "text": [
      "Epoch 9 | Train Acc: 0.7821 | Val Acc: 1.0000\n",
      "\n",
      "[ Epoch 10/15 ]\n"
     ]
    },
    {
     "name": "stderr",
     "output_type": "stream",
     "text": [
      "                                                                                                         \r"
     ]
    },
    {
     "name": "stdout",
     "output_type": "stream",
     "text": [
      "Epoch 10 | Train Acc: 0.7808 | Val Acc: 1.0000\n",
      "\n",
      "[ Epoch 11/15 ]\n"
     ]
    },
    {
     "name": "stderr",
     "output_type": "stream",
     "text": [
      "                                                                                                         \r"
     ]
    },
    {
     "name": "stdout",
     "output_type": "stream",
     "text": [
      "Epoch 11 | Train Acc: 0.7917 | Val Acc: 1.0000\n",
      "\n",
      "[ Epoch 12/15 ]\n"
     ]
    },
    {
     "name": "stderr",
     "output_type": "stream",
     "text": [
      "                                                                                                         \r"
     ]
    },
    {
     "name": "stdout",
     "output_type": "stream",
     "text": [
      "Epoch 12 | Train Acc: 0.8135 | Val Acc: 1.0000\n",
      "\n",
      "[ Epoch 13/15 ]\n"
     ]
    },
    {
     "name": "stderr",
     "output_type": "stream",
     "text": [
      "                                                                                                         \r"
     ]
    },
    {
     "name": "stdout",
     "output_type": "stream",
     "text": [
      "Epoch 13 | Train Acc: 0.7896 | Val Acc: 1.0000\n",
      "\n",
      "[ Epoch 14/15 ]\n"
     ]
    },
    {
     "name": "stderr",
     "output_type": "stream",
     "text": [
      "                                                                                                         \r"
     ]
    },
    {
     "name": "stdout",
     "output_type": "stream",
     "text": [
      "Epoch 14 | Train Acc: 0.7662 | Val Acc: 1.0000\n",
      "\n",
      "[ Epoch 15/15 ]\n"
     ]
    },
    {
     "name": "stderr",
     "output_type": "stream",
     "text": [
      "                                                                                                         \r"
     ]
    },
    {
     "name": "stdout",
     "output_type": "stream",
     "text": [
      "Epoch 15 | Train Acc: 0.7917 | Val Acc: 1.0000\n",
      "\n",
      " Fold 2 \n",
      "\n",
      "[ Epoch 1/15 ]\n"
     ]
    },
    {
     "name": "stderr",
     "output_type": "stream",
     "text": [
      "                                                                                                         \r"
     ]
    },
    {
     "name": "stdout",
     "output_type": "stream",
     "text": [
      "Epoch 1 | Train Acc: 0.7817 | Val Acc: 0.9933\n",
      "\n",
      "[ Epoch 2/15 ]\n"
     ]
    },
    {
     "name": "stderr",
     "output_type": "stream",
     "text": [
      "                                                                                                         \r"
     ]
    },
    {
     "name": "stdout",
     "output_type": "stream",
     "text": [
      "Epoch 2 | Train Acc: 0.7997 | Val Acc: 0.9983\n",
      "\n",
      "[ Epoch 3/15 ]\n"
     ]
    },
    {
     "name": "stderr",
     "output_type": "stream",
     "text": [
      "                                                                                                         \r"
     ]
    },
    {
     "name": "stdout",
     "output_type": "stream",
     "text": [
      "Epoch 3 | Train Acc: 0.8139 | Val Acc: 0.9967\n",
      "\n",
      "[ Epoch 4/15 ]\n"
     ]
    },
    {
     "name": "stderr",
     "output_type": "stream",
     "text": [
      "                                                                                                         \r"
     ]
    },
    {
     "name": "stdout",
     "output_type": "stream",
     "text": [
      "Epoch 4 | Train Acc: 0.7725 | Val Acc: 1.0000\n",
      "\n",
      "[ Epoch 5/15 ]\n"
     ]
    },
    {
     "name": "stderr",
     "output_type": "stream",
     "text": [
      "                                                                                                         \r"
     ]
    },
    {
     "name": "stdout",
     "output_type": "stream",
     "text": [
      "Epoch 5 | Train Acc: 0.7796 | Val Acc: 1.0000\n",
      "\n",
      "[ Epoch 6/15 ]\n"
     ]
    },
    {
     "name": "stderr",
     "output_type": "stream",
     "text": [
      "                                                                                                         \r"
     ]
    },
    {
     "name": "stdout",
     "output_type": "stream",
     "text": [
      "Epoch 6 | Train Acc: 0.7503 | Val Acc: 1.0000\n",
      "\n",
      "[ Epoch 7/15 ]\n"
     ]
    },
    {
     "name": "stderr",
     "output_type": "stream",
     "text": [
      "                                                                                                         \r"
     ]
    },
    {
     "name": "stdout",
     "output_type": "stream",
     "text": [
      "Epoch 7 | Train Acc: 0.8055 | Val Acc: 1.0000\n",
      "\n",
      "[ Epoch 8/15 ]\n"
     ]
    },
    {
     "name": "stderr",
     "output_type": "stream",
     "text": [
      "                                                                                                         \r"
     ]
    },
    {
     "name": "stdout",
     "output_type": "stream",
     "text": [
      "Epoch 8 | Train Acc: 0.7662 | Val Acc: 1.0000\n",
      "\n",
      "[ Epoch 9/15 ]\n"
     ]
    },
    {
     "name": "stderr",
     "output_type": "stream",
     "text": [
      "                                                                                                         \r"
     ]
    },
    {
     "name": "stdout",
     "output_type": "stream",
     "text": [
      "Epoch 9 | Train Acc: 0.7616 | Val Acc: 1.0000\n",
      "\n",
      "[ Epoch 10/15 ]\n"
     ]
    },
    {
     "name": "stderr",
     "output_type": "stream",
     "text": [
      "                                                                                                         \r"
     ]
    },
    {
     "name": "stdout",
     "output_type": "stream",
     "text": [
      "Epoch 10 | Train Acc: 0.7792 | Val Acc: 1.0000\n",
      "\n",
      "[ Epoch 11/15 ]\n"
     ]
    },
    {
     "name": "stderr",
     "output_type": "stream",
     "text": [
      "                                                                                                         \r"
     ]
    },
    {
     "name": "stdout",
     "output_type": "stream",
     "text": [
      "Epoch 11 | Train Acc: 0.7863 | Val Acc: 1.0000\n",
      "\n",
      "[ Epoch 12/15 ]\n"
     ]
    },
    {
     "name": "stderr",
     "output_type": "stream",
     "text": [
      "                                                                                                         \r"
     ]
    },
    {
     "name": "stdout",
     "output_type": "stream",
     "text": [
      "Epoch 12 | Train Acc: 0.7762 | Val Acc: 1.0000\n",
      "\n",
      "[ Epoch 13/15 ]\n"
     ]
    },
    {
     "name": "stderr",
     "output_type": "stream",
     "text": [
      "                                                                                                         \r"
     ]
    },
    {
     "name": "stdout",
     "output_type": "stream",
     "text": [
      "Epoch 13 | Train Acc: 0.7604 | Val Acc: 1.0000\n",
      "\n",
      "[ Epoch 14/15 ]\n"
     ]
    },
    {
     "name": "stderr",
     "output_type": "stream",
     "text": [
      "                                                                                                         \r"
     ]
    },
    {
     "name": "stdout",
     "output_type": "stream",
     "text": [
      "Epoch 14 | Train Acc: 0.8001 | Val Acc: 1.0000\n",
      "\n",
      "[ Epoch 15/15 ]\n"
     ]
    },
    {
     "name": "stderr",
     "output_type": "stream",
     "text": [
      "                                                                                                         \r"
     ]
    },
    {
     "name": "stdout",
     "output_type": "stream",
     "text": [
      "Epoch 15 | Train Acc: 0.8206 | Val Acc: 1.0000\n",
      "\n",
      " Fold 3 \n",
      "\n",
      "[ Epoch 1/15 ]\n"
     ]
    },
    {
     "name": "stderr",
     "output_type": "stream",
     "text": [
      "                                                                                                         \r"
     ]
    },
    {
     "name": "stdout",
     "output_type": "stream",
     "text": [
      "Epoch 1 | Train Acc: 0.6796 | Val Acc: 0.9983\n",
      "\n",
      "[ Epoch 2/15 ]\n"
     ]
    },
    {
     "name": "stderr",
     "output_type": "stream",
     "text": [
      "                                                                                                         \r"
     ]
    },
    {
     "name": "stdout",
     "output_type": "stream",
     "text": [
      "Epoch 2 | Train Acc: 0.7942 | Val Acc: 0.9967\n",
      "\n",
      "[ Epoch 3/15 ]\n"
     ]
    },
    {
     "name": "stderr",
     "output_type": "stream",
     "text": [
      "                                                                                                         \r"
     ]
    },
    {
     "name": "stdout",
     "output_type": "stream",
     "text": [
      "Epoch 3 | Train Acc: 0.7946 | Val Acc: 0.9967\n",
      "\n",
      "[ Epoch 4/15 ]\n"
     ]
    },
    {
     "name": "stderr",
     "output_type": "stream",
     "text": [
      "                                                                                                         \r"
     ]
    },
    {
     "name": "stdout",
     "output_type": "stream",
     "text": [
      "Epoch 4 | Train Acc: 0.7796 | Val Acc: 0.9983\n",
      "\n",
      "[ Epoch 5/15 ]\n"
     ]
    },
    {
     "name": "stderr",
     "output_type": "stream",
     "text": [
      "                                                                                                         \r"
     ]
    },
    {
     "name": "stdout",
     "output_type": "stream",
     "text": [
      "Epoch 5 | Train Acc: 0.7449 | Val Acc: 0.9983\n",
      "\n",
      "[ Epoch 6/15 ]\n"
     ]
    },
    {
     "name": "stderr",
     "output_type": "stream",
     "text": [
      "                                                                                                         \r"
     ]
    },
    {
     "name": "stdout",
     "output_type": "stream",
     "text": [
      "Epoch 6 | Train Acc: 0.7813 | Val Acc: 0.9967\n",
      "\n",
      "[ Epoch 7/15 ]\n"
     ]
    },
    {
     "name": "stderr",
     "output_type": "stream",
     "text": [
      "                                                                                                         \r"
     ]
    },
    {
     "name": "stdout",
     "output_type": "stream",
     "text": [
      "Epoch 7 | Train Acc: 0.7624 | Val Acc: 1.0000\n",
      "\n",
      "[ Epoch 8/15 ]\n"
     ]
    },
    {
     "name": "stderr",
     "output_type": "stream",
     "text": [
      "                                                                                                         \r"
     ]
    },
    {
     "name": "stdout",
     "output_type": "stream",
     "text": [
      "Epoch 8 | Train Acc: 0.7988 | Val Acc: 1.0000\n",
      "\n",
      "[ Epoch 9/15 ]\n"
     ]
    },
    {
     "name": "stderr",
     "output_type": "stream",
     "text": [
      "                                                                                                         \r"
     ]
    },
    {
     "name": "stdout",
     "output_type": "stream",
     "text": [
      "Epoch 9 | Train Acc: 0.7921 | Val Acc: 0.9983\n",
      "\n",
      "[ Epoch 10/15 ]\n"
     ]
    },
    {
     "name": "stderr",
     "output_type": "stream",
     "text": [
      "                                                                                                         \r"
     ]
    },
    {
     "name": "stdout",
     "output_type": "stream",
     "text": [
      "Epoch 10 | Train Acc: 0.7951 | Val Acc: 0.9983\n",
      "\n",
      "[ Epoch 11/15 ]\n"
     ]
    },
    {
     "name": "stderr",
     "output_type": "stream",
     "text": [
      "                                                                                                         \r"
     ]
    },
    {
     "name": "stdout",
     "output_type": "stream",
     "text": [
      "Epoch 11 | Train Acc: 0.8327 | Val Acc: 1.0000\n",
      "\n",
      "[ Epoch 12/15 ]\n"
     ]
    },
    {
     "name": "stderr",
     "output_type": "stream",
     "text": [
      "                                                                                                         \r"
     ]
    },
    {
     "name": "stdout",
     "output_type": "stream",
     "text": [
      "Epoch 12 | Train Acc: 0.7629 | Val Acc: 0.9983\n",
      "\n",
      "[ Epoch 13/15 ]\n"
     ]
    },
    {
     "name": "stderr",
     "output_type": "stream",
     "text": [
      "                                                                                                         \r"
     ]
    },
    {
     "name": "stdout",
     "output_type": "stream",
     "text": [
      "Epoch 13 | Train Acc: 0.7884 | Val Acc: 1.0000\n",
      "\n",
      "[ Epoch 14/15 ]\n"
     ]
    },
    {
     "name": "stderr",
     "output_type": "stream",
     "text": [
      "                                                                                                         \r"
     ]
    },
    {
     "name": "stdout",
     "output_type": "stream",
     "text": [
      "Epoch 14 | Train Acc: 0.7687 | Val Acc: 0.9983\n",
      "\n",
      "[ Epoch 15/15 ]\n"
     ]
    },
    {
     "name": "stderr",
     "output_type": "stream",
     "text": [
      "                                                                                                         \r"
     ]
    },
    {
     "name": "stdout",
     "output_type": "stream",
     "text": [
      "Epoch 15 | Train Acc: 0.7775 | Val Acc: 0.9983\n",
      "\n",
      " Fold 4 \n",
      "\n",
      "[ Epoch 1/15 ]\n"
     ]
    },
    {
     "name": "stderr",
     "output_type": "stream",
     "text": [
      "                                                                                                         \r"
     ]
    },
    {
     "name": "stdout",
     "output_type": "stream",
     "text": [
      "Epoch 1 | Train Acc: 0.7265 | Val Acc: 0.9967\n",
      "\n",
      "[ Epoch 2/15 ]\n"
     ]
    },
    {
     "name": "stderr",
     "output_type": "stream",
     "text": [
      "                                                                                                         \r"
     ]
    },
    {
     "name": "stdout",
     "output_type": "stream",
     "text": [
      "Epoch 2 | Train Acc: 0.7972 | Val Acc: 0.9933\n",
      "\n",
      "[ Epoch 3/15 ]\n"
     ]
    },
    {
     "name": "stderr",
     "output_type": "stream",
     "text": [
      "                                                                                                         \r"
     ]
    },
    {
     "name": "stdout",
     "output_type": "stream",
     "text": [
      "Epoch 3 | Train Acc: 0.7562 | Val Acc: 1.0000\n",
      "\n",
      "[ Epoch 4/15 ]\n"
     ]
    },
    {
     "name": "stderr",
     "output_type": "stream",
     "text": [
      "                                                                                                         \r"
     ]
    },
    {
     "name": "stdout",
     "output_type": "stream",
     "text": [
      "Epoch 4 | Train Acc: 0.7704 | Val Acc: 1.0000\n",
      "\n",
      "[ Epoch 5/15 ]\n"
     ]
    },
    {
     "name": "stderr",
     "output_type": "stream",
     "text": [
      "                                                                                                         \r"
     ]
    },
    {
     "name": "stdout",
     "output_type": "stream",
     "text": [
      "Epoch 5 | Train Acc: 0.8026 | Val Acc: 1.0000\n",
      "\n",
      "[ Epoch 6/15 ]\n"
     ]
    },
    {
     "name": "stderr",
     "output_type": "stream",
     "text": [
      "                                                                                                         \r"
     ]
    },
    {
     "name": "stdout",
     "output_type": "stream",
     "text": [
      "Epoch 6 | Train Acc: 0.7988 | Val Acc: 1.0000\n",
      "\n",
      "[ Epoch 7/15 ]\n"
     ]
    },
    {
     "name": "stderr",
     "output_type": "stream",
     "text": [
      "                                                                                                         \r"
     ]
    },
    {
     "name": "stdout",
     "output_type": "stream",
     "text": [
      "Epoch 7 | Train Acc: 0.8381 | Val Acc: 1.0000\n",
      "\n",
      "[ Epoch 8/15 ]\n"
     ]
    },
    {
     "name": "stderr",
     "output_type": "stream",
     "text": [
      "                                                                                                         \r"
     ]
    },
    {
     "name": "stdout",
     "output_type": "stream",
     "text": [
      "Epoch 8 | Train Acc: 0.7491 | Val Acc: 1.0000\n",
      "\n",
      "[ Epoch 9/15 ]\n"
     ]
    },
    {
     "name": "stderr",
     "output_type": "stream",
     "text": [
      "                                                                                                         \r"
     ]
    },
    {
     "name": "stdout",
     "output_type": "stream",
     "text": [
      "Epoch 9 | Train Acc: 0.7892 | Val Acc: 1.0000\n",
      "\n",
      "[ Epoch 10/15 ]\n"
     ]
    },
    {
     "name": "stderr",
     "output_type": "stream",
     "text": [
      "                                                                                                         \r"
     ]
    },
    {
     "name": "stdout",
     "output_type": "stream",
     "text": [
      "Epoch 10 | Train Acc: 0.7750 | Val Acc: 0.9967\n",
      "\n",
      "[ Epoch 11/15 ]\n"
     ]
    },
    {
     "name": "stderr",
     "output_type": "stream",
     "text": [
      "                                                                                                         \r"
     ]
    },
    {
     "name": "stdout",
     "output_type": "stream",
     "text": [
      "Epoch 11 | Train Acc: 0.8093 | Val Acc: 1.0000\n",
      "\n",
      "[ Epoch 12/15 ]\n"
     ]
    },
    {
     "name": "stderr",
     "output_type": "stream",
     "text": [
      "                                                                                                         \r"
     ]
    },
    {
     "name": "stdout",
     "output_type": "stream",
     "text": [
      "Epoch 12 | Train Acc: 0.7654 | Val Acc: 1.0000\n",
      "\n",
      "[ Epoch 13/15 ]\n"
     ]
    },
    {
     "name": "stderr",
     "output_type": "stream",
     "text": [
      "                                                                                                         \r"
     ]
    },
    {
     "name": "stdout",
     "output_type": "stream",
     "text": [
      "Epoch 13 | Train Acc: 0.7796 | Val Acc: 1.0000\n",
      "\n",
      "[ Epoch 14/15 ]\n"
     ]
    },
    {
     "name": "stderr",
     "output_type": "stream",
     "text": [
      "                                                                                                         \r"
     ]
    },
    {
     "name": "stdout",
     "output_type": "stream",
     "text": [
      "Epoch 14 | Train Acc: 0.7558 | Val Acc: 1.0000\n",
      "\n",
      "[ Epoch 15/15 ]\n"
     ]
    },
    {
     "name": "stderr",
     "output_type": "stream",
     "text": [
      "                                                                                                         \r"
     ]
    },
    {
     "name": "stdout",
     "output_type": "stream",
     "text": [
      "Epoch 15 | Train Acc: 0.7758 | Val Acc: 1.0000\n",
      "\n",
      " Fold 5 \n",
      "\n",
      "[ Epoch 1/15 ]\n"
     ]
    },
    {
     "name": "stderr",
     "output_type": "stream",
     "text": [
      "                                                                                                         \r"
     ]
    },
    {
     "name": "stdout",
     "output_type": "stream",
     "text": [
      "Epoch 1 | Train Acc: 0.7717 | Val Acc: 0.9983\n",
      "\n",
      "[ Epoch 2/15 ]\n"
     ]
    },
    {
     "name": "stderr",
     "output_type": "stream",
     "text": [
      "                                                                                                         \r"
     ]
    },
    {
     "name": "stdout",
     "output_type": "stream",
     "text": [
      "Epoch 2 | Train Acc: 0.7897 | Val Acc: 1.0000\n",
      "\n",
      "[ Epoch 3/15 ]\n"
     ]
    },
    {
     "name": "stderr",
     "output_type": "stream",
     "text": [
      "                                                                                                         \r"
     ]
    },
    {
     "name": "stdout",
     "output_type": "stream",
     "text": [
      "Epoch 3 | Train Acc: 0.8089 | Val Acc: 1.0000\n",
      "\n",
      "[ Epoch 4/15 ]\n"
     ]
    },
    {
     "name": "stderr",
     "output_type": "stream",
     "text": [
      "                                                                                                         \r"
     ]
    },
    {
     "name": "stdout",
     "output_type": "stream",
     "text": [
      "Epoch 4 | Train Acc: 0.7910 | Val Acc: 1.0000\n",
      "\n",
      "[ Epoch 5/15 ]\n"
     ]
    },
    {
     "name": "stderr",
     "output_type": "stream",
     "text": [
      "                                                                                                         \r"
     ]
    },
    {
     "name": "stdout",
     "output_type": "stream",
     "text": [
      "Epoch 5 | Train Acc: 0.7897 | Val Acc: 1.0000\n",
      "\n",
      "[ Epoch 6/15 ]\n"
     ]
    },
    {
     "name": "stderr",
     "output_type": "stream",
     "text": [
      "                                                                                                         \r"
     ]
    },
    {
     "name": "stdout",
     "output_type": "stream",
     "text": [
      "Epoch 6 | Train Acc: 0.7408 | Val Acc: 1.0000\n",
      "\n",
      "[ Epoch 7/15 ]\n"
     ]
    },
    {
     "name": "stderr",
     "output_type": "stream",
     "text": [
      "                                                                                                         \r"
     ]
    },
    {
     "name": "stdout",
     "output_type": "stream",
     "text": [
      "Epoch 7 | Train Acc: 0.8219 | Val Acc: 1.0000\n",
      "\n",
      "[ Epoch 8/15 ]\n"
     ]
    },
    {
     "name": "stderr",
     "output_type": "stream",
     "text": [
      "                                                                                                         \r"
     ]
    },
    {
     "name": "stdout",
     "output_type": "stream",
     "text": [
      "Epoch 8 | Train Acc: 0.7993 | Val Acc: 1.0000\n",
      "\n",
      "[ Epoch 9/15 ]\n"
     ]
    },
    {
     "name": "stderr",
     "output_type": "stream",
     "text": [
      "                                                                                                         \r"
     ]
    },
    {
     "name": "stdout",
     "output_type": "stream",
     "text": [
      "Epoch 9 | Train Acc: 0.8060 | Val Acc: 1.0000\n",
      "\n",
      "[ Epoch 10/15 ]\n"
     ]
    },
    {
     "name": "stderr",
     "output_type": "stream",
     "text": [
      "                                                                                                         \r"
     ]
    },
    {
     "name": "stdout",
     "output_type": "stream",
     "text": [
      "Epoch 10 | Train Acc: 0.8094 | Val Acc: 1.0000\n",
      "\n",
      "[ Epoch 11/15 ]\n"
     ]
    },
    {
     "name": "stderr",
     "output_type": "stream",
     "text": [
      "                                                                                                         \r"
     ]
    },
    {
     "name": "stdout",
     "output_type": "stream",
     "text": [
      "Epoch 11 | Train Acc: 0.8018 | Val Acc: 1.0000\n",
      "\n",
      "[ Epoch 12/15 ]\n"
     ]
    },
    {
     "name": "stderr",
     "output_type": "stream",
     "text": [
      "                                                                                                         \r"
     ]
    },
    {
     "name": "stdout",
     "output_type": "stream",
     "text": [
      "Epoch 12 | Train Acc: 0.8052 | Val Acc: 1.0000\n",
      "\n",
      "[ Epoch 13/15 ]\n"
     ]
    },
    {
     "name": "stderr",
     "output_type": "stream",
     "text": [
      "                                                                                                         \r"
     ]
    },
    {
     "name": "stdout",
     "output_type": "stream",
     "text": [
      "Epoch 13 | Train Acc: 0.7759 | Val Acc: 1.0000\n",
      "\n",
      "[ Epoch 14/15 ]\n"
     ]
    },
    {
     "name": "stderr",
     "output_type": "stream",
     "text": [
      "                                                                                                         \r"
     ]
    },
    {
     "name": "stdout",
     "output_type": "stream",
     "text": [
      "Epoch 14 | Train Acc: 0.7814 | Val Acc: 1.0000\n",
      "\n",
      "[ Epoch 15/15 ]\n"
     ]
    },
    {
     "name": "stderr",
     "output_type": "stream",
     "text": [
      "                                                                                                         \r"
     ]
    },
    {
     "name": "stdout",
     "output_type": "stream",
     "text": [
      "Epoch 15 | Train Acc: 0.8127 | Val Acc: 1.0000\n"
     ]
    }
   ],
   "source": [
    "for fold, (train_idx, val_idx) in enumerate(skf.split(full_df, full_df['label'])):\n",
    "    print(f\"\\n Fold {fold + 1} \")\n",
    "    # Get folds\n",
    "    train_df = full_df.iloc[train_idx]\n",
    "    val_df = full_df.iloc[val_idx]\n",
    "\n",
    "    # Save folds as CSVs\n",
    "    train_fold_path = FOLDS_DIR / f\"{history}_train_fold_{fold+1}.csv\"\n",
    "    val_fold_path = FOLDS_DIR / f\"{history}_val_fold_{fold+1}.csv\"\n",
    "    train_df.to_csv(train_fold_path, index=False)\n",
    "    val_df.to_csv(val_fold_path, index=False)\n",
    "\n",
    "    # Call training using paths\n",
    "    save_path.mkdir(parents=True, exist_ok=True)\n",
    "    model_save_path = save_path / f\"{model_name}_fold{fold+1}.pth\"\n",
    "    model, train_accs, val_accs = train_model(model_name, train_fold_path, val_fold_path, ROOT_DIR, model_save_path)\n",
    "\n",
    "    # Plot\n",
    "    plot_metrics(train_accs, val_accs, f\"{model_name}_fold{fold+1}\", plot_save_path)\n"
   ]
  },
  {
   "cell_type": "code",
   "execution_count": null,
   "id": "07a4ca88",
   "metadata": {},
   "outputs": [],
   "source": []
  }
 ],
 "metadata": {
  "kernelspec": {
   "display_name": "my-iim",
   "language": "python",
   "name": "python3"
  },
  "language_info": {
   "codemirror_mode": {
    "name": "ipython",
    "version": 3
   },
   "file_extension": ".py",
   "mimetype": "text/x-python",
   "name": "python",
   "nbconvert_exporter": "python",
   "pygments_lexer": "ipython3",
   "version": "3.12.0"
  }
 },
 "nbformat": 4,
 "nbformat_minor": 5
}
