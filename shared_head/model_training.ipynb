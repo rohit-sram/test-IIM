{
 "cells": [
  {
   "cell_type": "code",
   "execution_count": 1,
   "id": "ee8ea569",
   "metadata": {},
   "outputs": [
    {
     "name": "stderr",
     "output_type": "stream",
     "text": [
      "c:\\Users\\rsriram3\\Documents\\ind_study\\test-IIM\\my-iim\\Lib\\site-packages\\tqdm\\auto.py:21: TqdmWarning: IProgress not found. Please update jupyter and ipywidgets. See https://ipywidgets.readthedocs.io/en/stable/user_install.html\n",
      "  from .autonotebook import tqdm as notebook_tqdm\n"
     ]
    }
   ],
   "source": [
    "# 🧩 Setup: Import and Configuration\n",
    "from pathlib import Path\n",
    "import pandas as pd\n",
    "import torch\n",
    "import torch.nn as nn\n",
    "from torch.utils.data import Dataset, DataLoader\n",
    "from torchvision import transforms\n",
    "from PIL import Image\n",
    "from timm import create_model\n",
    "from sklearn.metrics import accuracy_score, precision_score, recall_score, f1_score, confusion_matrix\n",
    "import matplotlib.pyplot as plt\n",
    "import gc\n",
    "import time\n",
    "from tqdm import tqdm\n",
    "from torch.amp import autocast, GradScaler\n",
    "import torch.nn.functional as F\n",
    "import random\n",
    "import numpy as np\n",
    "import os"
   ]
  },
  {
   "cell_type": "code",
   "execution_count": 2,
   "id": "ffa68a53",
   "metadata": {},
   "outputs": [],
   "source": [
    "# Constants\n",
    "IMAGE_SIZE = 224\n",
    "BATCH_SIZE = 32\n",
    "NUM_CLASSES = 2\n",
    "EPOCHS = 15\n",
    "DEVICE = 'cuda' if torch.cuda.is_available() else 'cpu'\n",
    "USE_MIXUP = True\n",
    "ALPHA_MIXUP = 0.4\n",
    "TEMPERATURE = 2.0\n",
    "\n",
    "# Local Paths\n",
    "ROOT_DIR = Path(\"C:/Users/rsriram3/Documents/ind_study\")\n",
    "OUTPUT_DIR = ROOT_DIR / \"data\"\n",
    "TRAIN_CSV = OUTPUT_DIR / \"train_split_augmented.csv\"\n",
    "TEST_CSV = OUTPUT_DIR / \"test_split_augmented.csv\"\n",
    "CHECKPOINT_DIR = OUTPUT_DIR / \"best_checkpoints\"\n",
    "CHECKPOINT_DIR.mkdir(parents=True, exist_ok=True)"
   ]
  },
  {
   "cell_type": "code",
   "execution_count": 3,
   "id": "e47a5a5c",
   "metadata": {},
   "outputs": [],
   "source": [
    "# Dataset Definition (with engineered features)\n",
    "class SharedHeadDataset(Dataset):\n",
    "    def __init__(self, csv_file, root_dir):\n",
    "        self.data = pd.read_csv(csv_file)\n",
    "        self.root_dir = Path(root_dir)\n",
    "\n",
    "    def __len__(self):\n",
    "        return len(self.data)\n",
    "\n",
    "    def __getitem__(self, idx):\n",
    "        row = self.data.iloc[idx]\n",
    "        img_path = self.root_dir / row.image\n",
    "        try:\n",
    "            image = Image.open(img_path)\n",
    "        except Exception as e:\n",
    "            print(f\"[ Failed to load image: {img_path}, error: {e}\")\n",
    "            return self.__getitem__((idx + 1) % len(self.data))\n",
    "\n",
    "        if image.mode != 'RGB':\n",
    "            image = image.convert(\"RGB\")\n",
    "\n",
    "        transform = transforms.Compose([\n",
    "            transforms.Resize((IMAGE_SIZE, IMAGE_SIZE)),\n",
    "            transforms.RandomHorizontalFlip(),\n",
    "            transforms.RandomResizedCrop(IMAGE_SIZE, scale=(0.85, 1.0)),\n",
    "            transforms.ColorJitter(brightness=0.2, contrast=0.2),\n",
    "            transforms.ToTensor(),\n",
    "            transforms.Normalize([0.485, 0.456, 0.406], [0.229, 0.224, 0.225])\n",
    "        ])\n",
    "\n",
    "        image_tensor = transform(image)\n",
    "        label = int(row.label)\n",
    "\n",
    "        brightness = torch.tensor(row.brightness_mean, dtype=torch.float32).unsqueeze(0)\n",
    "        edge_density = torch.tensor(row.edge_density, dtype=torch.float32).unsqueeze(0)\n",
    "        entropy = torch.tensor(row.entropy, dtype=torch.float32).unsqueeze(0)\n",
    "\n",
    "        channel_mode = row.channel_mode\n",
    "        if channel_mode == 'rgb':\n",
    "            channel_tensor = torch.tensor([1.0, 0.0])\n",
    "        elif channel_mode == 'ir':\n",
    "            channel_tensor = torch.tensor([0.0, 1.0])\n",
    "        else:\n",
    "            channel_tensor = torch.tensor([0.0, 0.0])\n",
    "\n",
    "        # aux_features = torch.cat([brightness, edge_density, entropy, channel_tensor], dim=0)\n",
    "        aux_features = torch.cat([brightness, edge_density, entropy], dim=0)\n",
    "\n",
    "        return image_tensor, aux_features, label\n"
   ]
  },
  {
   "cell_type": "code",
   "execution_count": 4,
   "id": "4bdcc2cc",
   "metadata": {},
   "outputs": [],
   "source": [
    "# Collate Function\n",
    "def collate_fun(batch):\n",
    "    images, aux_feats, labels = zip(*batch)\n",
    "    return torch.stack(images), torch.stack(aux_feats), torch.tensor(labels)"
   ]
  },
  {
   "cell_type": "code",
   "execution_count": 5,
   "id": "6863bbb6",
   "metadata": {},
   "outputs": [],
   "source": [
    "# Model Definition\n",
    "class ExtendedModel(nn.Module):\n",
    "    # def __init__(self, backbone_name, num_aux_features=5, num_classes=2): ## ORIGINALLY num_features=5\n",
    "    def __init__(self, backbone_name, num_aux_features=3, num_classes=2):\n",
    "        super().__init__()\n",
    "        self.backbone = create_model(backbone_name, pretrained=True, num_classes=0)\n",
    "        backbone_output_dim = self.backbone.num_features\n",
    "        self.backbone.reset_classifier(0)\n",
    "        self.classifier = nn.Sequential(\n",
    "            nn.Linear(backbone_output_dim + num_aux_features, 256),\n",
    "            nn.ReLU(),\n",
    "            nn.Dropout(0.3),\n",
    "            nn.Linear(256, num_classes)\n",
    "        )\n",
    "\n",
    "    def forward(self, x, aux):\n",
    "        feats = self.backbone(x)\n",
    "        combined = torch.cat([feats, aux], dim=1)\n",
    "        return self.classifier(combined)\n",
    "\n",
    "# 🧪 Evaluation\n",
    "def evaluate_model(model, dataloader):\n",
    "    model.eval()\n",
    "    preds, targets = [], []\n",
    "    with torch.no_grad():\n",
    "        for images, aux, labels in dataloader:\n",
    "            images, aux = images.to(DEVICE), aux.to(DEVICE)\n",
    "            outputs = model(images, aux)\n",
    "            preds.extend(torch.argmax(outputs, dim=1).cpu().tolist())\n",
    "            targets.extend(labels.tolist())\n",
    "    acc = accuracy_score(targets, preds)\n",
    "    prec = precision_score(targets, preds)\n",
    "    rec = recall_score(targets, preds)\n",
    "    f1 = f1_score(targets, preds)\n",
    "    cm = confusion_matrix(targets, preds)\n",
    "    return acc, prec, rec, f1, cm\n"
   ]
  },
  {
   "cell_type": "code",
   "execution_count": 6,
   "id": "fddb7695",
   "metadata": {},
   "outputs": [],
   "source": [
    "# Plotting Accuracy\n",
    "def plot_metrics(train_accs, val_accs, model_name, save_path):\n",
    "    save_path.mkdir(parents=True, exist_ok=True)\n",
    "\n",
    "    plt.figure(figsize=(10, 6))\n",
    "    plt.plot(train_accs, label='Train Accuracy')\n",
    "    plt.plot(val_accs, label='Validation Accuracy')\n",
    "    plt.title(f'Training vs Validation Accuracy - {model_name}')\n",
    "    plt.xlabel('Epoch')\n",
    "    plt.ylabel('Accuracy')\n",
    "    plt.legend()\n",
    "    plt.grid(True)\n",
    "    save_path = save_path / f'{model_name}_accuracy_plot.png'\n",
    "    plt.savefig(save_path)\n",
    "    plt.close()"
   ]
  },
  {
   "cell_type": "code",
   "execution_count": 7,
   "id": "5dece278",
   "metadata": {},
   "outputs": [],
   "source": [
    "#  Mixup Training\n",
    "def mixup_data(x, y, alpha=1.0):\n",
    "    lam = np.random.beta(alpha, alpha) if alpha > 0 else 1\n",
    "    batch_size = x.size(0)\n",
    "    index = torch.randperm(batch_size).to(x.device)\n",
    "    mixed_x = lam * x + (1 - lam) * x[index, :]\n",
    "    y_a, y_b = y, y[index]\n",
    "    return mixed_x, y_a, y_b, lam"
   ]
  },
  {
   "cell_type": "code",
   "execution_count": 8,
   "id": "fe38d388",
   "metadata": {},
   "outputs": [],
   "source": [
    "def mixup_criterion(pred, y_a, y_b, lam):\n",
    "    return lam * F.cross_entropy(pred, y_a) + (1 - lam) * F.cross_entropy(pred, y_b)"
   ]
  },
  {
   "cell_type": "markdown",
   "id": "1ce5d1cf",
   "metadata": {},
   "source": [
    "### ORIGINAL TRAINING PIPELINE - WITHOUT CROSS VALIDATION "
   ]
  },
  {
   "cell_type": "code",
   "execution_count": null,
   "id": "421bef10",
   "metadata": {},
   "outputs": [],
   "source": [
    "# Model Training Wrapper (ORIGINAL)\n",
    "def train_model(model_name, train_csv, test_csv, root_dir, save_path):\n",
    "    train_ds = SharedHeadDataset(train_csv, root_dir)\n",
    "    test_ds = SharedHeadDataset(test_csv, root_dir)\n",
    "    train_loader = DataLoader(train_ds, batch_size=BATCH_SIZE, shuffle=True, collate_fn=collate_fun, pin_memory=True)\n",
    "    test_loader = DataLoader(test_ds, batch_size=BATCH_SIZE, collate_fn=collate_fun, pin_memory=True)\n",
    "\n",
    "    model = ExtendedModel(model_name).to(DEVICE)\n",
    "    optimizer = torch.optim.AdamW(model.parameters(), lr=1e-4)\n",
    "    scheduler = torch.optim.lr_scheduler.CosineAnnealingWarmRestarts(optimizer, T_0=5, T_mult=2)\n",
    "    scaler = GradScaler()\n",
    "\n",
    "    train_accs, val_accs = [], []\n",
    "    best_acc = 0.0\n",
    "    previous_logits = None\n",
    "\n",
    "    for epoch in range(EPOCHS):\n",
    "        print(f\"\\n[ Epoch {epoch+1}/{EPOCHS} ]\")\n",
    "        model.train()\n",
    "        correct, total = 0, 0\n",
    "        progress = tqdm(train_loader, desc=f\"Training {model_name}\", leave=False)\n",
    "\n",
    "        for images, aux, labels in progress:\n",
    "            images, aux, labels = images.to(DEVICE), aux.to(DEVICE), labels.to(DEVICE)\n",
    "            optimizer.zero_grad()\n",
    "\n",
    "            if USE_MIXUP:\n",
    "                images, targets_a, targets_b, lam = mixup_data(images, labels, ALPHA_MIXUP)\n",
    "\n",
    "            with autocast(device_type='cuda'):\n",
    "                outputs = model(images, aux)\n",
    "                if USE_MIXUP:\n",
    "                    loss = mixup_criterion(outputs, targets_a, targets_b, lam)\n",
    "                else:\n",
    "                    loss = F.cross_entropy(outputs, labels)\n",
    "\n",
    "                if previous_logits is not None:\n",
    "                    soft_targets = F.softmax(previous_logits / TEMPERATURE, dim=1)\n",
    "                    distill_loss = F.kl_div(F.log_softmax(outputs / TEMPERATURE, dim=1), soft_targets, reduction='batchmean')\n",
    "                    loss += 0.5 * distill_loss\n",
    "\n",
    "            scaler.scale(loss).backward()\n",
    "            scaler.step(optimizer)\n",
    "            scaler.update()\n",
    "\n",
    "            preds = torch.argmax(outputs, dim=1)\n",
    "            correct += (preds == labels).sum().item()\n",
    "            total += labels.size(0)\n",
    "            progress.set_postfix({\"loss\": f\"{loss.item():.4f}\", \"acc\": f\"{correct / total:.4f}\"})\n",
    "\n",
    "        train_acc = correct / total\n",
    "        val_acc, _, _, _, _ = evaluate_model(model, test_loader)\n",
    "        train_accs.append(train_acc)\n",
    "        val_accs.append(val_acc)\n",
    "        print(f\"Epoch {epoch+1} | Train Acc: {train_acc:.4f} | Val Acc: {val_acc:.4f}\")\n",
    "\n",
    "        scheduler.step(epoch)\n",
    "        if val_acc > best_acc:\n",
    "            best_acc = val_acc\n",
    "            torch.save(model.state_dict(), CHECKPOINT_DIR / f\"{model_name}_best.pth\")\n",
    "\n",
    "        torch.cuda.empty_cache()\n",
    "        gc.collect()\n",
    "\n",
    "    torch.save(model.state_dict(), save_path)\n",
    "    return model, train_accs, val_accs"
   ]
  },
  {
   "cell_type": "code",
   "execution_count": 12,
   "id": "1d84f98a",
   "metadata": {},
   "outputs": [],
   "source": [
    "model_configs = [\n",
    "    (\"swin_small_patch4_window7_224.ms_in1k\", \"swin_model.pth\"),\n",
    "    (\"coatnet_1_rw_224.sw_in1k\", \"coatnet_model.pth\"),\n",
    "    (\"convnext_small.fb_in1k\", \"convnext_model.pth\")\n",
    "]"
   ]
  },
  {
   "cell_type": "code",
   "execution_count": null,
   "id": "60777c68",
   "metadata": {},
   "outputs": [
    {
     "name": "stderr",
     "output_type": "stream",
     "text": [
      "C:\\Users\\rsriram3\\AppData\\Local\\Temp\\ipykernel_27404\\2473531617.py:11: FutureWarning: `torch.cuda.amp.GradScaler(args...)` is deprecated. Please use `torch.amp.GradScaler('cuda', args...)` instead.\n",
      "  scaler = GradScaler()\n"
     ]
    },
    {
     "name": "stdout",
     "output_type": "stream",
     "text": [
      "\n",
      "[ Epoch 1/15 ]\n"
     ]
    },
    {
     "name": "stderr",
     "output_type": "stream",
     "text": [
      "                                                                                                         \r"
     ]
    },
    {
     "name": "stdout",
     "output_type": "stream",
     "text": [
      "Epoch 1 | Train Acc: 0.7919 | Val Acc: 1.0000\n",
      "\n",
      "[ Epoch 2/15 ]\n"
     ]
    },
    {
     "name": "stderr",
     "output_type": "stream",
     "text": [
      "                                                                                                         \r"
     ]
    },
    {
     "name": "stdout",
     "output_type": "stream",
     "text": [
      "Epoch 2 | Train Acc: 0.7554 | Val Acc: 1.0000\n",
      "\n",
      "[ Epoch 3/15 ]\n"
     ]
    },
    {
     "name": "stderr",
     "output_type": "stream",
     "text": [
      "                                                                                                         \r"
     ]
    },
    {
     "name": "stdout",
     "output_type": "stream",
     "text": [
      "Epoch 3 | Train Acc: 0.7859 | Val Acc: 1.0000\n",
      "\n",
      "[ Epoch 4/15 ]\n"
     ]
    },
    {
     "name": "stderr",
     "output_type": "stream",
     "text": [
      "                                                                                                         \r"
     ]
    },
    {
     "name": "stdout",
     "output_type": "stream",
     "text": [
      "Epoch 4 | Train Acc: 0.7899 | Val Acc: 1.0000\n",
      "\n",
      "[ Epoch 5/15 ]\n"
     ]
    },
    {
     "name": "stderr",
     "output_type": "stream",
     "text": [
      "                                                                                                         \r"
     ]
    },
    {
     "name": "stdout",
     "output_type": "stream",
     "text": [
      "Epoch 5 | Train Acc: 0.8126 | Val Acc: 1.0000\n",
      "\n",
      "[ Epoch 6/15 ]\n"
     ]
    },
    {
     "name": "stderr",
     "output_type": "stream",
     "text": [
      "                                                                                                         \r"
     ]
    },
    {
     "name": "stdout",
     "output_type": "stream",
     "text": [
      "Epoch 6 | Train Acc: 0.7876 | Val Acc: 1.0000\n",
      "\n",
      "[ Epoch 7/15 ]\n"
     ]
    },
    {
     "name": "stderr",
     "output_type": "stream",
     "text": [
      "                                                                                                         \r"
     ]
    },
    {
     "name": "stdout",
     "output_type": "stream",
     "text": [
      "Epoch 7 | Train Acc: 0.7886 | Val Acc: 1.0000\n",
      "\n",
      "[ Epoch 8/15 ]\n"
     ]
    },
    {
     "name": "stderr",
     "output_type": "stream",
     "text": [
      "                                                                                                         \r"
     ]
    },
    {
     "name": "stdout",
     "output_type": "stream",
     "text": [
      "Epoch 8 | Train Acc: 0.7621 | Val Acc: 1.0000\n",
      "\n",
      "[ Epoch 9/15 ]\n"
     ]
    },
    {
     "name": "stderr",
     "output_type": "stream",
     "text": [
      "                                                                                                         \r"
     ]
    },
    {
     "name": "stdout",
     "output_type": "stream",
     "text": [
      "Epoch 9 | Train Acc: 0.7912 | Val Acc: 1.0000\n",
      "\n",
      "[ Epoch 10/15 ]\n"
     ]
    },
    {
     "name": "stderr",
     "output_type": "stream",
     "text": [
      "                                                                                                         \r"
     ]
    },
    {
     "name": "stdout",
     "output_type": "stream",
     "text": [
      "Epoch 10 | Train Acc: 0.7765 | Val Acc: 1.0000\n",
      "\n",
      "[ Epoch 11/15 ]\n"
     ]
    },
    {
     "name": "stderr",
     "output_type": "stream",
     "text": [
      "                                                                                                         \r"
     ]
    },
    {
     "name": "stdout",
     "output_type": "stream",
     "text": [
      "Epoch 11 | Train Acc: 0.7832 | Val Acc: 1.0000\n",
      "\n",
      "[ Epoch 12/15 ]\n"
     ]
    },
    {
     "name": "stderr",
     "output_type": "stream",
     "text": [
      "                                                                                                         \r"
     ]
    },
    {
     "name": "stdout",
     "output_type": "stream",
     "text": [
      "Epoch 12 | Train Acc: 0.8190 | Val Acc: 1.0000\n",
      "\n",
      "[ Epoch 13/15 ]\n"
     ]
    },
    {
     "name": "stderr",
     "output_type": "stream",
     "text": [
      "                                                                                                         \r"
     ]
    },
    {
     "name": "stdout",
     "output_type": "stream",
     "text": [
      "Epoch 13 | Train Acc: 0.8023 | Val Acc: 1.0000\n",
      "\n",
      "[ Epoch 14/15 ]\n"
     ]
    },
    {
     "name": "stderr",
     "output_type": "stream",
     "text": [
      "                                                                                                         \r"
     ]
    },
    {
     "name": "stdout",
     "output_type": "stream",
     "text": [
      "Epoch 14 | Train Acc: 0.7772 | Val Acc: 1.0000\n",
      "\n",
      "[ Epoch 15/15 ]\n"
     ]
    },
    {
     "name": "stderr",
     "output_type": "stream",
     "text": [
      "                                                                                                         \r"
     ]
    },
    {
     "name": "stdout",
     "output_type": "stream",
     "text": [
      "Epoch 15 | Train Acc: 0.8103 | Val Acc: 1.0000\n"
     ]
    }
   ],
   "source": [
    "model_id = 2  # Example: ConvNeXt\n",
    "model_name = model_configs[model_id][0]\n",
    "history = model_configs[model_id][1]\n",
    "save_path = ROOT_DIR / \"models\" / model_configs[model_id][1]\n",
    "\n",
    "# Train\n",
    "model, train_accs, val_accs = train_model(model_name, TRAIN_CSV, TEST_CSV, ROOT_DIR, save_path)"
   ]
  },
  {
   "cell_type": "code",
   "execution_count": 26,
   "id": "f13c89ef",
   "metadata": {},
   "outputs": [
    {
     "name": "stdout",
     "output_type": "stream",
     "text": [
      "Confusion Matrix:\n",
      " [[954   0]\n",
      " [  0 198]]\n"
     ]
    },
    {
     "data": {
      "image/png": "[encoded data removed]",
      "text/plain": [
       "<Figure size 800x500 with 1 Axes>"
      ]
     },
     "metadata": {},
     "output_type": "display_data"
    }
   ],
   "source": [
    "# 🧪 Reload and Evaluate\n",
    "checkpoint_path = CHECKPOINT_DIR / f\"{model_name}_best.pth\"\n",
    "# model = create_model(model_name, pretrained=False, num_classes=NUM_CLASSES).to(DEVICE)\n",
    "model = ExtendedModel(model_name, num_aux_features=3, num_classes=NUM_CLASSES).to(DEVICE)\n",
    "model.load_state_dict(torch.load(checkpoint_path))\n",
    "\n",
    "test_loader = DataLoader(\n",
    "    SharedHeadDataset(TEST_CSV, ROOT_DIR),\n",
    "    batch_size=BATCH_SIZE,\n",
    "    collate_fn=collate_fun\n",
    ")\n",
    "\n",
    "_, _, _, _, cm = evaluate_model(model, test_loader)\n",
    "print(\"Confusion Matrix:\\n\", cm)\n",
    "\n",
    "# 📉 Plot Metrics\n",
    "plot_metrics(train_accs, val_accs, model_name)"
   ]
  },
  {
   "cell_type": "markdown",
   "id": "90c86692",
   "metadata": {},
   "source": [
    "### TRAINING PIPELINE - WITH STRATIFIED 5 FOLD CROSS VALIDATION "
   ]
  },
  {
   "cell_type": "code",
   "execution_count": 9,
   "id": "1a521df5",
   "metadata": {},
   "outputs": [],
   "source": [
    "# Model Training Wrapper - Updated checkpoint logic\n",
    "def train_model(model_name, train_csv, test_csv, root_dir, save_path):\n",
    "    train_ds = SharedHeadDataset(train_csv, root_dir)\n",
    "    test_ds = SharedHeadDataset(test_csv, root_dir)\n",
    "    train_loader = DataLoader(train_ds, batch_size=BATCH_SIZE, shuffle=True, collate_fn=collate_fun, pin_memory=True)\n",
    "    test_loader = DataLoader(test_ds, batch_size=BATCH_SIZE, collate_fn=collate_fun, pin_memory=True)\n",
    "\n",
    "    model = ExtendedModel(model_name).to(DEVICE)\n",
    "    optimizer = torch.optim.AdamW(model.parameters(), lr=1e-4)\n",
    "    scheduler = torch.optim.lr_scheduler.CosineAnnealingWarmRestarts(optimizer, T_0=5, T_mult=2)\n",
    "    scaler = GradScaler()\n",
    "\n",
    "    train_accs, val_accs = [], []\n",
    "    best_val_acc = 0.0\n",
    "    best_train_acc = 0.0\n",
    "    previous_logits = None\n",
    "\n",
    "    for epoch in range(EPOCHS):\n",
    "        print(f\"\\n[ Epoch {epoch+1}/{EPOCHS} ]\")\n",
    "        model.train()\n",
    "        correct, total = 0, 0\n",
    "        progress = tqdm(train_loader, desc=f\"Training {model_name}\", leave=False)\n",
    "\n",
    "        for images, aux, labels in progress:\n",
    "            images, aux, labels = images.to(DEVICE), aux.to(DEVICE), labels.to(DEVICE)\n",
    "            optimizer.zero_grad()\n",
    "\n",
    "            if USE_MIXUP:\n",
    "                images, targets_a, targets_b, lam = mixup_data(images, labels, ALPHA_MIXUP)\n",
    "\n",
    "            with autocast(device_type='cuda'):\n",
    "                outputs = model(images, aux)\n",
    "                if USE_MIXUP:\n",
    "                    loss = mixup_criterion(outputs, targets_a, targets_b, lam)\n",
    "                else:\n",
    "                    loss = F.cross_entropy(outputs, labels)\n",
    "\n",
    "                if previous_logits is not None:\n",
    "                    soft_targets = F.softmax(previous_logits / TEMPERATURE, dim=1)\n",
    "                    distill_loss = F.kl_div(F.log_softmax(outputs / TEMPERATURE, dim=1), soft_targets, reduction='batchmean')\n",
    "                    loss += 0.5 * distill_loss\n",
    "\n",
    "            scaler.scale(loss).backward()\n",
    "            scaler.step(optimizer)\n",
    "            scaler.update()\n",
    "\n",
    "            preds = torch.argmax(outputs, dim=1)\n",
    "            correct += (preds == labels).sum().item()\n",
    "            total += labels.size(0)\n",
    "            progress.set_postfix({\"loss\": f\"{loss.item():.4f}\", \"acc\": f\"{correct / total:.4f}\"})\n",
    "\n",
    "        train_acc = correct / total\n",
    "        val_acc, _, _, _, _ = evaluate_model(model, test_loader)\n",
    "\n",
    "        train_accs.append(train_acc)\n",
    "        val_accs.append(val_acc)\n",
    "        print(f\"Epoch {epoch+1} | Train Acc: {train_acc:.4f} | Val Acc: {val_acc:.4f}\")\n",
    "\n",
    "        # Save checkpoint if train_acc or val_acc improves\n",
    "        if (train_acc > best_train_acc) or (val_acc > best_val_acc):\n",
    "            best_train_acc = max(best_train_acc, train_acc)\n",
    "            best_val_acc = max(best_val_acc, val_acc)\n",
    "            torch.save(model.state_dict(), CHECKPOINT_DIR / f\"{model_name}_best.pth\")\n",
    "\n",
    "        scheduler.step(epoch)\n",
    "        torch.cuda.empty_cache()\n",
    "        gc.collect()\n",
    "\n",
    "    torch.save(model.state_dict(), save_path)\n",
    "    return model, train_accs, val_accs"
   ]
  },
  {
   "cell_type": "code",
   "execution_count": 10,
   "id": "c24c5f85",
   "metadata": {},
   "outputs": [],
   "source": [
    "from sklearn.model_selection import StratifiedKFold\n",
    "\n",
    "# Run Stratified K-Fold Training\n",
    "full_df = pd.read_csv(OUTPUT_DIR / \"train_split_augmented.csv\")\n",
    "skf = StratifiedKFold(n_splits=5, shuffle=True, random_state=42)"
   ]
  },
  {
   "cell_type": "code",
   "execution_count": null,
   "id": "096af1ad",
   "metadata": {},
   "outputs": [
    {
     "data": {
      "text/plain": [
       "[('swin_small_patch4_window7_224.ms_in1k', 'swin_model.pth'),\n",
       " ('coatnet_1_rw_224.sw_in1k', 'coatnet_model.pth'),\n",
       " ('convnext_small.fb_in1k', 'convnext_model.pth')]"
      ]
     },
     "execution_count": 13,
     "metadata": {},
     "output_type": "execute_result"
    }
   ],
   "source": [
    "model_configs "
   ]
  },
  {
   "cell_type": "markdown",
   "id": "932b79ec",
   "metadata": {},
   "source": [
    "# ConvNeXt Model"
   ]
  },
  {
   "cell_type": "code",
   "execution_count": 14,
   "id": "924a3ccb",
   "metadata": {},
   "outputs": [],
   "source": [
    "model_id = 2  # Example: ConvNeXt\n",
    "model_name = model_configs[model_id][0]\n",
    "history = model_configs[model_id][1]\n",
    "save_path = ROOT_DIR / \"models\" / history"
   ]
  },
  {
   "cell_type": "code",
   "execution_count": 15,
   "id": "8d30c776",
   "metadata": {},
   "outputs": [],
   "source": [
    "# Create folds directory\n",
    "FOLDS_DIR = OUTPUT_DIR / \"folds\"\n",
    "FOLDS_DIR.mkdir(parents=True, exist_ok=True)"
   ]
  },
  {
   "cell_type": "code",
   "execution_count": null,
   "id": "bc356257",
   "metadata": {},
   "outputs": [
    {
     "name": "stdout",
     "output_type": "stream",
     "text": [
      "\n",
      " Fold 1 \n"
     ]
    },
    {
     "name": "stderr",
     "output_type": "stream",
     "text": [
      "C:\\Users\\rsriram3\\AppData\\Local\\Temp\\ipykernel_27404\\2473531617.py:11: FutureWarning: `torch.cuda.amp.GradScaler(args...)` is deprecated. Please use `torch.amp.GradScaler('cuda', args...)` instead.\n",
      "  scaler = GradScaler()\n"
     ]
    },
    {
     "name": "stdout",
     "output_type": "stream",
     "text": [
      "\n",
      "[ Epoch 1/15 ]\n"
     ]
    },
    {
     "name": "stderr",
     "output_type": "stream",
     "text": [
      "                                                                                                         \r"
     ]
    },
    {
     "name": "stdout",
     "output_type": "stream",
     "text": [
      "Epoch 1 | Train Acc: 0.6976 | Val Acc: 1.0000\n",
      "\n",
      "[ Epoch 2/15 ]\n"
     ]
    },
    {
     "name": "stderr",
     "output_type": "stream",
     "text": [
      "                                                                                                         \r"
     ]
    },
    {
     "name": "stdout",
     "output_type": "stream",
     "text": [
      "Epoch 2 | Train Acc: 0.8444 | Val Acc: 1.0000\n",
      "\n",
      "[ Epoch 3/15 ]\n"
     ]
    },
    {
     "name": "stderr",
     "output_type": "stream",
     "text": [
      "                                                                                                         \r"
     ]
    },
    {
     "name": "stdout",
     "output_type": "stream",
     "text": [
      "Epoch 3 | Train Acc: 0.7792 | Val Acc: 1.0000\n",
      "\n",
      "[ Epoch 4/15 ]\n"
     ]
    },
    {
     "name": "stderr",
     "output_type": "stream",
     "text": [
      "                                                                                                         \r"
     ]
    },
    {
     "name": "stdout",
     "output_type": "stream",
     "text": [
      "Epoch 4 | Train Acc: 0.8130 | Val Acc: 1.0000\n",
      "\n",
      "[ Epoch 5/15 ]\n"
     ]
    },
    {
     "name": "stderr",
     "output_type": "stream",
     "text": [
      "                                                                                                         \r"
     ]
    },
    {
     "name": "stdout",
     "output_type": "stream",
     "text": [
      "Epoch 5 | Train Acc: 0.7771 | Val Acc: 1.0000\n",
      "\n",
      "[ Epoch 6/15 ]\n"
     ]
    },
    {
     "name": "stderr",
     "output_type": "stream",
     "text": [
      "                                                                                                         \r"
     ]
    },
    {
     "name": "stdout",
     "output_type": "stream",
     "text": [
      "Epoch 6 | Train Acc: 0.7988 | Val Acc: 1.0000\n",
      "\n",
      "[ Epoch 7/15 ]\n"
     ]
    },
    {
     "name": "stderr",
     "output_type": "stream",
     "text": [
      "                                                                                                         \r"
     ]
    },
    {
     "name": "stdout",
     "output_type": "stream",
     "text": [
      "Epoch 7 | Train Acc: 0.8218 | Val Acc: 1.0000\n",
      "\n",
      "[ Epoch 8/15 ]\n"
     ]
    },
    {
     "name": "stderr",
     "output_type": "stream",
     "text": [
      "                                                                                                         \r"
     ]
    },
    {
     "name": "stdout",
     "output_type": "stream",
     "text": [
      "Epoch 8 | Train Acc: 0.8185 | Val Acc: 1.0000\n",
      "\n",
      "[ Epoch 9/15 ]\n"
     ]
    },
    {
     "name": "stderr",
     "output_type": "stream",
     "text": [
      "                                                                                                         \r"
     ]
    },
    {
     "name": "stdout",
     "output_type": "stream",
     "text": [
      "Epoch 9 | Train Acc: 0.8051 | Val Acc: 1.0000\n",
      "\n",
      "[ Epoch 10/15 ]\n"
     ]
    },
    {
     "name": "stderr",
     "output_type": "stream",
     "text": [
      "                                                                                                         \r"
     ]
    },
    {
     "name": "stdout",
     "output_type": "stream",
     "text": [
      "Epoch 10 | Train Acc: 0.8248 | Val Acc: 1.0000\n",
      "\n",
      "[ Epoch 11/15 ]\n"
     ]
    },
    {
     "name": "stderr",
     "output_type": "stream",
     "text": [
      "                                                                                                         \r"
     ]
    },
    {
     "name": "stdout",
     "output_type": "stream",
     "text": [
      "Epoch 11 | Train Acc: 0.8105 | Val Acc: 1.0000\n",
      "\n",
      "[ Epoch 12/15 ]\n"
     ]
    },
    {
     "name": "stderr",
     "output_type": "stream",
     "text": [
      "                                                                                                         \r"
     ]
    },
    {
     "name": "stdout",
     "output_type": "stream",
     "text": [
      "Epoch 12 | Train Acc: 0.7436 | Val Acc: 1.0000\n",
      "\n",
      "[ Epoch 13/15 ]\n"
     ]
    },
    {
     "name": "stderr",
     "output_type": "stream",
     "text": [
      "                                                                                                         \r"
     ]
    },
    {
     "name": "stdout",
     "output_type": "stream",
     "text": [
      "Epoch 13 | Train Acc: 0.8001 | Val Acc: 1.0000\n",
      "\n",
      "[ Epoch 14/15 ]\n"
     ]
    },
    {
     "name": "stderr",
     "output_type": "stream",
     "text": [
      "                                                                                                         \r"
     ]
    },
    {
     "name": "stdout",
     "output_type": "stream",
     "text": [
      "Epoch 14 | Train Acc: 0.7946 | Val Acc: 1.0000\n",
      "\n",
      "[ Epoch 15/15 ]\n"
     ]
    },
    {
     "name": "stderr",
     "output_type": "stream",
     "text": [
      "                                                                                                         \r"
     ]
    },
    {
     "name": "stdout",
     "output_type": "stream",
     "text": [
      "Epoch 15 | Train Acc: 0.7419 | Val Acc: 1.0000\n"
     ]
    },
    {
     "data": {
      "image/png": "[encoded data removed]",
      "text/plain": [
       "<Figure size 800x500 with 1 Axes>"
      ]
     },
     "metadata": {},
     "output_type": "display_data"
    },
    {
     "name": "stdout",
     "output_type": "stream",
     "text": [
      "\n",
      " Fold 2 \n"
     ]
    },
    {
     "name": "stderr",
     "output_type": "stream",
     "text": [
      "C:\\Users\\rsriram3\\AppData\\Local\\Temp\\ipykernel_27404\\2473531617.py:11: FutureWarning: `torch.cuda.amp.GradScaler(args...)` is deprecated. Please use `torch.amp.GradScaler('cuda', args...)` instead.\n",
      "  scaler = GradScaler()\n"
     ]
    },
    {
     "name": "stdout",
     "output_type": "stream",
     "text": [
      "\n",
      "[ Epoch 1/15 ]\n"
     ]
    },
    {
     "name": "stderr",
     "output_type": "stream",
     "text": [
      "                                                                                                         \r"
     ]
    },
    {
     "name": "stdout",
     "output_type": "stream",
     "text": [
      "Epoch 1 | Train Acc: 0.7436 | Val Acc: 0.9866\n",
      "\n",
      "[ Epoch 2/15 ]\n"
     ]
    },
    {
     "name": "stderr",
     "output_type": "stream",
     "text": [
      "                                                                                                         \r"
     ]
    },
    {
     "name": "stdout",
     "output_type": "stream",
     "text": [
      "Epoch 2 | Train Acc: 0.8043 | Val Acc: 1.0000\n",
      "\n",
      "[ Epoch 3/15 ]\n"
     ]
    },
    {
     "name": "stderr",
     "output_type": "stream",
     "text": [
      "                                                                                                         \r"
     ]
    },
    {
     "name": "stdout",
     "output_type": "stream",
     "text": [
      "Epoch 3 | Train Acc: 0.8072 | Val Acc: 1.0000\n",
      "\n",
      "[ Epoch 4/15 ]\n"
     ]
    },
    {
     "name": "stderr",
     "output_type": "stream",
     "text": [
      "                                                                                                         \r"
     ]
    },
    {
     "name": "stdout",
     "output_type": "stream",
     "text": [
      "Epoch 4 | Train Acc: 0.7988 | Val Acc: 1.0000\n",
      "\n",
      "[ Epoch 5/15 ]\n"
     ]
    },
    {
     "name": "stderr",
     "output_type": "stream",
     "text": [
      "                                                                                                         \r"
     ]
    },
    {
     "name": "stdout",
     "output_type": "stream",
     "text": [
      "Epoch 5 | Train Acc: 0.7892 | Val Acc: 1.0000\n",
      "\n",
      "[ Epoch 6/15 ]\n"
     ]
    },
    {
     "name": "stderr",
     "output_type": "stream",
     "text": [
      "                                                                                                         \r"
     ]
    },
    {
     "name": "stdout",
     "output_type": "stream",
     "text": [
      "Epoch 6 | Train Acc: 0.8256 | Val Acc: 1.0000\n",
      "\n",
      "[ Epoch 7/15 ]\n"
     ]
    },
    {
     "name": "stderr",
     "output_type": "stream",
     "text": [
      "                                                                                                         \r"
     ]
    },
    {
     "name": "stdout",
     "output_type": "stream",
     "text": [
      "Epoch 7 | Train Acc: 0.7930 | Val Acc: 1.0000\n",
      "\n",
      "[ Epoch 8/15 ]\n"
     ]
    },
    {
     "name": "stderr",
     "output_type": "stream",
     "text": [
      "                                                                                                         \r"
     ]
    },
    {
     "name": "stdout",
     "output_type": "stream",
     "text": [
      "Epoch 8 | Train Acc: 0.7984 | Val Acc: 1.0000\n",
      "\n",
      "[ Epoch 9/15 ]\n"
     ]
    },
    {
     "name": "stderr",
     "output_type": "stream",
     "text": [
      "                                                                                                         \r"
     ]
    },
    {
     "name": "stdout",
     "output_type": "stream",
     "text": [
      "Epoch 9 | Train Acc: 0.7679 | Val Acc: 1.0000\n",
      "\n",
      "[ Epoch 10/15 ]\n"
     ]
    },
    {
     "name": "stderr",
     "output_type": "stream",
     "text": [
      "                                                                                                         \r"
     ]
    },
    {
     "name": "stdout",
     "output_type": "stream",
     "text": [
      "Epoch 10 | Train Acc: 0.7909 | Val Acc: 1.0000\n",
      "\n",
      "[ Epoch 11/15 ]\n"
     ]
    },
    {
     "name": "stderr",
     "output_type": "stream",
     "text": [
      "                                                                                                         \r"
     ]
    },
    {
     "name": "stdout",
     "output_type": "stream",
     "text": [
      "Epoch 11 | Train Acc: 0.7687 | Val Acc: 1.0000\n",
      "\n",
      "[ Epoch 12/15 ]\n"
     ]
    },
    {
     "name": "stderr",
     "output_type": "stream",
     "text": [
      "                                                                                                         \r"
     ]
    },
    {
     "name": "stdout",
     "output_type": "stream",
     "text": [
      "Epoch 12 | Train Acc: 0.7813 | Val Acc: 1.0000\n",
      "\n",
      "[ Epoch 13/15 ]\n"
     ]
    },
    {
     "name": "stderr",
     "output_type": "stream",
     "text": [
      "                                                                                                         \r"
     ]
    },
    {
     "name": "stdout",
     "output_type": "stream",
     "text": [
      "Epoch 13 | Train Acc: 0.7863 | Val Acc: 1.0000\n",
      "\n",
      "[ Epoch 14/15 ]\n"
     ]
    },
    {
     "name": "stderr",
     "output_type": "stream",
     "text": [
      "                                                                                                         \r"
     ]
    },
    {
     "name": "stdout",
     "output_type": "stream",
     "text": [
      "Epoch 14 | Train Acc: 0.8352 | Val Acc: 1.0000\n",
      "\n",
      "[ Epoch 15/15 ]\n"
     ]
    },
    {
     "name": "stderr",
     "output_type": "stream",
     "text": [
      "                                                                                                         \r"
     ]
    },
    {
     "name": "stdout",
     "output_type": "stream",
     "text": [
      "Epoch 15 | Train Acc: 0.8160 | Val Acc: 1.0000\n"
     ]
    },
    {
     "data": {
      "image/png": "[encoded data removed]",
      "text/plain": [
       "<Figure size 800x500 with 1 Axes>"
      ]
     },
     "metadata": {},
     "output_type": "display_data"
    },
    {
     "name": "stdout",
     "output_type": "stream",
     "text": [
      "\n",
      " Fold 3 \n"
     ]
    },
    {
     "name": "stderr",
     "output_type": "stream",
     "text": [
      "C:\\Users\\rsriram3\\AppData\\Local\\Temp\\ipykernel_27404\\2473531617.py:11: FutureWarning: `torch.cuda.amp.GradScaler(args...)` is deprecated. Please use `torch.amp.GradScaler('cuda', args...)` instead.\n",
      "  scaler = GradScaler()\n"
     ]
    },
    {
     "name": "stdout",
     "output_type": "stream",
     "text": [
      "\n",
      "[ Epoch 1/15 ]\n"
     ]
    },
    {
     "name": "stderr",
     "output_type": "stream",
     "text": [
      "                                                                                                         \r"
     ]
    },
    {
     "name": "stdout",
     "output_type": "stream",
     "text": [
      "Epoch 1 | Train Acc: 0.7503 | Val Acc: 0.9983\n",
      "\n",
      "[ Epoch 2/15 ]\n"
     ]
    },
    {
     "name": "stderr",
     "output_type": "stream",
     "text": [
      "                                                                                                         \r"
     ]
    },
    {
     "name": "stdout",
     "output_type": "stream",
     "text": [
      "Epoch 2 | Train Acc: 0.7992 | Val Acc: 1.0000\n",
      "\n",
      "[ Epoch 3/15 ]\n"
     ]
    },
    {
     "name": "stderr",
     "output_type": "stream",
     "text": [
      "                                                                                                         \r"
     ]
    },
    {
     "name": "stdout",
     "output_type": "stream",
     "text": [
      "Epoch 3 | Train Acc: 0.7909 | Val Acc: 1.0000\n",
      "\n",
      "[ Epoch 4/15 ]\n"
     ]
    },
    {
     "name": "stderr",
     "output_type": "stream",
     "text": [
      "                                                                                                         \r"
     ]
    },
    {
     "name": "stdout",
     "output_type": "stream",
     "text": [
      "Epoch 4 | Train Acc: 0.7654 | Val Acc: 1.0000\n",
      "\n",
      "[ Epoch 5/15 ]\n"
     ]
    },
    {
     "name": "stderr",
     "output_type": "stream",
     "text": [
      "                                                                                                         \r"
     ]
    },
    {
     "name": "stdout",
     "output_type": "stream",
     "text": [
      "Epoch 5 | Train Acc: 0.7909 | Val Acc: 1.0000\n",
      "\n",
      "[ Epoch 6/15 ]\n"
     ]
    },
    {
     "name": "stderr",
     "output_type": "stream",
     "text": [
      "                                                                                                         \r"
     ]
    },
    {
     "name": "stdout",
     "output_type": "stream",
     "text": [
      "Epoch 6 | Train Acc: 0.7721 | Val Acc: 1.0000\n",
      "\n",
      "[ Epoch 7/15 ]\n"
     ]
    },
    {
     "name": "stderr",
     "output_type": "stream",
     "text": [
      "                                                                                                         \r"
     ]
    },
    {
     "name": "stdout",
     "output_type": "stream",
     "text": [
      "Epoch 7 | Train Acc: 0.7905 | Val Acc: 1.0000\n",
      "\n",
      "[ Epoch 8/15 ]\n"
     ]
    },
    {
     "name": "stderr",
     "output_type": "stream",
     "text": [
      "                                                                                                         \r"
     ]
    },
    {
     "name": "stdout",
     "output_type": "stream",
     "text": [
      "Epoch 8 | Train Acc: 0.7880 | Val Acc: 1.0000\n",
      "\n",
      "[ Epoch 9/15 ]\n"
     ]
    },
    {
     "name": "stderr",
     "output_type": "stream",
     "text": [
      "                                                                                                         \r"
     ]
    },
    {
     "name": "stdout",
     "output_type": "stream",
     "text": [
      "Epoch 9 | Train Acc: 0.7553 | Val Acc: 1.0000\n",
      "\n",
      "[ Epoch 10/15 ]\n"
     ]
    },
    {
     "name": "stderr",
     "output_type": "stream",
     "text": [
      "                                                                                                         \r"
     ]
    },
    {
     "name": "stdout",
     "output_type": "stream",
     "text": [
      "Epoch 10 | Train Acc: 0.7905 | Val Acc: 1.0000\n",
      "\n",
      "[ Epoch 11/15 ]\n"
     ]
    },
    {
     "name": "stderr",
     "output_type": "stream",
     "text": [
      "                                                                                                         \r"
     ]
    },
    {
     "name": "stdout",
     "output_type": "stream",
     "text": [
      "Epoch 11 | Train Acc: 0.8110 | Val Acc: 1.0000\n",
      "\n",
      "[ Epoch 12/15 ]\n"
     ]
    },
    {
     "name": "stderr",
     "output_type": "stream",
     "text": [
      "                                                                                                         \r"
     ]
    },
    {
     "name": "stdout",
     "output_type": "stream",
     "text": [
      "Epoch 12 | Train Acc: 0.8038 | Val Acc: 1.0000\n",
      "\n",
      "[ Epoch 13/15 ]\n"
     ]
    },
    {
     "name": "stderr",
     "output_type": "stream",
     "text": [
      "                                                                                                         \r"
     ]
    },
    {
     "name": "stdout",
     "output_type": "stream",
     "text": [
      "Epoch 13 | Train Acc: 0.7967 | Val Acc: 1.0000\n",
      "\n",
      "[ Epoch 14/15 ]\n"
     ]
    },
    {
     "name": "stderr",
     "output_type": "stream",
     "text": [
      "                                                                                                         \r"
     ]
    },
    {
     "name": "stdout",
     "output_type": "stream",
     "text": [
      "Epoch 14 | Train Acc: 0.7942 | Val Acc: 1.0000\n",
      "\n",
      "[ Epoch 15/15 ]\n"
     ]
    },
    {
     "name": "stderr",
     "output_type": "stream",
     "text": [
      "                                                                                                         \r"
     ]
    },
    {
     "name": "stdout",
     "output_type": "stream",
     "text": [
      "Epoch 15 | Train Acc: 0.7951 | Val Acc: 1.0000\n"
     ]
    },
    {
     "data": {
      "image/png": "[encoded data removed]",
      "text/plain": [
       "<Figure size 800x500 with 1 Axes>"
      ]
     },
     "metadata": {},
     "output_type": "display_data"
    },
    {
     "name": "stdout",
     "output_type": "stream",
     "text": [
      "\n",
      " Fold 4 \n"
     ]
    },
    {
     "name": "stderr",
     "output_type": "stream",
     "text": [
      "C:\\Users\\rsriram3\\AppData\\Local\\Temp\\ipykernel_27404\\2473531617.py:11: FutureWarning: `torch.cuda.amp.GradScaler(args...)` is deprecated. Please use `torch.amp.GradScaler('cuda', args...)` instead.\n",
      "  scaler = GradScaler()\n"
     ]
    },
    {
     "name": "stdout",
     "output_type": "stream",
     "text": [
      "\n",
      "[ Epoch 1/15 ]\n"
     ]
    },
    {
     "name": "stderr",
     "output_type": "stream",
     "text": [
      "                                                                                                         \r"
     ]
    },
    {
     "name": "stdout",
     "output_type": "stream",
     "text": [
      "Epoch 1 | Train Acc: 0.7825 | Val Acc: 1.0000\n",
      "\n",
      "[ Epoch 2/15 ]\n"
     ]
    },
    {
     "name": "stderr",
     "output_type": "stream",
     "text": [
      "                                                                                                         \r"
     ]
    },
    {
     "name": "stdout",
     "output_type": "stream",
     "text": [
      "Epoch 2 | Train Acc: 0.8105 | Val Acc: 1.0000\n",
      "\n",
      "[ Epoch 3/15 ]\n"
     ]
    },
    {
     "name": "stderr",
     "output_type": "stream",
     "text": [
      "                                                                                                         \r"
     ]
    },
    {
     "name": "stdout",
     "output_type": "stream",
     "text": [
      "Epoch 3 | Train Acc: 0.8059 | Val Acc: 1.0000\n",
      "\n",
      "[ Epoch 4/15 ]\n"
     ]
    },
    {
     "name": "stderr",
     "output_type": "stream",
     "text": [
      "                                                                                                         \r"
     ]
    },
    {
     "name": "stdout",
     "output_type": "stream",
     "text": [
      "Epoch 4 | Train Acc: 0.7737 | Val Acc: 1.0000\n",
      "\n",
      "[ Epoch 5/15 ]\n"
     ]
    },
    {
     "name": "stderr",
     "output_type": "stream",
     "text": [
      "                                                                                                         \r"
     ]
    },
    {
     "name": "stdout",
     "output_type": "stream",
     "text": [
      "Epoch 5 | Train Acc: 0.7817 | Val Acc: 1.0000\n",
      "\n",
      "[ Epoch 6/15 ]\n"
     ]
    },
    {
     "name": "stderr",
     "output_type": "stream",
     "text": [
      "                                                                                                         \r"
     ]
    },
    {
     "name": "stdout",
     "output_type": "stream",
     "text": [
      "Epoch 6 | Train Acc: 0.7746 | Val Acc: 1.0000\n",
      "\n",
      "[ Epoch 7/15 ]\n"
     ]
    },
    {
     "name": "stderr",
     "output_type": "stream",
     "text": [
      "                                                                                                         \r"
     ]
    },
    {
     "name": "stdout",
     "output_type": "stream",
     "text": [
      "Epoch 7 | Train Acc: 0.8160 | Val Acc: 1.0000\n",
      "\n",
      "[ Epoch 8/15 ]\n"
     ]
    },
    {
     "name": "stderr",
     "output_type": "stream",
     "text": [
      "                                                                                                         \r"
     ]
    },
    {
     "name": "stdout",
     "output_type": "stream",
     "text": [
      "Epoch 8 | Train Acc: 0.8076 | Val Acc: 1.0000\n",
      "\n",
      "[ Epoch 9/15 ]\n"
     ]
    },
    {
     "name": "stderr",
     "output_type": "stream",
     "text": [
      "                                                                                                         \r"
     ]
    },
    {
     "name": "stdout",
     "output_type": "stream",
     "text": [
      "Epoch 9 | Train Acc: 0.7407 | Val Acc: 1.0000\n",
      "\n",
      "[ Epoch 10/15 ]\n"
     ]
    },
    {
     "name": "stderr",
     "output_type": "stream",
     "text": [
      "                                                                                                         \r"
     ]
    },
    {
     "name": "stdout",
     "output_type": "stream",
     "text": [
      "Epoch 10 | Train Acc: 0.7984 | Val Acc: 1.0000\n",
      "\n",
      "[ Epoch 11/15 ]\n"
     ]
    },
    {
     "name": "stderr",
     "output_type": "stream",
     "text": [
      "                                                                                                         \r"
     ]
    },
    {
     "name": "stdout",
     "output_type": "stream",
     "text": [
      "Epoch 11 | Train Acc: 0.7654 | Val Acc: 1.0000\n",
      "\n",
      "[ Epoch 12/15 ]\n"
     ]
    },
    {
     "name": "stderr",
     "output_type": "stream",
     "text": [
      "                                                                                                         \r"
     ]
    },
    {
     "name": "stdout",
     "output_type": "stream",
     "text": [
      "Epoch 12 | Train Acc: 0.7767 | Val Acc: 1.0000\n",
      "\n",
      "[ Epoch 13/15 ]\n"
     ]
    },
    {
     "name": "stderr",
     "output_type": "stream",
     "text": [
      "                                                                                                         \r"
     ]
    },
    {
     "name": "stdout",
     "output_type": "stream",
     "text": [
      "Epoch 13 | Train Acc: 0.7758 | Val Acc: 1.0000\n",
      "\n",
      "[ Epoch 14/15 ]\n"
     ]
    },
    {
     "name": "stderr",
     "output_type": "stream",
     "text": [
      "                                                                                                         \r"
     ]
    },
    {
     "name": "stdout",
     "output_type": "stream",
     "text": [
      "Epoch 14 | Train Acc: 0.7808 | Val Acc: 1.0000\n",
      "\n",
      "[ Epoch 15/15 ]\n"
     ]
    },
    {
     "name": "stderr",
     "output_type": "stream",
     "text": [
      "                                                                                                         \r"
     ]
    },
    {
     "name": "stdout",
     "output_type": "stream",
     "text": [
      "Epoch 15 | Train Acc: 0.7662 | Val Acc: 1.0000\n"
     ]
    },
    {
     "data": {
      "image/png": "[encoded data removed]",
      "text/plain": [
       "<Figure size 800x500 with 1 Axes>"
      ]
     },
     "metadata": {},
     "output_type": "display_data"
    },
    {
     "name": "stdout",
     "output_type": "stream",
     "text": [
      "\n",
      " Fold 5 \n"
     ]
    },
    {
     "name": "stderr",
     "output_type": "stream",
     "text": [
      "C:\\Users\\rsriram3\\AppData\\Local\\Temp\\ipykernel_27404\\2473531617.py:11: FutureWarning: `torch.cuda.amp.GradScaler(args...)` is deprecated. Please use `torch.amp.GradScaler('cuda', args...)` instead.\n",
      "  scaler = GradScaler()\n"
     ]
    },
    {
     "name": "stdout",
     "output_type": "stream",
     "text": [
      "\n",
      "[ Epoch 1/15 ]\n"
     ]
    },
    {
     "name": "stderr",
     "output_type": "stream",
     "text": [
      "                                                                                                         \r"
     ]
    },
    {
     "name": "stdout",
     "output_type": "stream",
     "text": [
      "Epoch 1 | Train Acc: 0.7579 | Val Acc: 1.0000\n",
      "\n",
      "[ Epoch 2/15 ]\n"
     ]
    },
    {
     "name": "stderr",
     "output_type": "stream",
     "text": [
      "                                                                                                         \r"
     ]
    },
    {
     "name": "stdout",
     "output_type": "stream",
     "text": [
      "Epoch 2 | Train Acc: 0.8056 | Val Acc: 1.0000\n",
      "\n",
      "[ Epoch 3/15 ]\n"
     ]
    },
    {
     "name": "stderr",
     "output_type": "stream",
     "text": [
      "                                                                                                         \r"
     ]
    },
    {
     "name": "stdout",
     "output_type": "stream",
     "text": [
      "Epoch 3 | Train Acc: 0.7843 | Val Acc: 1.0000\n",
      "\n",
      "[ Epoch 4/15 ]\n"
     ]
    },
    {
     "name": "stderr",
     "output_type": "stream",
     "text": [
      "                                                                                                         \r"
     ]
    },
    {
     "name": "stdout",
     "output_type": "stream",
     "text": [
      "Epoch 4 | Train Acc: 0.8102 | Val Acc: 1.0000\n",
      "\n",
      "[ Epoch 5/15 ]\n"
     ]
    },
    {
     "name": "stderr",
     "output_type": "stream",
     "text": [
      "                                                                                                         \r"
     ]
    },
    {
     "name": "stdout",
     "output_type": "stream",
     "text": [
      "Epoch 5 | Train Acc: 0.7726 | Val Acc: 1.0000\n",
      "\n",
      "[ Epoch 6/15 ]\n"
     ]
    },
    {
     "name": "stderr",
     "output_type": "stream",
     "text": [
      "                                                                                                         \r"
     ]
    },
    {
     "name": "stdout",
     "output_type": "stream",
     "text": [
      "Epoch 6 | Train Acc: 0.8148 | Val Acc: 1.0000\n",
      "\n",
      "[ Epoch 7/15 ]\n"
     ]
    },
    {
     "name": "stderr",
     "output_type": "stream",
     "text": [
      "                                                                                                         \r"
     ]
    },
    {
     "name": "stdout",
     "output_type": "stream",
     "text": [
      "Epoch 7 | Train Acc: 0.7797 | Val Acc: 1.0000\n",
      "\n",
      "[ Epoch 8/15 ]\n"
     ]
    },
    {
     "name": "stderr",
     "output_type": "stream",
     "text": [
      "                                                                                                         \r"
     ]
    },
    {
     "name": "stdout",
     "output_type": "stream",
     "text": [
      "Epoch 8 | Train Acc: 0.8035 | Val Acc: 1.0000\n",
      "\n",
      "[ Epoch 9/15 ]\n"
     ]
    },
    {
     "name": "stderr",
     "output_type": "stream",
     "text": [
      "                                                                                                         \r"
     ]
    },
    {
     "name": "stdout",
     "output_type": "stream",
     "text": [
      "Epoch 9 | Train Acc: 0.8257 | Val Acc: 1.0000\n",
      "\n",
      "[ Epoch 10/15 ]\n"
     ]
    },
    {
     "name": "stderr",
     "output_type": "stream",
     "text": [
      "                                                                                                         \r"
     ]
    },
    {
     "name": "stdout",
     "output_type": "stream",
     "text": [
      "Epoch 10 | Train Acc: 0.7295 | Val Acc: 1.0000\n",
      "\n",
      "[ Epoch 11/15 ]\n"
     ]
    },
    {
     "name": "stderr",
     "output_type": "stream",
     "text": [
      "                                                                                                         \r"
     ]
    },
    {
     "name": "stdout",
     "output_type": "stream",
     "text": [
      "Epoch 11 | Train Acc: 0.8215 | Val Acc: 1.0000\n",
      "\n",
      "[ Epoch 12/15 ]\n"
     ]
    },
    {
     "name": "stderr",
     "output_type": "stream",
     "text": [
      "                                                                                                         \r"
     ]
    },
    {
     "name": "stdout",
     "output_type": "stream",
     "text": [
      "Epoch 12 | Train Acc: 0.8010 | Val Acc: 1.0000\n",
      "\n",
      "[ Epoch 13/15 ]\n"
     ]
    },
    {
     "name": "stderr",
     "output_type": "stream",
     "text": [
      "                                                                                                         \r"
     ]
    },
    {
     "name": "stdout",
     "output_type": "stream",
     "text": [
      "Epoch 13 | Train Acc: 0.7550 | Val Acc: 1.0000\n",
      "\n",
      "[ Epoch 14/15 ]\n"
     ]
    },
    {
     "name": "stderr",
     "output_type": "stream",
     "text": [
      "                                                                                                         \r"
     ]
    },
    {
     "name": "stdout",
     "output_type": "stream",
     "text": [
      "Epoch 14 | Train Acc: 0.8219 | Val Acc: 1.0000\n",
      "\n",
      "[ Epoch 15/15 ]\n"
     ]
    },
    {
     "name": "stderr",
     "output_type": "stream",
     "text": [
      "                                                                                                         \r"
     ]
    },
    {
     "name": "stdout",
     "output_type": "stream",
     "text": [
      "Epoch 15 | Train Acc: 0.8056 | Val Acc: 1.0000\n"
     ]
    },
    {
     "data": {
      "image/png": "[encoded data removed]",
      "text/plain": [
       "<Figure size 800x500 with 1 Axes>"
      ]
     },
     "metadata": {},
     "output_type": "display_data"
    }
   ],
   "source": [
    "for fold, (train_idx, val_idx) in enumerate(skf.split(full_df, full_df['label'])):\n",
    "    print(f\"\\n Fold {fold + 1} \")\n",
    "    # Get folds\n",
    "    train_df = full_df.iloc[train_idx]\n",
    "    val_df = full_df.iloc[val_idx]\n",
    "\n",
    "    # Save folds as CSVs\n",
    "    train_fold_path = FOLDS_DIR / f\"{history}_train_fold_{fold+1}.csv\"\n",
    "    val_fold_path = FOLDS_DIR / f\"{history}_val_fold_{fold+1}.csv\"\n",
    "    train_df.to_csv(train_fold_path, index=False)\n",
    "    val_df.to_csv(val_fold_path, index=False)\n",
    "    \n",
    "    model_save_path = save_path  / f\"{model_name}_fold{fold+1}.pth\"\n",
    "    model_save_path.mkdir(parents=True, exist_ok=True)\n",
    "    torch.save(model.state_dict(), model_save_path / f\"{model_name}_fold{fold}.pth\")\n",
    "\n",
    "\n",
    "    # Call training using paths\n",
    "    model, train_accs, val_accs = train_model(model_name, train_fold_path, val_fold_path, ROOT_DIR, save_path)\n",
    "\n",
    "    # Plot\n",
    "    plot_metrics(train_accs, val_accs, f\"{model_name}_fold{fold+1}\")"
   ]
  },
  {
   "cell_type": "markdown",
   "id": "5cd3a104",
   "metadata": {},
   "source": [
    "# SWIN Transformer"
   ]
  },
  {
   "cell_type": "code",
   "execution_count": 16,
   "id": "40429fa0",
   "metadata": {},
   "outputs": [],
   "source": [
    "model_id = 0  # Example: SWIN Transformer\n",
    "model_name = model_configs[model_id][0]\n",
    "history = model_configs[model_id][1]\n",
    "save_path = ROOT_DIR / \"models\" / history\n",
    "plot_save_path = Path.cwd() / \"figures\" / \"shared_head_figures\""
   ]
  },
  {
   "cell_type": "code",
   "execution_count": 17,
   "id": "bbe9ac8b",
   "metadata": {},
   "outputs": [],
   "source": [
    "# Create folds directory\n",
    "FOLDS_DIR = OUTPUT_DIR / \"folds\"\n",
    "FOLDS_DIR.mkdir(parents=True, exist_ok=True)"
   ]
  },
  {
   "cell_type": "code",
   "execution_count": 18,
   "id": "e6261bc1",
   "metadata": {},
   "outputs": [
    {
     "name": "stdout",
     "output_type": "stream",
     "text": [
      "\n",
      " Fold 1 \n",
      "\n",
      "[ Epoch 1/15 ]\n"
     ]
    },
    {
     "name": "stderr",
     "output_type": "stream",
     "text": [
      "                                                                                                                        \r"
     ]
    },
    {
     "name": "stdout",
     "output_type": "stream",
     "text": [
      "Epoch 1 | Train Acc: 0.7825 | Val Acc: 1.0000\n",
      "\n",
      "[ Epoch 2/15 ]\n"
     ]
    },
    {
     "name": "stderr",
     "output_type": "stream",
     "text": [
      "                                                                                                                        \r"
     ]
    },
    {
     "name": "stdout",
     "output_type": "stream",
     "text": [
      "Epoch 2 | Train Acc: 0.7771 | Val Acc: 1.0000\n",
      "\n",
      "[ Epoch 3/15 ]\n"
     ]
    },
    {
     "name": "stderr",
     "output_type": "stream",
     "text": [
      "                                                                                                                        \r"
     ]
    },
    {
     "name": "stdout",
     "output_type": "stream",
     "text": [
      "Epoch 3 | Train Acc: 0.7934 | Val Acc: 1.0000\n",
      "\n",
      "[ Epoch 4/15 ]\n"
     ]
    },
    {
     "name": "stderr",
     "output_type": "stream",
     "text": [
      "                                                                                                                        \r"
     ]
    },
    {
     "name": "stdout",
     "output_type": "stream",
     "text": [
      "Epoch 4 | Train Acc: 0.7955 | Val Acc: 1.0000\n",
      "\n",
      "[ Epoch 5/15 ]\n"
     ]
    },
    {
     "name": "stderr",
     "output_type": "stream",
     "text": [
      "                                                                                                                        \r"
     ]
    },
    {
     "name": "stdout",
     "output_type": "stream",
     "text": [
      "Epoch 5 | Train Acc: 0.8164 | Val Acc: 1.0000\n",
      "\n",
      "[ Epoch 6/15 ]\n"
     ]
    },
    {
     "name": "stderr",
     "output_type": "stream",
     "text": [
      "                                                                                                                        \r"
     ]
    },
    {
     "name": "stdout",
     "output_type": "stream",
     "text": [
      "Epoch 6 | Train Acc: 0.7854 | Val Acc: 1.0000\n",
      "\n",
      "[ Epoch 7/15 ]\n"
     ]
    },
    {
     "name": "stderr",
     "output_type": "stream",
     "text": [
      "                                                                                                                        \r"
     ]
    },
    {
     "name": "stdout",
     "output_type": "stream",
     "text": [
      "Epoch 7 | Train Acc: 0.7344 | Val Acc: 1.0000\n",
      "\n",
      "[ Epoch 8/15 ]\n"
     ]
    },
    {
     "name": "stderr",
     "output_type": "stream",
     "text": [
      "                                                                                                                        \r"
     ]
    },
    {
     "name": "stdout",
     "output_type": "stream",
     "text": [
      "Epoch 8 | Train Acc: 0.7361 | Val Acc: 1.0000\n",
      "\n",
      "[ Epoch 9/15 ]\n"
     ]
    },
    {
     "name": "stderr",
     "output_type": "stream",
     "text": [
      "                                                                                                                        \r"
     ]
    },
    {
     "name": "stdout",
     "output_type": "stream",
     "text": [
      "Epoch 9 | Train Acc: 0.7637 | Val Acc: 1.0000\n",
      "\n",
      "[ Epoch 10/15 ]\n"
     ]
    },
    {
     "name": "stderr",
     "output_type": "stream",
     "text": [
      "                                                                                                                        \r"
     ]
    },
    {
     "ename": "KeyboardInterrupt",
     "evalue": "",
     "output_type": "error",
     "traceback": [
      "\u001b[31m---------------------------------------------------------------------------\u001b[39m",
      "\u001b[31mKeyboardInterrupt\u001b[39m                         Traceback (most recent call last)",
      "\u001b[36mCell\u001b[39m\u001b[36m \u001b[39m\u001b[32mIn[18]\u001b[39m\u001b[32m, line 16\u001b[39m\n\u001b[32m     14\u001b[39m model_save_path = save_path / \u001b[33mf\u001b[39m\u001b[33m\"\u001b[39m\u001b[38;5;132;01m{\u001b[39;00mmodel_name\u001b[38;5;132;01m}\u001b[39;00m\u001b[33m_fold\u001b[39m\u001b[38;5;132;01m{\u001b[39;00mfold+\u001b[32m1\u001b[39m\u001b[38;5;132;01m}\u001b[39;00m\u001b[33m.pth\u001b[39m\u001b[33m\"\u001b[39m\n\u001b[32m     15\u001b[39m model_save_path.mkdir(parents=\u001b[38;5;28;01mTrue\u001b[39;00m, exist_ok=\u001b[38;5;28;01mTrue\u001b[39;00m)\n\u001b[32m---> \u001b[39m\u001b[32m16\u001b[39m model, train_accs, val_accs = \u001b[43mtrain_model\u001b[49m\u001b[43m(\u001b[49m\u001b[43mmodel_name\u001b[49m\u001b[43m,\u001b[49m\u001b[43m \u001b[49m\u001b[43mtrain_fold_path\u001b[49m\u001b[43m,\u001b[49m\u001b[43m \u001b[49m\u001b[43mval_fold_path\u001b[49m\u001b[43m,\u001b[49m\u001b[43m \u001b[49m\u001b[43mROOT_DIR\u001b[49m\u001b[43m,\u001b[49m\u001b[43m \u001b[49m\u001b[43mmodel_save_path\u001b[49m\u001b[43m)\u001b[49m\n\u001b[32m     18\u001b[39m \u001b[38;5;66;03m# Plot\u001b[39;00m\n\u001b[32m     19\u001b[39m plot_metrics(train_accs, val_accs, model_name, plot_save_path)\n",
      "\u001b[36mCell\u001b[39m\u001b[36m \u001b[39m\u001b[32mIn[9]\u001b[39m\u001b[32m, line 43\u001b[39m, in \u001b[36mtrain_model\u001b[39m\u001b[34m(model_name, train_csv, test_csv, root_dir, save_path)\u001b[39m\n\u001b[32m     40\u001b[39m         distill_loss = F.kl_div(F.log_softmax(outputs / TEMPERATURE, dim=\u001b[32m1\u001b[39m), soft_targets, reduction=\u001b[33m'\u001b[39m\u001b[33mbatchmean\u001b[39m\u001b[33m'\u001b[39m)\n\u001b[32m     41\u001b[39m         loss += \u001b[32m0.5\u001b[39m * distill_loss\n\u001b[32m---> \u001b[39m\u001b[32m43\u001b[39m \u001b[43mscaler\u001b[49m\u001b[43m.\u001b[49m\u001b[43mscale\u001b[49m\u001b[43m(\u001b[49m\u001b[43mloss\u001b[49m\u001b[43m)\u001b[49m\u001b[43m.\u001b[49m\u001b[43mbackward\u001b[49m\u001b[43m(\u001b[49m\u001b[43m)\u001b[49m\n\u001b[32m     44\u001b[39m scaler.step(optimizer)\n\u001b[32m     45\u001b[39m scaler.update()\n",
      "\u001b[36mFile \u001b[39m\u001b[32mc:\\Users\\rsriram3\\Documents\\ind_study\\test-IIM\\my-iim\\Lib\\site-packages\\torch\\_tensor.py:626\u001b[39m, in \u001b[36mTensor.backward\u001b[39m\u001b[34m(self, gradient, retain_graph, create_graph, inputs)\u001b[39m\n\u001b[32m    616\u001b[39m \u001b[38;5;28;01mif\u001b[39;00m has_torch_function_unary(\u001b[38;5;28mself\u001b[39m):\n\u001b[32m    617\u001b[39m     \u001b[38;5;28;01mreturn\u001b[39;00m handle_torch_function(\n\u001b[32m    618\u001b[39m         Tensor.backward,\n\u001b[32m    619\u001b[39m         (\u001b[38;5;28mself\u001b[39m,),\n\u001b[32m   (...)\u001b[39m\u001b[32m    624\u001b[39m         inputs=inputs,\n\u001b[32m    625\u001b[39m     )\n\u001b[32m--> \u001b[39m\u001b[32m626\u001b[39m \u001b[43mtorch\u001b[49m\u001b[43m.\u001b[49m\u001b[43mautograd\u001b[49m\u001b[43m.\u001b[49m\u001b[43mbackward\u001b[49m\u001b[43m(\u001b[49m\n\u001b[32m    627\u001b[39m \u001b[43m    \u001b[49m\u001b[38;5;28;43mself\u001b[39;49m\u001b[43m,\u001b[49m\u001b[43m \u001b[49m\u001b[43mgradient\u001b[49m\u001b[43m,\u001b[49m\u001b[43m \u001b[49m\u001b[43mretain_graph\u001b[49m\u001b[43m,\u001b[49m\u001b[43m \u001b[49m\u001b[43mcreate_graph\u001b[49m\u001b[43m,\u001b[49m\u001b[43m \u001b[49m\u001b[43minputs\u001b[49m\u001b[43m=\u001b[49m\u001b[43minputs\u001b[49m\n\u001b[32m    628\u001b[39m \u001b[43m\u001b[49m\u001b[43m)\u001b[49m\n",
      "\u001b[36mFile \u001b[39m\u001b[32mc:\\Users\\rsriram3\\Documents\\ind_study\\test-IIM\\my-iim\\Lib\\site-packages\\torch\\autograd\\__init__.py:347\u001b[39m, in \u001b[36mbackward\u001b[39m\u001b[34m(tensors, grad_tensors, retain_graph, create_graph, grad_variables, inputs)\u001b[39m\n\u001b[32m    342\u001b[39m     retain_graph = create_graph\n\u001b[32m    344\u001b[39m \u001b[38;5;66;03m# The reason we repeat the same comment below is that\u001b[39;00m\n\u001b[32m    345\u001b[39m \u001b[38;5;66;03m# some Python versions print out the first line of a multi-line function\u001b[39;00m\n\u001b[32m    346\u001b[39m \u001b[38;5;66;03m# calls in the traceback and some print out the last line\u001b[39;00m\n\u001b[32m--> \u001b[39m\u001b[32m347\u001b[39m \u001b[43m_engine_run_backward\u001b[49m\u001b[43m(\u001b[49m\n\u001b[32m    348\u001b[39m \u001b[43m    \u001b[49m\u001b[43mtensors\u001b[49m\u001b[43m,\u001b[49m\n\u001b[32m    349\u001b[39m \u001b[43m    \u001b[49m\u001b[43mgrad_tensors_\u001b[49m\u001b[43m,\u001b[49m\n\u001b[32m    350\u001b[39m \u001b[43m    \u001b[49m\u001b[43mretain_graph\u001b[49m\u001b[43m,\u001b[49m\n\u001b[32m    351\u001b[39m \u001b[43m    \u001b[49m\u001b[43mcreate_graph\u001b[49m\u001b[43m,\u001b[49m\n\u001b[32m    352\u001b[39m \u001b[43m    \u001b[49m\u001b[43minputs\u001b[49m\u001b[43m,\u001b[49m\n\u001b[32m    353\u001b[39m \u001b[43m    \u001b[49m\u001b[43mallow_unreachable\u001b[49m\u001b[43m=\u001b[49m\u001b[38;5;28;43;01mTrue\u001b[39;49;00m\u001b[43m,\u001b[49m\n\u001b[32m    354\u001b[39m \u001b[43m    \u001b[49m\u001b[43maccumulate_grad\u001b[49m\u001b[43m=\u001b[49m\u001b[38;5;28;43;01mTrue\u001b[39;49;00m\u001b[43m,\u001b[49m\n\u001b[32m    355\u001b[39m \u001b[43m\u001b[49m\u001b[43m)\u001b[49m\n",
      "\u001b[36mFile \u001b[39m\u001b[32mc:\\Users\\rsriram3\\Documents\\ind_study\\test-IIM\\my-iim\\Lib\\site-packages\\torch\\autograd\\graph.py:823\u001b[39m, in \u001b[36m_engine_run_backward\u001b[39m\u001b[34m(t_outputs, *args, **kwargs)\u001b[39m\n\u001b[32m    821\u001b[39m     unregister_hooks = _register_logging_hooks_on_whole_graph(t_outputs)\n\u001b[32m    822\u001b[39m \u001b[38;5;28;01mtry\u001b[39;00m:\n\u001b[32m--> \u001b[39m\u001b[32m823\u001b[39m     \u001b[38;5;28;01mreturn\u001b[39;00m \u001b[43mVariable\u001b[49m\u001b[43m.\u001b[49m\u001b[43m_execution_engine\u001b[49m\u001b[43m.\u001b[49m\u001b[43mrun_backward\u001b[49m\u001b[43m(\u001b[49m\u001b[43m  \u001b[49m\u001b[38;5;66;43;03m# Calls into the C++ engine to run the backward pass\u001b[39;49;00m\n\u001b[32m    824\u001b[39m \u001b[43m        \u001b[49m\u001b[43mt_outputs\u001b[49m\u001b[43m,\u001b[49m\u001b[43m \u001b[49m\u001b[43m*\u001b[49m\u001b[43margs\u001b[49m\u001b[43m,\u001b[49m\u001b[43m \u001b[49m\u001b[43m*\u001b[49m\u001b[43m*\u001b[49m\u001b[43mkwargs\u001b[49m\n\u001b[32m    825\u001b[39m \u001b[43m    \u001b[49m\u001b[43m)\u001b[49m  \u001b[38;5;66;03m# Calls into the C++ engine to run the backward pass\u001b[39;00m\n\u001b[32m    826\u001b[39m \u001b[38;5;28;01mfinally\u001b[39;00m:\n\u001b[32m    827\u001b[39m     \u001b[38;5;28;01mif\u001b[39;00m attach_logging_hooks:\n",
      "\u001b[31mKeyboardInterrupt\u001b[39m: "
     ]
    }
   ],
   "source": [
    "for fold, (train_idx, val_idx) in enumerate(skf.split(full_df, full_df['label'])):\n",
    "    print(f\"\\n Fold {fold + 1} \")\n",
    "    # Get folds\n",
    "    train_df = full_df.iloc[train_idx]\n",
    "    val_df = full_df.iloc[val_idx]\n",
    "\n",
    "    # Save folds as CSVs\n",
    "    train_fold_path = FOLDS_DIR / f\"{history}_train_fold_{fold+1}.csv\"\n",
    "    val_fold_path = FOLDS_DIR / f\"{history}_val_fold_{fold+1}.csv\"\n",
    "    train_df.to_csv(train_fold_path, index=False)\n",
    "    val_df.to_csv(val_fold_path, index=False)\n",
    "\n",
    "    # Call training using paths\n",
    "    model_save_path = save_path / f\"{model_name}_fold{fold+1}.pth\"\n",
    "    model_save_path.mkdir(parents=True, exist_ok=True)\n",
    "    model, train_accs, val_accs = train_model(model_name, train_fold_path, val_fold_path, ROOT_DIR, model_save_path)\n",
    "\n",
    "    # Plot\n",
    "    plot_metrics(train_accs, val_accs, model_name, plot_save_path)"
   ]
  },
  {
   "cell_type": "code",
   "execution_count": null,
   "id": "800a5d5e",
   "metadata": {},
   "outputs": [],
   "source": []
  },
  {
   "cell_type": "code",
   "execution_count": null,
   "id": "8c1a9b1a",
   "metadata": {},
   "outputs": [],
   "source": []
  },
  {
   "cell_type": "code",
   "execution_count": null,
   "id": "2793c0c4",
   "metadata": {},
   "outputs": [],
   "source": []
  },
  {
   "cell_type": "code",
   "execution_count": null,
   "id": "d4ae85d9",
   "metadata": {},
   "outputs": [],
   "source": [
    "# 🔁 Train ONLY Fold 3, for example\n",
    "model_id = 2  # ConvNeXt\n",
    "model_name = model_configs[model_id][0]\n",
    "\n",
    "train_df = pd.read_csv(OUTPUT_DIR / \"folds/train_fold_3.csv\")\n",
    "val_df = pd.read_csv(OUTPUT_DIR / \"folds/val_fold_3.csv\")\n",
    "save_path = ROOT_DIR / \"models\" / f\"{model_name}_fold3.pth\"\n",
    "\n",
    "model, train_accs, val_accs = train_model(model_name, train_df, val_df, ROOT_DIR, save_path)"
   ]
  }
 ],
 "metadata": {
  "kernelspec": {
   "display_name": "my-iim",
   "language": "python",
   "name": "python3"
  },
  "language_info": {
   "codemirror_mode": {
    "name": "ipython",
    "version": 3
   },
   "file_extension": ".py",
   "mimetype": "text/x-python",
   "name": "python",
   "nbconvert_exporter": "python",
   "pygments_lexer": "ipython3",
   "version": "3.12.0"
  }
 },
 "nbformat": 4,
 "nbformat_minor": 5
}
