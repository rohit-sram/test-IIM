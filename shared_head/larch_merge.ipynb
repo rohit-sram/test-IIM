{
 "cells": [
  {
   "cell_type": "code",
   "execution_count": 4,
   "id": "289b619f",
   "metadata": {},
   "outputs": [],
   "source": [
    "from pathlib import Path\n",
    "import re\n",
    "import pandas as pd\n",
    "\n",
    "root_dir = Path(r\"C:\\Users\\rsriram3\\Documents\\ind_study\")\n",
    "proj_dir = Path(r\"C:\\Users\\rsriram3\\Documents\\ind_study\\test-IIM\")\n",
    "data_dir = Path(r\"C:\\Users\\rsriram3\\Documents\\ind_study\\data\")\n",
    "\n",
    "all_metrics_csv   = data_dir / \"all_image_metrics.csv\"\n",
    "larch_alpha_csv   = data_dir / \"larch_images_alpha.csv\"\n",
    "out_csv = data_dir / \"overall_merged_images.csv\""
   ]
  },
  {
   "cell_type": "code",
   "execution_count": 3,
   "id": "a3ac0fcb",
   "metadata": {},
   "outputs": [
    {
     "name": "stdout",
     "output_type": "stream",
     "text": [
      "Loaded shapes:\n",
      "  all_df:   (18775, 5)\n",
      "  larch_df: (6148, 5)\n",
      "\n",
      "all_df columns: ['image', 'label', 'brightness', 'edge_density', 'entropy']\n",
      "larch_df columns: ['image_path', 'label', 'brightness', 'edge_density', 'entropy']\n"
     ]
    }
   ],
   "source": [
    "all_df   = pd.read_csv(all_metrics_csv)\n",
    "larch_df = pd.read_csv(larch_alpha_csv)\n",
    "\n",
    "print(\"Loaded shapes:\")\n",
    "print(\"  all_df:  \", all_df.shape)\n",
    "print(\"  larch_df:\", larch_df.shape)\n",
    "\n",
    "print(\"\\nall_df columns:\", list(all_df.columns)[:20])\n",
    "print(\"larch_df columns:\", list(larch_df.columns)[:20])"
   ]
  },
  {
   "cell_type": "markdown",
   "id": "5abc707a",
   "metadata": {},
   "source": [
    "about 24923 entries (images) in total"
   ]
  },
  {
   "cell_type": "code",
   "execution_count": 4,
   "id": "338bfa8a",
   "metadata": {},
   "outputs": [
    {
     "name": "stdout",
     "output_type": "stream",
     "text": [
      "Post-standardization columns:\n",
      "all_df: ['image', 'label', 'brightness', 'edge_density', 'entropy']\n",
      "larch_df: ['image', 'label', 'brightness', 'edge_density', 'entropy']\n"
     ]
    }
   ],
   "source": [
    "if 'image_path' in larch_df.columns and 'image' not in larch_df.columns:\n",
    "    larch_df = larch_df.rename(columns={'image_path': 'image'})\n",
    "\n",
    "desired_cols = ['image', 'label', 'brightness', 'edge_density', 'entropy']\n",
    "\n",
    "all_df = all_df[desired_cols].copy()\n",
    "larch_df = larch_df[desired_cols].copy()\n",
    "\n",
    "print(\"Post-standardization columns:\")\n",
    "print(\"all_df:\", list(all_df.columns))\n",
    "print(\"larch_df:\", list(larch_df.columns))\n"
   ]
  },
  {
   "cell_type": "code",
   "execution_count": 5,
   "id": "c335a238",
   "metadata": {},
   "outputs": [
    {
     "name": "stdout",
     "output_type": "stream",
     "text": [
      "Shapes:\n",
      "  all_df:   (18775, 5)\n",
      "  larch_df: (6148, 5)\n",
      "  merged:   (24923, 5)\n",
      "\n",
      "Expected total rows: 24923\n",
      "Actual total rows:   24923\n"
     ]
    }
   ],
   "source": [
    "import pandas as pd\n",
    "\n",
    "merged_df = pd.concat([all_df, larch_df], axis=0, ignore_index=True)\n",
    "\n",
    "print(\"Shapes:\")\n",
    "print(f\"  all_df:   {all_df.shape}\")\n",
    "print(f\"  larch_df: {larch_df.shape}\")\n",
    "print(f\"  merged:   {merged_df.shape}\")\n",
    "\n",
    "expected = len(all_df) + len(larch_df)\n",
    "print(f\"\\nExpected total rows: {expected}\")\n",
    "print(f\"Actual total rows:   {len(merged_df)}\")\n",
    "\n",
    "assert len(merged_df) == expected, \"Row count mismatch—something trimmed rows!\""
   ]
  },
  {
   "cell_type": "code",
   "execution_count": null,
   "id": "515cac48",
   "metadata": {},
   "outputs": [
    {
     "name": "stdout",
     "output_type": "stream",
     "text": [
      "\n",
      "Saved: C:\\Users\\rsriram3\\Documents\\ind_study\\data\\overall_merged_images.csv\n"
     ]
    }
   ],
   "source": [
    "from pathlib import Path\n",
    "\n",
    "# root_dir  = Path(r\"C:\\Users\\rsriram3\\Documents\\ind_study\")\n",
    "# proj_dir  = root_dir / \"test-IIM\" / \"shared_head\" \n",
    "# data_dir  = root_dir / \"data\"\n",
    "\n",
    "out_path = data_dir / \"overall_merged_images.csv\"\n",
    "merged_df.to_csv(out_path, index=False)\n",
    "\n",
    "print(f\"\\nSaved: {out_path}\")"
   ]
  },
  {
   "cell_type": "code",
   "execution_count": 3,
   "id": "85184fb5",
   "metadata": {},
   "outputs": [
    {
     "data": {
      "text/plain": [
       "WindowsPath('C:/Users/rsriram3/Documents/ind_study/data/overall_merged_metrics.csv')"
      ]
     },
     "execution_count": 3,
     "metadata": {},
     "output_type": "execute_result"
    }
   ],
   "source": [
    "out_csv"
   ]
  },
  {
   "cell_type": "code",
   "execution_count": 8,
   "id": "ad0c8705",
   "metadata": {},
   "outputs": [
    {
     "name": "stdout",
     "output_type": "stream",
     "text": [
      "20313    Data_Set_Larch_Casebearer/augmented_images/B01...\n",
      "20314    Data_Set_Larch_Casebearer/augmented_images/B01...\n",
      "20315    Data_Set_Larch_Casebearer/augmented_images/B01...\n",
      "20316    Data_Set_Larch_Casebearer/augmented_images/B01...\n",
      "20317    Data_Set_Larch_Casebearer/augmented_images/B01...\n",
      "                               ...                        \n",
      "24918    Data_Set_Larch_Casebearer/augmented_images/B10...\n",
      "24919    Data_Set_Larch_Casebearer/augmented_images/B10...\n",
      "24920    Data_Set_Larch_Casebearer/augmented_images/B10...\n",
      "24921    Data_Set_Larch_Casebearer/augmented_images/B10...\n",
      "24922    Data_Set_Larch_Casebearer/augmented_images/B10...\n",
      "Name: image, Length: 4610, dtype: object\n"
     ]
    }
   ],
   "source": [
    "df.loc[20313:24923, \"image\"] = df.loc[20313:24923, \"image\"].str.replace(\n",
    "    r\"^augmented_images/Images/\",\n",
    "    \"Data_Set_Larch_Casebearer/augmented_images/\",\n",
    "    regex=True\n",
    ")\n",
    "\n",
    "print(df.loc[20313:24923, \"image\"])"
   ]
  },
  {
   "cell_type": "code",
   "execution_count": null,
   "id": "46c73a30",
   "metadata": {},
   "outputs": [],
   "source": [
    "output_csv = data_dir / \"overall_merged_images.csv\"\n",
    "df.to_csv(output_csv, index=False)"
   ]
  },
  {
   "cell_type": "code",
   "execution_count": 7,
   "id": "ca36cb50",
   "metadata": {},
   "outputs": [
    {
     "data": {
      "text/plain": [
       "(24923, 5)"
      ]
     },
     "execution_count": 7,
     "metadata": {},
     "output_type": "execute_result"
    }
   ],
   "source": [
    "import pandas as pd\n",
    "from pathlib import Path\n",
    "\n",
    "\n",
    "df = pd.read_csv(out_csv)\n",
    "df.shape"
   ]
  },
  {
   "cell_type": "code",
   "execution_count": 8,
   "id": "787a17c6",
   "metadata": {},
   "outputs": [
    {
     "name": "stdout",
     "output_type": "stream",
     "text": [
      "Total rows in CSV: 24923\n",
      "Missing files: 0\n",
      "✅ All image paths exist on disk!\n"
     ]
    }
   ],
   "source": [
    "\n",
    "data_dir = Path(r\"C:\\Users\\rsriram3\\Documents\\ind_study\\data\")\n",
    "\n",
    "csv_path = data_dir / \"overall_merged_images.csv\"\n",
    "df = pd.read_csv(csv_path)\n",
    "\n",
    "print(f\"Total rows in CSV: {len(df)}\")\n",
    "\n",
    "df[\"abs_path\"] = df[\"image\"].apply(lambda x: data_dir / Path(x))\n",
    "\n",
    "missing_files = [str(p) for p in df[\"abs_path\"] if not p.exists()]\n",
    "\n",
    "print(f\"Missing files: {len(missing_files)}\")\n",
    "if missing_files:\n",
    "    print(\"First few missing paths:\")\n",
    "    for p in missing_files[:10]:\n",
    "        print(\"  \", p)\n",
    "else:\n",
    "    print(\"✅ All image paths exist on disk!\")"
   ]
  },
  {
   "cell_type": "code",
   "execution_count": null,
   "id": "fbfe20b4",
   "metadata": {},
   "outputs": [],
   "source": []
  }
 ],
 "metadata": {
  "kernelspec": {
   "display_name": "shenv",
   "language": "python",
   "name": "python3"
  },
  "language_info": {
   "codemirror_mode": {
    "name": "ipython",
    "version": 3
   },
   "file_extension": ".py",
   "mimetype": "text/x-python",
   "name": "python",
   "nbconvert_exporter": "python",
   "pygments_lexer": "ipython3",
   "version": "3.13.3"
  }
 },
 "nbformat": 4,
 "nbformat_minor": 5
}
