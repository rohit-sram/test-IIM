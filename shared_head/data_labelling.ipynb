{
 "cells": [
  {
   "cell_type": "code",
   "execution_count": 2,
   "id": "92d049e0",
   "metadata": {},
   "outputs": [],
   "source": [
    "# Import modules\n",
    "from pathlib import Path\n",
    "import pandas as pd\n",
    "import glob\n",
    "import sys\n",
    "from tqdm import tqdm\n",
    "from itertools import islice\n",
    "\n",
    "# Add the current directory to the path\n",
    "current_path = Path().resolve()\n",
    "sys.path.append(str(current_path))\n",
    "\n",
    "# Import custom utilities\n",
    "from label_data_utils import generate_label_csv\n",
    "from augment_data_utils import augment_images_from_csv"
   ]
  },
  {
   "cell_type": "code",
   "execution_count": 3,
   "id": "cad7f907",
   "metadata": {},
   "outputs": [],
   "source": [
    "# Define root directory and CSV paths\n",
    "ROOT_DIR = Path('C:/Users/rsriram3/Documents/ind_study')  # Update this with your Windows path\n",
    "LABELLED_CSV = ROOT_DIR / \"original_image_metrics.csv\"\n",
    "AUGMENTED_CSV = ROOT_DIR / \"augmented_images_metrics.csv\""
   ]
  },
  {
   "cell_type": "code",
   "execution_count": 4,
   "id": "45fe64c6",
   "metadata": {},
   "outputs": [],
   "source": [
    "# Define dataset paths\n",
    "VEDAI_PATHS = [\n",
    "    \"VEDAI_dataset/VEDAI_512/images\",\n",
    "    \"VEDAI_dataset/VEDAI_1024/images\"\n",
    "]\n",
    "\n",
    "SHH_PATHS = [\n",
    "    \"ShanghaiTech Data/SHHA/images\",\n",
    "    \"ShanghaiTech Data/SHHB/images\"\n",
    "]\n",
    "\n",
    "original_data = []"
   ]
  },
  {
   "cell_type": "code",
   "execution_count": 5,
   "id": "281623b2",
   "metadata": {},
   "outputs": [],
   "source": [
    "def safe_image_scan(path, label, extensions=(\".png\", \".jpg\", \".jpeg\")):\n",
    "    full_path = ROOT_DIR / path\n",
    "    count = 0\n",
    "    for ext in extensions:\n",
    "        for img_path in full_path.rglob(f\"*{ext}\"):\n",
    "            try:\n",
    "                rel_img = str(img_path.relative_to(ROOT_DIR))\n",
    "                original_data.append({\"image\": rel_img, \"label\": label})\n",
    "                count += 1\n",
    "                if count % 500 == 0:\n",
    "                    print(f\" → {count} images processed from {path}\")\n",
    "            except KeyboardInterrupt:\n",
    "                print(f\"Interrupted while scanning {path} at {count} files.\")\n",
    "                return"
   ]
  },
  {
   "cell_type": "code",
   "execution_count": 6,
   "id": "14fe1c1f",
   "metadata": {},
   "outputs": [
    {
     "name": "stdout",
     "output_type": "stream",
     "text": [
      "Scanning VEDAI path: VEDAI_dataset/VEDAI_512/images\n",
      " → 500 images processed from VEDAI_dataset/VEDAI_512/images\n",
      " → 1000 images processed from VEDAI_dataset/VEDAI_512/images\n",
      " → 1500 images processed from VEDAI_dataset/VEDAI_512/images\n",
      " → 2000 images processed from VEDAI_dataset/VEDAI_512/images\n",
      " → 2500 images processed from VEDAI_dataset/VEDAI_512/images\n",
      " → 3000 images processed from VEDAI_dataset/VEDAI_512/images\n",
      " → 3500 images processed from VEDAI_dataset/VEDAI_512/images\n",
      " → 4000 images processed from VEDAI_dataset/VEDAI_512/images\n",
      " → 4500 images processed from VEDAI_dataset/VEDAI_512/images\n",
      " → 5000 images processed from VEDAI_dataset/VEDAI_512/images\n",
      " → 5500 images processed from VEDAI_dataset/VEDAI_512/images\n",
      " → 6000 images processed from VEDAI_dataset/VEDAI_512/images\n",
      " → 6500 images processed from VEDAI_dataset/VEDAI_512/images\n",
      " → 7000 images processed from VEDAI_dataset/VEDAI_512/images\n",
      " → 7500 images processed from VEDAI_dataset/VEDAI_512/images\n",
      " → 8000 images processed from VEDAI_dataset/VEDAI_512/images\n",
      "Scanning VEDAI path: VEDAI_dataset/VEDAI_1024/images\n",
      " → 500 images processed from VEDAI_dataset/VEDAI_1024/images\n",
      " → 1000 images processed from VEDAI_dataset/VEDAI_1024/images\n",
      " → 1500 images processed from VEDAI_dataset/VEDAI_1024/images\n",
      " → 2000 images processed from VEDAI_dataset/VEDAI_1024/images\n",
      " → 2500 images processed from VEDAI_dataset/VEDAI_1024/images\n",
      " → 3000 images processed from VEDAI_dataset/VEDAI_1024/images\n",
      " → 3500 images processed from VEDAI_dataset/VEDAI_1024/images\n",
      " → 4000 images processed from VEDAI_dataset/VEDAI_1024/images\n",
      " → 4500 images processed from VEDAI_dataset/VEDAI_1024/images\n",
      " → 5000 images processed from VEDAI_dataset/VEDAI_1024/images\n",
      " → 5500 images processed from VEDAI_dataset/VEDAI_1024/images\n"
     ]
    }
   ],
   "source": [
    "for path in VEDAI_PATHS:\n",
    "    print(f\"Scanning VEDAI path: {path}\")\n",
    "    safe_image_scan(path, label=0, extensions=(\".png\",))"
   ]
  },
  {
   "cell_type": "code",
   "execution_count": 7,
   "id": "5f806385",
   "metadata": {},
   "outputs": [
    {
     "name": "stdout",
     "output_type": "stream",
     "text": [
      "Scanning SHH path: ShanghaiTech Data/SHHA/images\n",
      " → 500 images processed from ShanghaiTech Data/SHHA/images\n",
      " → 1000 images processed from ShanghaiTech Data/SHHA/images\n",
      " → 1500 images processed from ShanghaiTech Data/SHHA/images\n",
      "Scanning SHH path: ShanghaiTech Data/SHHB/images\n",
      " → 500 images processed from ShanghaiTech Data/SHHB/images\n",
      " → 1000 images processed from ShanghaiTech Data/SHHB/images\n",
      " → 1500 images processed from ShanghaiTech Data/SHHB/images\n",
      " → 2000 images processed from ShanghaiTech Data/SHHB/images\n",
      " → 2500 images processed from ShanghaiTech Data/SHHB/images\n"
     ]
    }
   ],
   "source": [
    "for path in SHH_PATHS:\n",
    "    print(f\"Scanning SHH path: {path}\")\n",
    "    safe_image_scan(path, label=1, extensions=(\".jpg\", \".jpeg\"))"
   ]
  },
  {
   "cell_type": "code",
   "execution_count": 8,
   "id": "c8e8744c",
   "metadata": {},
   "outputs": [
    {
     "name": "stdout",
     "output_type": "stream",
     "text": [
      "--- Dataset Summary ---\n",
      "Total images: 18775\n",
      "Label counts: label\n",
      "0    13983\n",
      "1     4792\n",
      "Name: count, dtype: int64\n",
      "DataFrame shape: (18775, 2)\n",
      "First few rows:\n",
      "                                               image  label\n",
      "0     VEDAI_dataset\\VEDAI_512\\images\\00000000_co.png      0\n",
      "1     VEDAI_dataset\\VEDAI_512\\images\\00000000_ir.png      0\n",
      "2  VEDAI_dataset\\VEDAI_512\\images\\00000000_ir_tri...      0\n",
      "3  VEDAI_dataset\\VEDAI_512\\images\\00000000_ir_tri...      0\n",
      "4  VEDAI_dataset\\VEDAI_512\\images\\00000000_ir_tri...      0\n"
     ]
    }
   ],
   "source": [
    "# Inspect scanned image paths before computing metrics\n",
    "scanned_df = pd.DataFrame(original_data)\n",
    "print(\"--- Dataset Summary ---\")\n",
    "print(\"Total images:\", len(scanned_df))\n",
    "print(\"Label counts:\", scanned_df['label'].value_counts())\n",
    "print(\"DataFrame shape:\", scanned_df.shape)\n",
    "print(\"First few rows:\")\n",
    "print(scanned_df.head())"
   ]
  },
  {
   "cell_type": "code",
   "execution_count": 9,
   "id": "3e330108",
   "metadata": {},
   "outputs": [
    {
     "name": "stderr",
     "output_type": "stream",
     "text": [
      "Computing image features: 100%|██████████| 18775/18775 [05:29<00:00, 56.90it/s]\n"
     ]
    },
    {
     "name": "stdout",
     "output_type": "stream",
     "text": [
      "Saved original image metrics to: C:\\Users\\rsriram3\\Documents\\ind_study\\all_image_metrics.csv\n"
     ]
    }
   ],
   "source": [
    "LABELLED_CSV = ROOT_DIR / \"all_image_metrics.csv\"\n",
    "\n",
    "# Save raw metadata CSV (label only)\n",
    "LABELLED_CSV.parent.mkdir(parents=True, exist_ok=True)\n",
    "pd.DataFrame(original_data).to_csv(LABELLED_CSV, index=False)\n",
    "\n",
    "# Compute metrics for original images and save\n",
    "labelled_df = generate_label_csv(LABELLED_CSV, ROOT_DIR)\n",
    "labelled_df.to_csv(LABELLED_CSV, index=False)\n",
    "print(\"Saved original image metrics to:\", LABELLED_CSV)"
   ]
  },
  {
   "cell_type": "code",
   "execution_count": null,
   "id": "071ea343",
   "metadata": {},
   "outputs": [],
   "source": []
  }
 ],
 "metadata": {
  "kernelspec": {
   "display_name": "my-iim",
   "language": "python",
   "name": "python3"
  },
  "language_info": {
   "codemirror_mode": {
    "name": "ipython",
    "version": 3
   },
   "file_extension": ".py",
   "mimetype": "text/x-python",
   "name": "python",
   "nbconvert_exporter": "python",
   "pygments_lexer": "ipython3",
   "version": "3.12.0"
  }
 },
 "nbformat": 4,
 "nbformat_minor": 5
}
