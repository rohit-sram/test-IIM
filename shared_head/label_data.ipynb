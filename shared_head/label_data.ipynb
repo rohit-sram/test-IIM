{
 "cells": [
  {
   "cell_type": "code",
   "execution_count": 19,
   "id": "222b61c7",
   "metadata": {},
   "outputs": [],
   "source": [
    "import pandas as pd\n",
    "from pathlib import Path\n",
    "from tqdm import tqdm\n",
    "import os\n",
    "import glob"
   ]
  },
  {
   "cell_type": "code",
   "execution_count": 13,
   "id": "de1327d7",
   "metadata": {},
   "outputs": [],
   "source": [
    "# === Config ===\n",
    "ROOT_DIR = Path(\"C:/Users/rsriram3/Documents/ind_study\")\n",
    "OUTPUT_DIR = ROOT_DIR / \"data\"\n",
    "OUTPUT_DIR.mkdir(parents=True, exist_ok=True)\n",
    "\n",
    "TRAIN_OUT = OUTPUT_DIR / \"train_split.csv\"\n",
    "TEST_OUT = OUTPUT_DIR / \"test_split.csv\"\n",
    "\n",
    "# Image folders\n",
    "VEDAI_1024 = ROOT_DIR / \"VEDAI_dataset/VEDAI_1024/images\"\n",
    "VEDAI_512 = ROOT_DIR / \"VEDAI_dataset/VEDAI_512/images\"\n",
    "SHHA = ROOT_DIR / \"ShanghaiTech Data/SHHA/images\"\n",
    "SHHB = ROOT_DIR / \"ShanghaiTech Data/SHHB/images\"\n"
   ]
  },
  {
   "cell_type": "code",
   "execution_count": 22,
   "id": "ee84b25d",
   "metadata": {},
   "outputs": [],
   "source": [
    "OUTPUT_FILE = Path(OUTPUT_DIR / 'labelled_images.csv')\n",
    "SHUFFLED_FILE = Path(OUTPUT_DIR / 'shuffled_labelled_images.csv')"
   ]
  },
  {
   "cell_type": "code",
   "execution_count": 23,
   "id": "4bb795d0",
   "metadata": {},
   "outputs": [
    {
     "data": {
      "text/plain": [
       "WindowsPath('C:/Users/rsriram3/Documents/ind_study/data/labelled_images.csv')"
      ]
     },
     "execution_count": 23,
     "metadata": {},
     "output_type": "execute_result"
    }
   ],
   "source": [
    "OUTPUT_FILE"
   ]
  },
  {
   "cell_type": "code",
   "execution_count": 24,
   "id": "7a7eefe3",
   "metadata": {},
   "outputs": [],
   "source": [
    "VEDAI_PATHS = [\n",
    "    \"VEDAI_dataset/VEDAI_512/images\",\n",
    "    \"VEDAI_dataset/VEDAI_1024/images\"\n",
    "]\n",
    "\n",
    "SHH_PATHS = [\n",
    "    \"ShanghaiTech Data/SHHA/images\",\n",
    "    \"ShanghaiTech Data/SHHB/images\"\n",
    "]"
   ]
  },
  {
   "cell_type": "code",
   "execution_count": 25,
   "id": "9bd83cd5",
   "metadata": {},
   "outputs": [],
   "source": [
    "# Label Images\n",
    "def label_image(v_paths=VEDAI_PATHS, sh_paths=SHH_PATHS, root_dir=ROOT_DIR):\n",
    "    \"\"\"\n",
    "    Collects image paths and assigns labels: 0 for VEDAI, 1 for SHHA/SHHB.\n",
    "    Joins paths with root_dir. Returns DataFrame with columns: image, label.\n",
    "    \"\"\"\n",
    "    data = []\n",
    "\n",
    "    # For SHHA / SHHB\n",
    "    for path in sh_paths:\n",
    "        full_path = os.path.join(root_dir, path)\n",
    "        images = glob.glob(os.path.join(full_path, '*'))\n",
    "        for img in images:\n",
    "            rel_path = os.path.relpath(img, root_dir)\n",
    "            data.append((rel_path, 1))  # Label 1 for SHHA/SHHB\n",
    "\n",
    "    # For VEDAI\n",
    "    for path in v_paths:\n",
    "        full_path = os.path.join(root_dir, path)\n",
    "        images = glob.glob(os.path.join(full_path, '*'))\n",
    "        for img in images:\n",
    "            rel_path = os.path.relpath(img, root_dir)\n",
    "            data.append((rel_path, 0))  # Label 0 for VEDAI\n",
    "\n",
    "    return pd.DataFrame(data, columns=[\"image\", \"label\"])"
   ]
  },
  {
   "cell_type": "code",
   "execution_count": null,
   "id": "487c9ba8",
   "metadata": {},
   "outputs": [],
   "source": [
    "# Saving Labeled DataFrame to CSV\n",
    "def save_label_csv(df, output_file=OUTPUT_FILE):\n",
    "    df.to_csv(output_file, index=False)\n",
    "    print(f\"Saved CSV with {len(df)} entries at: {output_file}\")"
   ]
  },
  {
   "cell_type": "code",
   "execution_count": 14,
   "id": "a0fba439",
   "metadata": {},
   "outputs": [],
   "source": [
    "# === Collect image paths and assign labels ===\n",
    "def collect_images(folder: Path, label: int):\n",
    "    return [{'image': str(p.relative_to(ROOT_DIR)), 'label': label} for p in sorted(folder.glob(\"*.png\"))]"
   ]
  },
  {
   "cell_type": "code",
   "execution_count": null,
   "id": "386ecfb5",
   "metadata": {},
   "outputs": [],
   "source": [
    "import os\n",
    "import glob\n",
    "import pandas as pd\n",
    "from pathlib import Path\n",
    "\n",
    "# === Config (already provided in your script) ===\n",
    "ROOT_DIR = Path(\"C:/Users/rsriram3/Documents/ind_study\")\n",
    "OUTPUT_DIR = ROOT_DIR / \"data\"\n",
    "OUTPUT_DIR.mkdir(parents=True, exist_ok=True)\n",
    "\n",
    "TRAIN_OUT = OUTPUT_DIR / \"train_split.csv\"\n",
    "TEST_OUT = OUTPUT_DIR / \"test_split.csv\"\n",
    "OUTPUT_FILE = OUTPUT_DIR / \"labelled_images.csv\"\n",
    "SHUFFLED_FILE = OUTPUT_DIR / \"shuffled_labelled_images.csv\"\n",
    "\n",
    "VEDAI_PATHS = [ \n",
    "    \"VEDAI_dataset/VEDAI_512/images\",\n",
    "    \"VEDAI_dataset/VEDAI_1024/images\"\n",
    "]\n",
    "\n",
    "SHH_PATHS = [\n",
    "    \"ShanghaiTech Data/SHHA/images\",\n",
    "    \"ShanghaiTech Data/SHHB/images\"\n",
    "]"
   ]
  },
  {
   "cell_type": "code",
   "execution_count": null,
   "id": "e51e4e81",
   "metadata": {},
   "outputs": [],
   "source": [
    "# === Function to label all images ===\n",
    "def label_images(v_paths=VEDAI_PATHS, sh_paths=SHH_PATHS, root_dir=ROOT_DIR):\n",
    "    \"\"\"\n",
    "    Collect image paths and assign labels:\n",
    "    - 0 for VEDAI (vehicle detection)\n",
    "    - 1 for SHH (crowd detection)\n",
    "    Returns a DataFrame with columns: image (relative path), label\n",
    "    \"\"\"\n",
    "    data = []\n",
    "\n",
    "    # Label SHHA / SHHB images\n",
    "    for path in sh_paths:\n",
    "        full_path = root_dir / path\n",
    "        images = glob.glob(str(full_path / \"*.png\")) + glob.glob(str(full_path / \"*.jpg\"))\n",
    "        for img in images:\n",
    "            rel_path = os.path.relpath(img, root_dir)\n",
    "            data.append((rel_path, 1))  # Label 1 for SHH\n",
    "\n",
    "    # Label VEDAI images\n",
    "    for path in v_paths:\n",
    "        full_path = root_dir / path\n",
    "        images = glob.glob(str(full_path / \"*\"))\n",
    "        for img in images:\n",
    "            rel_path = os.path.relpath(img, root_dir)\n",
    "            data.append((rel_path, 0))  # Label 0 for VEDAI\n",
    "\n",
    "    return pd.DataFrame(data, columns=[\"image\", \"label\"])\n"
   ]
  },
  {
   "cell_type": "code",
   "execution_count": 35,
   "id": "cacd7737",
   "metadata": {},
   "outputs": [],
   "source": [
    "# === Save the labeled dataframe ===\n",
    "def save_label_csv(df, output_file=OUTPUT_FILE):\n",
    "    df.to_csv(output_file, index=False)\n",
    "    print(f\"✅ Saved {len(df)} labeled entries to: {output_file}\")"
   ]
  },
  {
   "cell_type": "code",
   "execution_count": 36,
   "id": "a1291602",
   "metadata": {},
   "outputs": [
    {
     "name": "stdout",
     "output_type": "stream",
     "text": [
      "✅ Saved 4156 labeled entries to: C:\\Users\\rsriram3\\Documents\\ind_study\\data\\labelled_images.csv\n"
     ]
    }
   ],
   "source": [
    "df_labeled = label_images()\n",
    "save_label_csv(df_labeled)"
   ]
  },
  {
   "cell_type": "code",
   "execution_count": 37,
   "id": "69dceea7",
   "metadata": {},
   "outputs": [
    {
     "name": "stdout",
     "output_type": "stream",
     "text": [
      "Checking if image files exist...\n",
      "\n"
     ]
    },
    {
     "name": "stderr",
     "output_type": "stream",
     "text": [
      "Verifying images: 100%|██████████| 4156/4156 [00:00<00:00, 38073.99it/s]"
     ]
    },
    {
     "name": "stdout",
     "output_type": "stream",
     "text": [
      "\n",
      "✅ All image files found!\n"
     ]
    },
    {
     "name": "stderr",
     "output_type": "stream",
     "text": [
      "\n"
     ]
    }
   ],
   "source": [
    "import pandas as pd\n",
    "from pathlib import Path\n",
    "from tqdm import tqdm\n",
    "\n",
    "# === Load CSV ===\n",
    "csv_path = Path(\"C:/Users/rsriram3/Documents/ind_study/data/labelled_images.csv\")\n",
    "df = pd.read_csv(OUTPUT_FILE)\n",
    "\n",
    "# === Set root directory (adjust as per actual Colab folder structure) ===\n",
    "ROOT_DIR = Path(\"C:/Users/rsriram3/Documents/ind_study\")  # You can change this if the image folders are nested\n",
    "\n",
    "# === Check if all image files exist ===\n",
    "missing_files = []\n",
    "\n",
    "print(\"Checking if image files exist...\\n\")\n",
    "for rel_path in tqdm(df['image'], desc=\"Verifying images\"):\n",
    "    image_path = ROOT_DIR / rel_path\n",
    "    if not image_path.exists():\n",
    "        missing_files.append(str(image_path))\n",
    "\n",
    "# === Report missing files ===\n",
    "if missing_files:\n",
    "    print(f\"\\n❌ {len(missing_files)} missing image(s):\")\n",
    "    for path in missing_files[:10]:  # show a sample\n",
    "        print(\" -\", path)\n",
    "else:\n",
    "    print(\"\\n✅ All image files found!\")\n"
   ]
  },
  {
   "cell_type": "code",
   "execution_count": 38,
   "id": "9537f662",
   "metadata": {},
   "outputs": [],
   "source": [
    "class_0 = df[df['label'] == 0]\n",
    "class_1 = df[df['label'] == 1]"
   ]
  },
  {
   "cell_type": "code",
   "execution_count": null,
   "id": "1f526188",
   "metadata": {},
   "outputs": [],
   "source": [
    "class_0, class_1"
   ]
  },
  {
   "cell_type": "code",
   "execution_count": 44,
   "id": "f08ee6a4",
   "metadata": {},
   "outputs": [],
   "source": [
    "from sklearn.utils import shuffle\n",
    "\n",
    "def sample_data(df, vedai_train=2000, shh_train=1000, shh_test=198, seed=42):\n",
    "    \"\"\"\n",
    "    Ideal split:\n",
    "    - Train: 2000 VEDAI, 1000 SHH\n",
    "    - Test: rest of VEDAI(958) + 198 SHH\n",
    "    \"\"\"\n",
    "    df = shuffle(df, random_state=seed)\n",
    "\n",
    "    vedai_df = df[df['label'] == 0]\n",
    "    shh_df = df[df['label'] == 1]\n",
    "\n",
    "    assert len(vedai_df) >= vedai_train\n",
    "    assert len(shh_df) >= shh_train + shh_test\n",
    "\n",
    "    vedai_train_df = vedai_df.iloc[:vedai_train]\n",
    "    vedai_test_df = vedai_df.iloc[vedai_train:]  # Remaining ~2111\n",
    "\n",
    "    shh_train_df = shh_df.iloc[:shh_train]\n",
    "    shh_test_df = shh_df.iloc[shh_train:shh_train + shh_test]\n",
    "\n",
    "    train_df = pd.concat([vedai_train_df, shh_train_df]).reset_index(drop=True)\n",
    "    test_df = pd.concat([vedai_test_df, shh_test_df]).reset_index(drop=True)\n",
    "\n",
    "    train_df = shuffle(train_df, random_state=seed).reset_index(drop=True)\n",
    "    test_df = shuffle(test_df, random_state=seed).reset_index(drop=True)\n",
    "\n",
    "    return train_df, test_df"
   ]
  },
  {
   "cell_type": "code",
   "execution_count": 54,
   "id": "6bd8b78e",
   "metadata": {},
   "outputs": [],
   "source": [
    "def save_train_test(train_df, test_df, output_dir='.'):\n",
    "    train_csv = os.path.join(output_dir, 'train_split.csv')\n",
    "    test_csv = os.path.join(output_dir, 'test_split.csv')\n",
    "\n",
    "    # Save only 'image' and 'label' columns (with relative paths)\n",
    "    train_df[['image', 'label']].to_csv(train_csv, index=False)\n",
    "    test_df[['image', 'label']].to_csv(test_csv, index=False)\n",
    "\n",
    "    print(f\"Train set saved as CSV : {train_csv} ({len(train_df)} samples)\")\n",
    "    print(f\"Test set saved as CSV: {test_csv} ({len(test_df)} samples)\")"
   ]
  },
  {
   "cell_type": "code",
   "execution_count": 46,
   "id": "9709f072",
   "metadata": {},
   "outputs": [],
   "source": [
    "train_df, test_df = sample_data(df)"
   ]
  },
  {
   "cell_type": "code",
   "execution_count": 50,
   "id": "f34715cf",
   "metadata": {},
   "outputs": [
    {
     "name": "stdout",
     "output_type": "stream",
     "text": [
      "Train set saved as CSV : C:\\Users\\rsriram3\\Documents\\ind_study\\data\\train_split.csv (3000 samples)\n",
      "Test set saved as CSV: C:\\Users\\rsriram3\\Documents\\ind_study\\data\\test_split.csv (1156 samples)\n"
     ]
    }
   ],
   "source": [
    "save_train_test(train_df, test_df, output_dir=OUTPUT_DIR)"
   ]
  },
  {
   "cell_type": "code",
   "execution_count": 52,
   "id": "a8ebf381",
   "metadata": {},
   "outputs": [],
   "source": [
    "train_df['image'] = train_df['image'].str.replace('.png2.png', '.png', regex=False)\n",
    "test_df['image'] = test_df['image'].str.replace('.png2.png', '.png', regex=False)"
   ]
  },
  {
   "cell_type": "code",
   "execution_count": 53,
   "id": "91b79124",
   "metadata": {},
   "outputs": [
    {
     "name": "stdout",
     "output_type": "stream",
     "text": [
      "Train set saved as CSV : C:\\Users\\rsriram3\\Documents\\ind_study\\data\\train_split_x.csv (3000 samples)\n",
      "Test set saved as CSV: C:\\Users\\rsriram3\\Documents\\ind_study\\data\\test_split_x.csv (1156 samples)\n"
     ]
    }
   ],
   "source": [
    "save_train_test(train_df, test_df, output_dir=OUTPUT_DIR)"
   ]
  },
  {
   "cell_type": "code",
   "execution_count": null,
   "id": "cd608033",
   "metadata": {},
   "outputs": [],
   "source": []
  }
 ],
 "metadata": {
  "kernelspec": {
   "display_name": "my-iim",
   "language": "python",
   "name": "python3"
  },
  "language_info": {
   "codemirror_mode": {
    "name": "ipython",
    "version": 3
   },
   "file_extension": ".py",
   "mimetype": "text/x-python",
   "name": "python",
   "nbconvert_exporter": "python",
   "pygments_lexer": "ipython3",
   "version": "3.12.0"
  }
 },
 "nbformat": 4,
 "nbformat_minor": 5
}
