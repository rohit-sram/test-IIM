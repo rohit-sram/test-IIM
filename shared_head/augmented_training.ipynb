{
 "cells": [
  {
   "cell_type": "markdown",
   "metadata": {},
   "source": [
    "## VS CODE"
   ]
  },
  {
   "cell_type": "code",
   "execution_count": 1,
   "metadata": {},
   "outputs": [
    {
     "name": "stderr",
     "output_type": "stream",
     "text": [
      "c:\\Users\\rsriram3\\Documents\\ind_study\\test-IIM\\my-iim\\Lib\\site-packages\\tqdm\\auto.py:21: TqdmWarning: IProgress not found. Please update jupyter and ipywidgets. See https://ipywidgets.readthedocs.io/en/stable/user_install.html\n",
      "  from .autonotebook import tqdm as notebook_tqdm\n"
     ]
    }
   ],
   "source": [
    "import os\n",
    "import gc\n",
    "import pandas as pd\n",
    "import torch\n",
    "import numpy as np\n",
    "from sklearn.model_selection import StratifiedKFold\n",
    "from torch.utils.data import DataLoader, Dataset\n",
    "from torchvision import transforms\n",
    "from PIL import Image\n",
    "import timm\n",
    "from timm import create_model\n",
    "import torch.nn as nn\n",
    "import torch.nn.functional as F\n",
    "import torch.optim as optim\n",
    "from tqdm import tqdm\n",
    "from sklearn.metrics import accuracy_score, f1_score, confusion_matrix, classification_report\n",
    "import matplotlib.pyplot as plt\n",
    "import seaborn as sns\n",
    "from pathlib import Path\n",
    "from torch.amp import autocast, GradScaler"
   ]
  },
  {
   "cell_type": "code",
   "execution_count": 2,
   "metadata": {},
   "outputs": [],
   "source": [
    "# === Configurations ===\n",
    "ROOT_DIR = Path(\"C:/Users/rsriram3/Documents/ind_study\")\n",
    "OUTPUT_DIR = ROOT_DIR / \"data\"\n",
    "# CSV_PATH = OUTPUT_DIR / \"full_augmented_images_metrics.csv\"\n",
    "CSV_PATH = ROOT_DIR / \"all_image_metrics.csv\"\n",
    "CHECKPOINT_DIR = OUTPUT_DIR / \"best_checkpoints\"\n",
    "CHECKPOINT_DIR.mkdir(parents=True, exist_ok=True)\n",
    "# IMAGE_ROOT = ROOT_DIR / \"images\"\n",
    "NUM_CLASSES = 2\n",
    "IMAGE_SIZE = 224\n",
    "BATCH_SIZE = 32\n",
    "EPOCHS = 15\n",
    "PATIENCE = 3\n",
    "NUM_FOLDS = 5\n",
    "USE_MIXUP = True\n",
    "ALPHA_MIXUP = 0.4\n",
    "TEMPERATURE = 2.0\n",
    "DEVICE = \"cuda\" if torch.cuda.is_available() else \"cpu\"\n"
   ]
  },
  {
   "cell_type": "code",
   "execution_count": 3,
   "metadata": {},
   "outputs": [],
   "source": [
    "# === Transforms ===\n",
    "transform = transforms.Compose([\n",
    "    transforms.Resize((IMAGE_SIZE, IMAGE_SIZE)),\n",
    "    transforms.ToTensor(),\n",
    "    transforms.Normalize(mean=[0.485, 0.456, 0.406], std=[0.229, 0.224, 0.225])\n",
    "])"
   ]
  },
  {
   "cell_type": "code",
   "execution_count": 4,
   "metadata": {},
   "outputs": [],
   "source": [
    "# # === Dataset with optional aux features ===\n",
    "# class SharedHeadDataset(Dataset):\n",
    "#     def __init__(self, df, use_aux=True):\n",
    "#         self.df = df.reset_index(drop=True)\n",
    "#         self.use_aux = use_aux\n",
    "\n",
    "#     def __len__(self):\n",
    "#         return len(self.df)\n",
    "\n",
    "#     def __getitem__(self, idx):\n",
    "#         row = self.df.iloc[idx]\n",
    "#         image_path = (ROOT_DIR / row['image']).resolve()\n",
    "#         image = Image.open(image_path).convert(\"RGB\")\n",
    "#         image = transform(image)\n",
    "#         label = torch.tensor(row['label'], dtype=torch.long)\n",
    "\n",
    "#         if self.use_aux:\n",
    "#             aux = torch.tensor([row['brightness'], row['edge_density'], row['entropy']], dtype=torch.float32)\n",
    "#             return image, aux, label\n",
    "#         else:\n",
    "#             return image, label\n",
    "        \n",
    "# === Dataset ===\n",
    "class SharedHeadDataset(torch.utils.data.Dataset):\n",
    "    def __init__(self, csv_path, root_dir):\n",
    "        self.data = pd.read_csv(csv_path)\n",
    "        self.root_dir = Path(root_dir)\n",
    "        self.transform = transforms.Compose([\n",
    "            transforms.Resize((224, 224)),\n",
    "            transforms.ToTensor(),\n",
    "        ])\n",
    "\n",
    "    def __len__(self):\n",
    "        return len(self.data)\n",
    "\n",
    "    def __getitem__(self, idx):\n",
    "        row = self.data.iloc[idx]\n",
    "        img_path = self.root_dir / row['image']\n",
    "        ## ENDURING ell images are in RGB\n",
    "        image = Image.open(img_path).convert(\"RGB\")\n",
    "        image = self.transform(image)\n",
    "\n",
    "        aux = torch.tensor([\n",
    "            row['brightness'], \n",
    "            row['edge_density'], \n",
    "            row['entropy']\n",
    "        ], dtype=torch.float32)\n",
    "        \n",
    "        label = torch.tensor(row['label'], dtype=torch.long)\n",
    "        return image, aux, label"
   ]
  },
  {
   "cell_type": "code",
   "execution_count": 5,
   "metadata": {},
   "outputs": [],
   "source": [
    "# === Collate function to unify batch ===\n",
    "def collate_fun(batch):\n",
    "    images, auxs, labels = zip(*batch)\n",
    "    return torch.stack(images), torch.stack(auxs), torch.tensor(labels)"
   ]
  },
  {
   "cell_type": "code",
   "execution_count": 6,
   "metadata": {},
   "outputs": [],
   "source": [
    "# === Mixup ===\n",
    "def mixup_data(x, aux, y, alpha=ALPHA_MIXUP):\n",
    "    if alpha > 0:\n",
    "        lam = np.random.beta(alpha, alpha)\n",
    "    else:\n",
    "        lam = 1\n",
    "    batch_size = x.size()[0]\n",
    "    index = torch.randperm(batch_size).to(x.device)\n",
    "\n",
    "    mixed_x = lam * x + (1 - lam) * x[index, :]\n",
    "    mixed_aux = lam * aux + (1 - lam) * aux[index, :]\n",
    "    y_a, y_b = y, y[index]\n",
    "    return mixed_x, mixed_aux, y_a, y_b, lam"
   ]
  },
  {
   "cell_type": "code",
   "execution_count": 7,
   "metadata": {},
   "outputs": [],
   "source": [
    "def mixup_criterion(criterion, pred, y_a, y_b, lam):\n",
    "    return lam * criterion(pred, y_a) + (1 - lam) * criterion(pred, y_b)"
   ]
  },
  {
   "cell_type": "code",
   "execution_count": 8,
   "metadata": {},
   "outputs": [],
   "source": [
    "# # === Extended Model === OLDER VERSION -> WITH FEWER LAYERS\n",
    "# class ExtendedModel(nn.Module):\n",
    "#     def __init__(self, backbone, num_classes=NUM_CLASSES):\n",
    "#         super().__init__()\n",
    "#         self.backbone = create_model(backbone, pretrained=True, num_classes=0, global_pool=\"avg\")\n",
    "#         self.head = nn.Sequential(\n",
    "#             # nn.Linear(backbone.num_features + 3, 512),\n",
    "#             nn.Linear(backbone.num_features + 3, 256),\n",
    "#             nn.ReLU(),\n",
    "#             nn.Dropout(0.3),\n",
    "#             # nn.Linear(512, num_classes)\n",
    "#             nn.Linear(256, num_classes)\n",
    "#         )\n",
    "#         # self.backbone.reset_classifier(0)\n",
    "\n",
    "#     def forward(self, x, aux):\n",
    "#         features = self.backbone(x)\n",
    "#         combined = torch.cat([features, aux], dim=1)\n",
    "#         return self.head(combined)"
   ]
  },
  {
   "cell_type": "code",
   "execution_count": null,
   "metadata": {},
   "outputs": [],
   "source": [
    "# === Extended Model === NEWER VERSION -> WITH ADDED LAYERS\n",
    "class ExtendedModel(nn.Module):\n",
    "    def __init__(self, backbone, num_classes=NUM_CLASSES):\n",
    "        super().__init__()\n",
    "        self.backbone = create_model(backbone, pretrained=True, num_classes=0, global_pool=\"avg\")\n",
    "        self.aux_head = nn.Sequential(\n",
    "            nn.Linear(3, 32), # (3, 16)\n",
    "            nn.ReLU(),\n",
    "            nn.Linear(32, 16),\n",
    "            nn.ReLU(), # (16, 16)\n",
    "        )\n",
    "        self.head = nn.Sequential(\n",
    "            nn.LayerNorm(self.backbone.num_features + 16), ## earlier - BatchNorm1d(self.backbone.num_features + 16),\n",
    "            nn.Linear(self.backbone.num_features + 16, 256), ## earlier - nn.Linear(self.backbone.num_features + 3, 256),\n",
    "            nn.ReLU(),\n",
    "            nn.Dropout(0.4), ## Earlier - 0.3\n",
    "            nn.Linear(256, 64), ## Earlier - (512, 256)\n",
    "            nn.ReLU(),\n",
    "            nn.Dropout(0.4), ## Earlier - 0.3\n",
    "            nn.Linear(64, 2) ## Earlier - (256, 2)\n",
    "        )\n",
    "\n",
    "    def forward(self, x, aux):\n",
    "        features = self.backbone(x)\n",
    "        aux_embedding = self.aux_head(aux)\n",
    "        combined = torch.cat([features, aux_embedding], dim=1)\n",
    "        return self.head(combined)"
   ]
  },
  {
   "cell_type": "code",
   "execution_count": 10,
   "metadata": {},
   "outputs": [],
   "source": [
    "# === Evaluation ===\n",
    "def evaluate_model(model, dataloader):\n",
    "    model.eval()\n",
    "    all_preds, all_labels = [], []\n",
    "    \n",
    "    with torch.no_grad():\n",
    "        for images, aux, labels in dataloader:\n",
    "            images, aux, labels = images.to(DEVICE), aux.to(DEVICE), labels.to(DEVICE)\n",
    "            outputs = model(images, aux)\n",
    "            _, preds = torch.max(outputs, 1)\n",
    "            all_preds.extend(preds.cpu().numpy())\n",
    "            all_labels.extend(labels.cpu().numpy())\n",
    "\n",
    "    acc = accuracy_score(all_labels, all_preds)\n",
    "    f1 = f1_score(all_labels, all_preds)\n",
    "    cm = confusion_matrix(all_labels, all_preds)\n",
    "\n",
    "    print(\"\\n[ Classification Report: ]\")\n",
    "    print(classification_report(all_labels, all_preds, digits=4))\n",
    "\n",
    "    return acc, f1, cm, all_preds, all_labels"
   ]
  },
  {
   "cell_type": "code",
   "execution_count": 11,
   "metadata": {},
   "outputs": [],
   "source": [
    "def plot_metrics(train_accs, val_accs, model_name, save_path):\n",
    "    save_path.mkdir(parents=True, exist_ok=True)\n",
    "    plt.figure(figsize=(8, 5))\n",
    "    plt.plot(train_accs, label=\"Train Acc\")\n",
    "    plt.plot(val_accs, label=\"Val Acc\")\n",
    "    plt.title(f\"Accuracy vs Epoch - {model_name}\")\n",
    "    plt.xlabel(\"Epoch\")\n",
    "    plt.ylabel(\"Accuracy\")\n",
    "    plt.grid(True)\n",
    "    plt.legend()\n",
    "    plt.savefig(save_path / f\"{model_name}_accuracy.png\")\n",
    "    plt.close()"
   ]
  },
  {
   "cell_type": "code",
   "execution_count": 12,
   "metadata": {},
   "outputs": [],
   "source": [
    "# === Plot Confusion Matrix ===\n",
    "def plot_confusion_matrix(cm, model_name):\n",
    "    plt.figure(figsize=(6, 5))\n",
    "    sns.heatmap(cm, annot=True, fmt=\"d\", cmap=\"Blues\")\n",
    "    plt.xlabel(\"Predicted\")\n",
    "    plt.ylabel(\"True\")\n",
    "    plt.title(f\"Confusion Matrix: {model_name}\")\n",
    "    plt.show()"
   ]
  },
  {
   "cell_type": "code",
   "execution_count": 13,
   "metadata": {},
   "outputs": [],
   "source": [
    "## NEWER VERSION OF EARLY STOPPING\n",
    "class EarlyStopping:\n",
    "    def __init__(self, patience=3, delta=0.001, verbose=True):\n",
    "        self.patience = patience\n",
    "        self.delta = delta\n",
    "        self.counter = 0\n",
    "        self.best_score = None\n",
    "        self.early_stop = False\n",
    "        self.val_loss_min = float('inf')\n",
    "        self.verbose = verbose\n",
    "\n",
    "    def __call__(self, val_loss, model, path):\n",
    "        score = -val_loss\n",
    "        if self.best_score is None or score > self.best_score + self.delta:\n",
    "            self.best_score = score\n",
    "            self.save_checkpoint(val_loss, model, path)\n",
    "            self.counter = 0\n",
    "        else:\n",
    "            self.counter += 1\n",
    "            if self.verbose:\n",
    "                print(f\"EarlyStopping: {self.counter}/{self.patience}\")\n",
    "            if self.counter >= self.patience:\n",
    "                self.early_stop = True\n",
    "\n",
    "    def save_checkpoint(self, val_loss, model, path):\n",
    "        torch.save(model.state_dict(), path)\n",
    "        self.val_loss_min = val_loss\n",
    "\n",
    "## OLDER VERSION OF EARLY STOPPING\n",
    "\n",
    "# class EarlyStopping:\n",
    "#     def __init__(self, patience=5, verbose=False):\n",
    "#         self.patience = patience\n",
    "#         self.verbose = verbose\n",
    "#         self.counter = 0\n",
    "#         self.best_score = None\n",
    "#         self.early_stop = False\n",
    "\n",
    "#     def __call__(self, val_acc):\n",
    "#         if self.best_score is None or val_acc > self.best_score:\n",
    "#             self.best_score = val_acc\n",
    "#             self.counter = 0\n",
    "#         else:\n",
    "#             self.counter += 1\n",
    "#             if self.verbose:\n",
    "#                 print(f\"EarlyStopping counter: {self.counter} / {self.patience}\")\n",
    "#             if self.counter >= self.patience:\n",
    "#                 self.early_stop = True"
   ]
  },
  {
   "cell_type": "code",
   "execution_count": null,
   "metadata": {},
   "outputs": [],
   "source": [
    "# === Training ===\n",
    "def train_model(model_name, train_csv, val_csv, root_dir, save_path):\n",
    "    train_ds = SharedHeadDataset(train_csv, root_dir)\n",
    "    val_ds = SharedHeadDataset(val_csv, root_dir)\n",
    "    train_loader = DataLoader(train_ds, batch_size=BATCH_SIZE, shuffle=True, collate_fn=collate_fun)\n",
    "    val_loader = DataLoader(val_ds, batch_size=BATCH_SIZE, collate_fn=collate_fun)\n",
    "\n",
    "    model = ExtendedModel(model_name).to(DEVICE)\n",
    "    # optimizer = torch.optim.AdamW(model.parameters(), lr=1e-4)\n",
    "    optimizer = torch.optim.AdamW(model.parameters(), lr=3e-5, weight_decay=5e-3) ## try 2e-3 next\n",
    "    scheduler = torch.optim.lr_scheduler.CosineAnnealingWarmRestarts(optimizer, T_0=3, T_mult=1)\n",
    "    scaler = GradScaler()\n",
    "\n",
    "    early_stopper = EarlyStopping(patience=3, delta=0.001, verbose=True)\n",
    "    early_stop_path = CHECKPOINT_DIR / f\"{model_name}_earlystop_best.pth\"\n",
    "\n",
    "    train_accs, val_accs, train_losses, val_losses = [], [], [], []\n",
    "\n",
    "    for epoch in range(EPOCHS):\n",
    "        model.train()\n",
    "        correct, total = 0, 0\n",
    "        total_train_loss = 0.0\n",
    "        progress = tqdm(train_loader, desc=f\"Epoch {epoch+1}/{EPOCHS}\")\n",
    "\n",
    "        for images, aux, labels in progress:\n",
    "            images, aux, labels = images.to(DEVICE), aux.to(DEVICE), labels.to(DEVICE)\n",
    "            optimizer.zero_grad()\n",
    "\n",
    "            if USE_MIXUP:\n",
    "                images, aux_features, targets_a, targets_b, lam = mixup_data(images, aux, labels, ALPHA_MIXUP)\n",
    "                mixup_mode = True\n",
    "            else:\n",
    "                aux_features = aux\n",
    "                mixup_mode = False\n",
    "\n",
    "            with autocast(device_type=DEVICE):\n",
    "                outputs = model(images, aux_features)\n",
    "                if mixup_mode:\n",
    "                    loss = mixup_criterion(F.cross_entropy, outputs, targets_a, targets_b, lam)\n",
    "                else:\n",
    "                    loss = F.cross_entropy(outputs, labels, label_smoothing=0.1)  ## before - no label_smoothing\n",
    "\n",
    "            total_train_loss += loss.item()\n",
    "            scaler.scale(loss).backward()\n",
    "            scaler.step(optimizer)\n",
    "            scaler.update()\n",
    "\n",
    "            preds = torch.argmax(outputs, dim=1)\n",
    "            correct += (preds == labels).sum().item()\n",
    "            total += labels.size(0)\n",
    "            progress.set_postfix(loss=loss.item(), acc=correct / total)\n",
    "\n",
    "        train_acc = correct / total\n",
    "        train_loss = total_train_loss / len(train_loader)\n",
    "\n",
    "        # === Validation loss ===\n",
    "        model.eval()\n",
    "        total_val_loss = 0.0\n",
    "        with torch.no_grad():\n",
    "            for images, aux, labels in val_loader:\n",
    "                images, aux, labels = images.to(DEVICE), aux.to(DEVICE), labels.to(DEVICE)\n",
    "                outputs = model(images, aux)\n",
    "                total_val_loss += F.cross_entropy(outputs, labels).item()\n",
    "        val_loss = total_val_loss / len(val_loader)\n",
    "\n",
    "        val_acc, _, _, _, _ = evaluate_model(model, val_loader)\n",
    "\n",
    "        # Record metrics\n",
    "        train_accs.append(train_acc)\n",
    "        val_accs.append(val_acc)\n",
    "        train_losses.append(train_loss)\n",
    "        val_losses.append(val_loss)\n",
    "\n",
    "        # Early stopping check\n",
    "        early_stopper(val_loss, model, early_stop_path)\n",
    "        if early_stopper.early_stop:\n",
    "            print(\"Early stopping triggered.\")\n",
    "            break\n",
    "\n",
    "        scheduler.step(epoch)\n",
    "        gc.collect()\n",
    "\n",
    "    # Save last state and reload best if early stopped\n",
    "    torch.save(model.state_dict(), save_path)\n",
    "    if early_stopper.early_stop:\n",
    "        model.load_state_dict(torch.load(early_stop_path))\n",
    "\n",
    "    return model, train_accs, val_accs, train_losses, val_losses\n"
   ]
  },
  {
   "cell_type": "markdown",
   "metadata": {},
   "source": [
    "### PREVIOUS TRAINING PIPELINE"
   ]
  },
  {
   "cell_type": "code",
   "execution_count": 15,
   "metadata": {},
   "outputs": [],
   "source": [
    "# # === Model Training Function - Early stopping===\n",
    "\n",
    "# ## avoid if using newer pipeline\n",
    "\n",
    "# def train_model(model_name, train_csv, val_csv, root_dir, model_save_path):\n",
    "#     train_df = pd.read_csv(train_csv)\n",
    "#     val_df = pd.read_csv(val_csv)\n",
    "\n",
    "#     train_dataset = SharedHeadDataset(train_df, use_aux=True)\n",
    "#     val_dataset = SharedHeadDataset(val_df, use_aux=True)\n",
    "\n",
    "#     train_loader = DataLoader(train_dataset, batch_size=BATCH_SIZE, shuffle=True, collate_fn=collate_fn)\n",
    "#     val_loader = DataLoader(val_dataset, batch_size=BATCH_SIZE, shuffle=False, collate_fn=collate_fn)\n",
    "\n",
    "#     base_model = timm.create_model(model_name, pretrained=True, num_classes=0)\n",
    "#     model = ExtendedModel(base_model, num_classes=NUM_CLASSES).to(DEVICE)\n",
    "#     optimizer = optim.AdamW(model.parameters(), lr=3e-4)\n",
    "#     scheduler = torch.optim.lr_scheduler.CosineAnnealingLR(optimizer, T_max=EPOCHS)\n",
    "#     criterion = nn.CrossEntropyLoss()\n",
    "\n",
    "#     early_stopper = EarlyStopping(patience=PATIENCE, verbose=True)\n",
    "\n",
    "#     train_accs, val_accs = [], []\n",
    "#     best_val_acc = 0.0\n",
    "\n",
    "#     print(\"Epoch\\tTrain Acc\\tVal Acc\\tVal F1\")\n",
    "#     for epoch in range(EPOCHS):\n",
    "#         model.train()\n",
    "#         correct, total = 0, 0\n",
    "#         for images, aux, labels in tqdm(train_loader):\n",
    "#             images, aux, labels = images.to(DEVICE), aux.to(DEVICE), labels.to(DEVICE)\n",
    "#             optimizer.zero_grad()\n",
    "#             mixed_x, mixed_aux, y_a, y_b, lam = mixup_data(images, aux, labels)\n",
    "#             outputs = model(mixed_x, mixed_aux)\n",
    "#             loss = mixup_criterion(criterion, outputs, y_a, y_b, lam)\n",
    "#             loss.backward()\n",
    "#             optimizer.step()\n",
    "#             _, preds = torch.max(outputs, 1)\n",
    "#             total += labels.size(0)\n",
    "#             correct += (lam * preds.eq(y_a).sum().item() + (1 - lam) * preds.eq(y_b).sum().item())\n",
    "\n",
    "#         train_acc = correct / total\n",
    "#         val_acc, val_f1, val_cm = evaluate_model(model, val_loader)\n",
    "#         train_accs.append(train_acc)\n",
    "#         val_accs.append(val_acc)\n",
    "#         scheduler.step()\n",
    "\n",
    "#         print(f\"{epoch+1}\\t{train_acc:.4f}\\t{val_acc:.4f}\\t{val_f1:.4f}\")\n",
    "\n",
    "#         if val_acc > best_val_acc:\n",
    "#             best_val_acc = val_acc\n",
    "#             torch.save(model.state_dict(), model_save_path)\n",
    "\n",
    "#         early_stopper(val_acc)\n",
    "#         if early_stopper.early_stop:\n",
    "#             print(\"Early stopping triggered.\")\n",
    "#             break\n",
    "\n",
    "#     print(\"Best Val Accuracy:\", best_val_acc)\n",
    "#     return model, train_accs, val_accs"
   ]
  },
  {
   "cell_type": "code",
   "execution_count": null,
   "metadata": {},
   "outputs": [],
   "source": [
    "# model_configs = [\n",
    "#     (\"swin_small_patch4_window7_224.ms_in1k\", \"swin_model.pth\"),\n",
    "#     (\"coatnet_1_rw_224.sw_in1k\", \"coatnet_model.pth\"),\n",
    "#     (\"convnext_small.fb_in1k\", \"convnext_model.pth\"),\n",
    "#     (\"tiny_vit_5m_224.dist_in22k_ft_in1k\", \"tiny_vit_model.pth\"),\n",
    "#     (\"edgenext_xx_small.in1k\", \"edgenext_xx_model.pth\")\n",
    "# ]"
   ]
  },
  {
   "cell_type": "code",
   "execution_count": 23,
   "metadata": {},
   "outputs": [],
   "source": [
    "model_configs = [\n",
    "    (\"swin_small_patch4_window7_224.ms_in1k\", \"swin_model.pth\"), ## Swin-Small Transformer\n",
    "    (\"coatnet_1_rw_224.sw_in1k\", \"coatnet_model.pth\"), ## CoatNet-1\n",
    "    (\"convnext_small.fb_in1k\", \"convnext_model.pth\"), ## ConvNext-Small\n",
    "    (\"tiny_vit_5m_224.dist_in22k_ft_in1k\", \"tiny_vit_model.pth\"), ## Tiny-ViT-5M\n",
    "    (\"edgenext_xx_small.in1k\", \"edgenext_xx_model.pth\"), ## EdgeNext-XX-Small\n",
    "    \n",
    "    (\"mobileone_s0.apple_in1k\", \"mobileone_model.pth\"), ## MobileOne-S0\n",
    "    (\"lcnet_050.ra2_in1k \", \"lcnet_model.pth\"), ## LCNet-050\n",
    "    (\"tinynet_a.in1k\", \"tinynetA_model.pth\"), ## TinyNet-A0\n",
    "    (\"ghostnetv2_100.in1k\", \"ghostnet_model.pth\"), ## GhostNetV2-100\n",
    "    (\"mobilevitv2_050.cvnets_in1k\", \"mobilevitv2_model.pth\"), ## MobileViT-V2-050\n",
    "    \n",
    "]"
   ]
  },
  {
   "cell_type": "code",
   "execution_count": 17,
   "metadata": {},
   "outputs": [
    {
     "name": "stdout",
     "output_type": "stream",
     "text": [
      "                                                   image  label  brightness  \\\n",
      "14222  ShanghaiTech Data\\SHHA\\images\\0060_trivialaug2...      1         NaN   \n",
      "\n",
      "       edge_density  entropy  \n",
      "14222           NaN      NaN  \n"
     ]
    }
   ],
   "source": [
    "# Find all rows with any NA values\n",
    "df = pd.read_csv(CSV_PATH)\n",
    "rows_with_na = df[df.isnull().any(axis=1)]\n",
    "print(rows_with_na)"
   ]
  },
  {
   "cell_type": "code",
   "execution_count": 18,
   "metadata": {},
   "outputs": [
    {
     "name": "stdout",
     "output_type": "stream",
     "text": [
      "(18775, 5)\n",
      "(18774, 5)\n"
     ]
    }
   ],
   "source": [
    "# === Load & Clean CSV ===\n",
    "print(df.shape)\n",
    "df = df.dropna(subset=['image', 'label', 'brightness', 'edge_density', 'entropy']).reset_index(drop=True)\n",
    "print(df.shape)"
   ]
  },
  {
   "cell_type": "code",
   "execution_count": 19,
   "metadata": {},
   "outputs": [],
   "source": [
    "# === Cross-validation ===\n",
    "skf = StratifiedKFold(n_splits=NUM_FOLDS, shuffle=True, random_state=42)"
   ]
  },
  {
   "cell_type": "markdown",
   "metadata": {},
   "source": [
    "## tiny_vit model"
   ]
  },
  {
   "cell_type": "code",
   "execution_count": null,
   "metadata": {},
   "outputs": [],
   "source": [
    "model_id = 3\n",
    "model_name = model_configs[model_id][0]\n",
    "history = model_configs[model_id][1]\n",
    "save_path = ROOT_DIR / \"models\" / history.split('.')[0]\n",
    "save_path.mkdir(parents=True, exist_ok=True)\n",
    "plot_save_path = Path(\"C:/Users/rsriram3/Documents/ind_study/test-IIM\") / \"figures\" / \"shared_head_figures\" / history.split('.')[0]\n",
    "plot_save_path.mkdir(parents=True, exist_ok=True)"
   ]
  },
  {
   "cell_type": "code",
   "execution_count": 21,
   "metadata": {},
   "outputs": [],
   "source": [
    "# Create folds directory\n",
    "FOLDS_DIR = OUTPUT_DIR / \"folds\"\n",
    "FOLDS_DIR.mkdir(parents=True, exist_ok=True)"
   ]
  },
  {
   "cell_type": "code",
   "execution_count": null,
   "metadata": {},
   "outputs": [],
   "source": [
    "for fold, (train_idx, val_idx) in enumerate(skf.split(df, df['label'])):\n",
    "    print(f\"\\n Fold {fold + 1}\")\n",
    "\n",
    "    # Split and save\n",
    "    train_df = df.iloc[train_idx].reset_index(drop=True)\n",
    "    val_df = df.iloc[val_idx].reset_index(drop=True)\n",
    "\n",
    "    train_fold_path = FOLDS_DIR / f\"{history}_train_fold_{fold+1}.csv\"\n",
    "    val_fold_path = FOLDS_DIR / f\"{history}_val_fold_{fold+1}.csv\"\n",
    "    train_df.to_csv(train_fold_path, index=False)\n",
    "    val_df.to_csv(val_fold_path, index=False)\n",
    "\n",
    "    # Train and save model\n",
    "    model_save_path = save_path / f\"{model_name}_fold{fold+1}.pth\"\n",
    "    model, train_accs, val_accs, train_losses, val_losses = train_model(\n",
    "        model_name, train_fold_path, val_fold_path, ROOT_DIR, model_save_path\n",
    "    )\n",
    "\n",
    "    # Plot\n",
    "    plot_metrics(train_accs, val_accs, f\"{model_name}_fold{fold+1}\", plot_save_path)\n",
    "\n",
    "# for fold, (train_idx, val_idx) in enumerate(skf.split(df, df['label'])):\n",
    "#     print(f\"\\n Fold {fold + 1} \")\n",
    "#     train_df = df.iloc[train_idx]\n",
    "#     val_df = df.iloc[val_idx]\n",
    "\n",
    "#     train_fold_path = FOLDS_DIR / f\"{history}_train_fold_{fold+1}.csv\"\n",
    "#     val_fold_path = FOLDS_DIR / f\"{history}_val_fold_{fold+1}.csv\"\n",
    "#     train_df.to_csv(train_fold_path, index=False)\n",
    "#     val_df.to_csv(val_fold_path, index=False)\n",
    "\n",
    "#     model_save_path = save_path / f\"{model_name}_fold{fold+1}.pth\"\n",
    "#     model, train_accs, val_accs = train_model(model_name, train_fold_path, val_fold_path, ROOT_DIR, model_save_path)\n",
    "#     plot_metrics(train_accs, val_accs, f\"{model_name}_fold{fold+1}\", plot_save_path)\n"
   ]
  },
  {
   "cell_type": "markdown",
   "metadata": {},
   "source": [
    "## mobileone_s0 model"
   ]
  },
  {
   "cell_type": "code",
   "execution_count": 24,
   "metadata": {},
   "outputs": [],
   "source": [
    "model_id = 5 # ## mobileone_s0\n",
    "model_name = model_configs[model_id][0]\n",
    "history = model_configs[model_id][1]\n",
    "save_path = ROOT_DIR / \"models\" / history.split('.')[0]\n",
    "save_path.mkdir(parents=True, exist_ok=True)\n",
    "plot_save_path = Path(\"C:/Users/rsriram3/Documents/ind_study/test-IIM\") / \"figures\" / \"shared_head_figures\" / history.split('.')[0]\n",
    "plot_save_path.mkdir(parents=True, exist_ok=True)"
   ]
  },
  {
   "cell_type": "code",
   "execution_count": 25,
   "metadata": {},
   "outputs": [
    {
     "name": "stdout",
     "output_type": "stream",
     "text": [
      "\n",
      " Fold 1\n"
     ]
    },
    {
     "name": "stderr",
     "output_type": "stream",
     "text": [
      "c:\\Users\\rsriram3\\Documents\\ind_study\\test-IIM\\my-iim\\Lib\\site-packages\\huggingface_hub\\file_download.py:144: UserWarning: `huggingface_hub` cache-system uses symlinks by default to efficiently store duplicated files but your machine does not support them in C:\\Users\\rsriram3\\.cache\\huggingface\\hub\\models--timm--mobileone_s0.apple_in1k. Caching files will still work but in a degraded version that might require more space on your disk. This warning can be disabled by setting the `HF_HUB_DISABLE_SYMLINKS_WARNING` environment variable. For more details, see https://huggingface.co/docs/huggingface_hub/how-to-cache#limitations.\n",
      "To support symlinks on Windows, you either need to activate Developer Mode or to run Python as an administrator. In order to activate developer mode, see this article: https://docs.microsoft.com/en-us/windows/apps/get-started/enable-your-device-for-development\n",
      "  warnings.warn(message)\n",
      "Epoch 1/15: 100%|██████████| 470/470 [05:42<00:00,  1.37it/s, acc=0.837, loss=0.263] \n"
     ]
    },
    {
     "name": "stdout",
     "output_type": "stream",
     "text": [
      "\n",
      "[ Classification Report: ]\n",
      "              precision    recall  f1-score   support\n",
      "\n",
      "           0     1.0000    1.0000    1.0000      2797\n",
      "           1     1.0000    1.0000    1.0000       958\n",
      "\n",
      "    accuracy                         1.0000      3755\n",
      "   macro avg     1.0000    1.0000    1.0000      3755\n",
      "weighted avg     1.0000    1.0000    1.0000      3755\n",
      "\n"
     ]
    },
    {
     "name": "stderr",
     "output_type": "stream",
     "text": [
      "Epoch 2/15: 100%|██████████| 470/470 [04:19<00:00,  1.81it/s, acc=0.818, loss=0.115]  \n"
     ]
    },
    {
     "name": "stdout",
     "output_type": "stream",
     "text": [
      "\n",
      "[ Classification Report: ]\n",
      "              precision    recall  f1-score   support\n",
      "\n",
      "           0     1.0000    1.0000    1.0000      2797\n",
      "           1     1.0000    1.0000    1.0000       958\n",
      "\n",
      "    accuracy                         1.0000      3755\n",
      "   macro avg     1.0000    1.0000    1.0000      3755\n",
      "weighted avg     1.0000    1.0000    1.0000      3755\n",
      "\n",
      "EarlyStopping: 1/3\n"
     ]
    },
    {
     "name": "stderr",
     "output_type": "stream",
     "text": [
      "Epoch 3/15: 100%|██████████| 470/470 [04:19<00:00,  1.81it/s, acc=0.831, loss=0.0202] \n"
     ]
    },
    {
     "name": "stdout",
     "output_type": "stream",
     "text": [
      "\n",
      "[ Classification Report: ]\n",
      "              precision    recall  f1-score   support\n",
      "\n",
      "           0     1.0000    1.0000    1.0000      2797\n",
      "           1     1.0000    1.0000    1.0000       958\n",
      "\n",
      "    accuracy                         1.0000      3755\n",
      "   macro avg     1.0000    1.0000    1.0000      3755\n",
      "weighted avg     1.0000    1.0000    1.0000      3755\n",
      "\n",
      "EarlyStopping: 2/3\n"
     ]
    },
    {
     "name": "stderr",
     "output_type": "stream",
     "text": [
      "Epoch 4/15: 100%|██████████| 470/470 [04:21<00:00,  1.80it/s, acc=0.824, loss=0.0818] \n"
     ]
    },
    {
     "name": "stdout",
     "output_type": "stream",
     "text": [
      "\n",
      "[ Classification Report: ]\n",
      "              precision    recall  f1-score   support\n",
      "\n",
      "           0     1.0000    1.0000    1.0000      2797\n",
      "           1     1.0000    1.0000    1.0000       958\n",
      "\n",
      "    accuracy                         1.0000      3755\n",
      "   macro avg     1.0000    1.0000    1.0000      3755\n",
      "weighted avg     1.0000    1.0000    1.0000      3755\n",
      "\n",
      "EarlyStopping: 3/3\n",
      "Early stopping triggered.\n",
      "\n",
      " Fold 2\n"
     ]
    },
    {
     "name": "stderr",
     "output_type": "stream",
     "text": [
      "Epoch 1/15:  24%|██▎       | 111/470 [01:02<03:23,  1.77it/s, acc=0.787, loss=0.288] \n"
     ]
    },
    {
     "ename": "KeyboardInterrupt",
     "evalue": "",
     "output_type": "error",
     "traceback": [
      "\u001b[31m---------------------------------------------------------------------------\u001b[39m",
      "\u001b[31mKeyboardInterrupt\u001b[39m                         Traceback (most recent call last)",
      "\u001b[36mCell\u001b[39m\u001b[36m \u001b[39m\u001b[32mIn[25]\u001b[39m\u001b[32m, line 15\u001b[39m\n\u001b[32m     13\u001b[39m \u001b[38;5;66;03m# Train and save model\u001b[39;00m\n\u001b[32m     14\u001b[39m model_save_path = save_path / \u001b[33mf\u001b[39m\u001b[33m\"\u001b[39m\u001b[38;5;132;01m{\u001b[39;00mmodel_name\u001b[38;5;132;01m}\u001b[39;00m\u001b[33m_fold\u001b[39m\u001b[38;5;132;01m{\u001b[39;00mfold+\u001b[32m1\u001b[39m\u001b[38;5;132;01m}\u001b[39;00m\u001b[33m.pth\u001b[39m\u001b[33m\"\u001b[39m\n\u001b[32m---> \u001b[39m\u001b[32m15\u001b[39m model, train_accs, val_accs, train_losses, val_losses = \u001b[43mtrain_model\u001b[49m\u001b[43m(\u001b[49m\n\u001b[32m     16\u001b[39m \u001b[43m    \u001b[49m\u001b[43mmodel_name\u001b[49m\u001b[43m,\u001b[49m\u001b[43m \u001b[49m\u001b[43mtrain_fold_path\u001b[49m\u001b[43m,\u001b[49m\u001b[43m \u001b[49m\u001b[43mval_fold_path\u001b[49m\u001b[43m,\u001b[49m\u001b[43m \u001b[49m\u001b[43mROOT_DIR\u001b[49m\u001b[43m,\u001b[49m\u001b[43m \u001b[49m\u001b[43mmodel_save_path\u001b[49m\n\u001b[32m     17\u001b[39m \u001b[43m\u001b[49m\u001b[43m)\u001b[49m\n\u001b[32m     19\u001b[39m \u001b[38;5;66;03m# Plot\u001b[39;00m\n\u001b[32m     20\u001b[39m plot_metrics(train_accs, val_accs, \u001b[33mf\u001b[39m\u001b[33m\"\u001b[39m\u001b[38;5;132;01m{\u001b[39;00mmodel_name\u001b[38;5;132;01m}\u001b[39;00m\u001b[33m_fold\u001b[39m\u001b[38;5;132;01m{\u001b[39;00mfold+\u001b[32m1\u001b[39m\u001b[38;5;132;01m}\u001b[39;00m\u001b[33m\"\u001b[39m, plot_save_path)\n",
      "\u001b[36mCell\u001b[39m\u001b[36m \u001b[39m\u001b[32mIn[14]\u001b[39m\u001b[32m, line 24\u001b[39m, in \u001b[36mtrain_model\u001b[39m\u001b[34m(model_name, train_csv, val_csv, root_dir, save_path)\u001b[39m\n\u001b[32m     21\u001b[39m total_train_loss = \u001b[32m0.0\u001b[39m\n\u001b[32m     22\u001b[39m progress = tqdm(train_loader, desc=\u001b[33mf\u001b[39m\u001b[33m\"\u001b[39m\u001b[33mEpoch \u001b[39m\u001b[38;5;132;01m{\u001b[39;00mepoch+\u001b[32m1\u001b[39m\u001b[38;5;132;01m}\u001b[39;00m\u001b[33m/\u001b[39m\u001b[38;5;132;01m{\u001b[39;00mEPOCHS\u001b[38;5;132;01m}\u001b[39;00m\u001b[33m\"\u001b[39m)\n\u001b[32m---> \u001b[39m\u001b[32m24\u001b[39m \u001b[43m\u001b[49m\u001b[38;5;28;43;01mfor\u001b[39;49;00m\u001b[43m \u001b[49m\u001b[43mimages\u001b[49m\u001b[43m,\u001b[49m\u001b[43m \u001b[49m\u001b[43maux\u001b[49m\u001b[43m,\u001b[49m\u001b[43m \u001b[49m\u001b[43mlabels\u001b[49m\u001b[43m \u001b[49m\u001b[38;5;129;43;01min\u001b[39;49;00m\u001b[43m \u001b[49m\u001b[43mprogress\u001b[49m\u001b[43m:\u001b[49m\n\u001b[32m     25\u001b[39m \u001b[43m    \u001b[49m\u001b[43mimages\u001b[49m\u001b[43m,\u001b[49m\u001b[43m \u001b[49m\u001b[43maux\u001b[49m\u001b[43m,\u001b[49m\u001b[43m \u001b[49m\u001b[43mlabels\u001b[49m\u001b[43m \u001b[49m\u001b[43m=\u001b[49m\u001b[43m \u001b[49m\u001b[43mimages\u001b[49m\u001b[43m.\u001b[49m\u001b[43mto\u001b[49m\u001b[43m(\u001b[49m\u001b[43mDEVICE\u001b[49m\u001b[43m)\u001b[49m\u001b[43m,\u001b[49m\u001b[43m \u001b[49m\u001b[43maux\u001b[49m\u001b[43m.\u001b[49m\u001b[43mto\u001b[49m\u001b[43m(\u001b[49m\u001b[43mDEVICE\u001b[49m\u001b[43m)\u001b[49m\u001b[43m,\u001b[49m\u001b[43m \u001b[49m\u001b[43mlabels\u001b[49m\u001b[43m.\u001b[49m\u001b[43mto\u001b[49m\u001b[43m(\u001b[49m\u001b[43mDEVICE\u001b[49m\u001b[43m)\u001b[49m\n\u001b[32m     26\u001b[39m \u001b[43m    \u001b[49m\u001b[43moptimizer\u001b[49m\u001b[43m.\u001b[49m\u001b[43mzero_grad\u001b[49m\u001b[43m(\u001b[49m\u001b[43m)\u001b[49m\n",
      "\u001b[36mFile \u001b[39m\u001b[32mc:\\Users\\rsriram3\\Documents\\ind_study\\test-IIM\\my-iim\\Lib\\site-packages\\tqdm\\std.py:1181\u001b[39m, in \u001b[36mtqdm.__iter__\u001b[39m\u001b[34m(self)\u001b[39m\n\u001b[32m   1178\u001b[39m time = \u001b[38;5;28mself\u001b[39m._time\n\u001b[32m   1180\u001b[39m \u001b[38;5;28;01mtry\u001b[39;00m:\n\u001b[32m-> \u001b[39m\u001b[32m1181\u001b[39m \u001b[43m    \u001b[49m\u001b[38;5;28;43;01mfor\u001b[39;49;00m\u001b[43m \u001b[49m\u001b[43mobj\u001b[49m\u001b[43m \u001b[49m\u001b[38;5;129;43;01min\u001b[39;49;00m\u001b[43m \u001b[49m\u001b[43miterable\u001b[49m\u001b[43m:\u001b[49m\n\u001b[32m   1182\u001b[39m \u001b[43m        \u001b[49m\u001b[38;5;28;43;01myield\u001b[39;49;00m\u001b[43m \u001b[49m\u001b[43mobj\u001b[49m\n\u001b[32m   1183\u001b[39m \u001b[43m        \u001b[49m\u001b[38;5;66;43;03m# Update and possibly print the progressbar.\u001b[39;49;00m\n\u001b[32m   1184\u001b[39m \u001b[43m        \u001b[49m\u001b[38;5;66;43;03m# Note: does not call self.update(1) for speed optimisation.\u001b[39;49;00m\n",
      "\u001b[36mFile \u001b[39m\u001b[32mc:\\Users\\rsriram3\\Documents\\ind_study\\test-IIM\\my-iim\\Lib\\site-packages\\torch\\utils\\data\\dataloader.py:708\u001b[39m, in \u001b[36m_BaseDataLoaderIter.__next__\u001b[39m\u001b[34m(self)\u001b[39m\n\u001b[32m    705\u001b[39m \u001b[38;5;28;01mif\u001b[39;00m \u001b[38;5;28mself\u001b[39m._sampler_iter \u001b[38;5;129;01mis\u001b[39;00m \u001b[38;5;28;01mNone\u001b[39;00m:\n\u001b[32m    706\u001b[39m     \u001b[38;5;66;03m# TODO(https://github.com/pytorch/pytorch/issues/76750)\u001b[39;00m\n\u001b[32m    707\u001b[39m     \u001b[38;5;28mself\u001b[39m._reset()  \u001b[38;5;66;03m# type: ignore[call-arg]\u001b[39;00m\n\u001b[32m--> \u001b[39m\u001b[32m708\u001b[39m data = \u001b[38;5;28;43mself\u001b[39;49m\u001b[43m.\u001b[49m\u001b[43m_next_data\u001b[49m\u001b[43m(\u001b[49m\u001b[43m)\u001b[49m\n\u001b[32m    709\u001b[39m \u001b[38;5;28mself\u001b[39m._num_yielded += \u001b[32m1\u001b[39m\n\u001b[32m    710\u001b[39m \u001b[38;5;28;01mif\u001b[39;00m (\n\u001b[32m    711\u001b[39m     \u001b[38;5;28mself\u001b[39m._dataset_kind == _DatasetKind.Iterable\n\u001b[32m    712\u001b[39m     \u001b[38;5;129;01mand\u001b[39;00m \u001b[38;5;28mself\u001b[39m._IterableDataset_len_called \u001b[38;5;129;01mis\u001b[39;00m \u001b[38;5;129;01mnot\u001b[39;00m \u001b[38;5;28;01mNone\u001b[39;00m\n\u001b[32m    713\u001b[39m     \u001b[38;5;129;01mand\u001b[39;00m \u001b[38;5;28mself\u001b[39m._num_yielded > \u001b[38;5;28mself\u001b[39m._IterableDataset_len_called\n\u001b[32m    714\u001b[39m ):\n",
      "\u001b[36mFile \u001b[39m\u001b[32mc:\\Users\\rsriram3\\Documents\\ind_study\\test-IIM\\my-iim\\Lib\\site-packages\\torch\\utils\\data\\dataloader.py:764\u001b[39m, in \u001b[36m_SingleProcessDataLoaderIter._next_data\u001b[39m\u001b[34m(self)\u001b[39m\n\u001b[32m    762\u001b[39m \u001b[38;5;28;01mdef\u001b[39;00m\u001b[38;5;250m \u001b[39m\u001b[34m_next_data\u001b[39m(\u001b[38;5;28mself\u001b[39m):\n\u001b[32m    763\u001b[39m     index = \u001b[38;5;28mself\u001b[39m._next_index()  \u001b[38;5;66;03m# may raise StopIteration\u001b[39;00m\n\u001b[32m--> \u001b[39m\u001b[32m764\u001b[39m     data = \u001b[38;5;28;43mself\u001b[39;49m\u001b[43m.\u001b[49m\u001b[43m_dataset_fetcher\u001b[49m\u001b[43m.\u001b[49m\u001b[43mfetch\u001b[49m\u001b[43m(\u001b[49m\u001b[43mindex\u001b[49m\u001b[43m)\u001b[49m  \u001b[38;5;66;03m# may raise StopIteration\u001b[39;00m\n\u001b[32m    765\u001b[39m     \u001b[38;5;28;01mif\u001b[39;00m \u001b[38;5;28mself\u001b[39m._pin_memory:\n\u001b[32m    766\u001b[39m         data = _utils.pin_memory.pin_memory(data, \u001b[38;5;28mself\u001b[39m._pin_memory_device)\n",
      "\u001b[36mFile \u001b[39m\u001b[32mc:\\Users\\rsriram3\\Documents\\ind_study\\test-IIM\\my-iim\\Lib\\site-packages\\torch\\utils\\data\\_utils\\fetch.py:52\u001b[39m, in \u001b[36m_MapDatasetFetcher.fetch\u001b[39m\u001b[34m(self, possibly_batched_index)\u001b[39m\n\u001b[32m     50\u001b[39m         data = \u001b[38;5;28mself\u001b[39m.dataset.__getitems__(possibly_batched_index)\n\u001b[32m     51\u001b[39m     \u001b[38;5;28;01melse\u001b[39;00m:\n\u001b[32m---> \u001b[39m\u001b[32m52\u001b[39m         data = [\u001b[38;5;28;43mself\u001b[39;49m\u001b[43m.\u001b[49m\u001b[43mdataset\u001b[49m\u001b[43m[\u001b[49m\u001b[43midx\u001b[49m\u001b[43m]\u001b[49m \u001b[38;5;28;01mfor\u001b[39;00m idx \u001b[38;5;129;01min\u001b[39;00m possibly_batched_index]\n\u001b[32m     53\u001b[39m \u001b[38;5;28;01melse\u001b[39;00m:\n\u001b[32m     54\u001b[39m     data = \u001b[38;5;28mself\u001b[39m.dataset[possibly_batched_index]\n",
      "\u001b[36mCell\u001b[39m\u001b[36m \u001b[39m\u001b[32mIn[4]\u001b[39m\u001b[32m, line 40\u001b[39m, in \u001b[36mSharedHeadDataset.__getitem__\u001b[39m\u001b[34m(self, idx)\u001b[39m\n\u001b[32m     38\u001b[39m img_path = \u001b[38;5;28mself\u001b[39m.root_dir / row[\u001b[33m'\u001b[39m\u001b[33mimage\u001b[39m\u001b[33m'\u001b[39m]\n\u001b[32m     39\u001b[39m \u001b[38;5;66;03m## ENDURING ell images are in RGB\u001b[39;00m\n\u001b[32m---> \u001b[39m\u001b[32m40\u001b[39m image = \u001b[43mImage\u001b[49m\u001b[43m.\u001b[49m\u001b[43mopen\u001b[49m\u001b[43m(\u001b[49m\u001b[43mimg_path\u001b[49m\u001b[43m)\u001b[49m\u001b[43m.\u001b[49m\u001b[43mconvert\u001b[49m\u001b[43m(\u001b[49m\u001b[33;43m\"\u001b[39;49m\u001b[33;43mRGB\u001b[39;49m\u001b[33;43m\"\u001b[39;49m\u001b[43m)\u001b[49m\n\u001b[32m     41\u001b[39m image = \u001b[38;5;28mself\u001b[39m.transform(image)\n\u001b[32m     43\u001b[39m aux = torch.tensor([\n\u001b[32m     44\u001b[39m     row[\u001b[33m'\u001b[39m\u001b[33mbrightness\u001b[39m\u001b[33m'\u001b[39m], \n\u001b[32m     45\u001b[39m     row[\u001b[33m'\u001b[39m\u001b[33medge_density\u001b[39m\u001b[33m'\u001b[39m], \n\u001b[32m     46\u001b[39m     row[\u001b[33m'\u001b[39m\u001b[33mentropy\u001b[39m\u001b[33m'\u001b[39m]\n\u001b[32m     47\u001b[39m ], dtype=torch.float32)\n",
      "\u001b[36mFile \u001b[39m\u001b[32mc:\\Users\\rsriram3\\Documents\\ind_study\\test-IIM\\my-iim\\Lib\\site-packages\\PIL\\Image.py:982\u001b[39m, in \u001b[36mImage.convert\u001b[39m\u001b[34m(self, mode, matrix, dither, palette, colors)\u001b[39m\n\u001b[32m    979\u001b[39m \u001b[38;5;28;01mif\u001b[39;00m mode \u001b[38;5;129;01min\u001b[39;00m (\u001b[33m\"\u001b[39m\u001b[33mBGR;15\u001b[39m\u001b[33m\"\u001b[39m, \u001b[33m\"\u001b[39m\u001b[33mBGR;16\u001b[39m\u001b[33m\"\u001b[39m, \u001b[33m\"\u001b[39m\u001b[33mBGR;24\u001b[39m\u001b[33m\"\u001b[39m):\n\u001b[32m    980\u001b[39m     deprecate(mode, \u001b[32m12\u001b[39m)\n\u001b[32m--> \u001b[39m\u001b[32m982\u001b[39m \u001b[38;5;28;43mself\u001b[39;49m\u001b[43m.\u001b[49m\u001b[43mload\u001b[49m\u001b[43m(\u001b[49m\u001b[43m)\u001b[49m\n\u001b[32m    984\u001b[39m has_transparency = \u001b[33m\"\u001b[39m\u001b[33mtransparency\u001b[39m\u001b[33m\"\u001b[39m \u001b[38;5;129;01min\u001b[39;00m \u001b[38;5;28mself\u001b[39m.info\n\u001b[32m    985\u001b[39m \u001b[38;5;28;01mif\u001b[39;00m \u001b[38;5;129;01mnot\u001b[39;00m mode \u001b[38;5;129;01mand\u001b[39;00m \u001b[38;5;28mself\u001b[39m.mode == \u001b[33m\"\u001b[39m\u001b[33mP\u001b[39m\u001b[33m\"\u001b[39m:\n\u001b[32m    986\u001b[39m     \u001b[38;5;66;03m# determine default mode\u001b[39;00m\n",
      "\u001b[36mFile \u001b[39m\u001b[32mc:\\Users\\rsriram3\\Documents\\ind_study\\test-IIM\\my-iim\\Lib\\site-packages\\PIL\\ImageFile.py:389\u001b[39m, in \u001b[36mImageFile.load\u001b[39m\u001b[34m(self)\u001b[39m\n\u001b[32m    386\u001b[39m         \u001b[38;5;28;01mraise\u001b[39;00m \u001b[38;5;167;01mOSError\u001b[39;00m(msg)\n\u001b[32m    388\u001b[39m b = b + s\n\u001b[32m--> \u001b[39m\u001b[32m389\u001b[39m n, err_code = \u001b[43mdecoder\u001b[49m\u001b[43m.\u001b[49m\u001b[43mdecode\u001b[49m\u001b[43m(\u001b[49m\u001b[43mb\u001b[49m\u001b[43m)\u001b[49m\n\u001b[32m    390\u001b[39m \u001b[38;5;28;01mif\u001b[39;00m n < \u001b[32m0\u001b[39m:\n\u001b[32m    391\u001b[39m     \u001b[38;5;28;01mbreak\u001b[39;00m\n",
      "\u001b[31mKeyboardInterrupt\u001b[39m: "
     ]
    }
   ],
   "source": [
    "for fold, (train_idx, val_idx) in enumerate(skf.split(df, df['label'])):\n",
    "    print(f\"\\n Fold {fold + 1}\")\n",
    "\n",
    "    # Split and save\n",
    "    train_df = df.iloc[train_idx].reset_index(drop=True)\n",
    "    val_df = df.iloc[val_idx].reset_index(drop=True)\n",
    "\n",
    "    train_fold_path = FOLDS_DIR / f\"{history}_train_fold_{fold+1}.csv\"\n",
    "    val_fold_path = FOLDS_DIR / f\"{history}_val_fold_{fold+1}.csv\"\n",
    "    train_df.to_csv(train_fold_path, index=False)\n",
    "    val_df.to_csv(val_fold_path, index=False)\n",
    "\n",
    "    # Train and save model\n",
    "    model_save_path = save_path / f\"{model_name}_fold{fold+1}.pth\"\n",
    "    model, train_accs, val_accs, train_losses, val_losses = train_model(\n",
    "        model_name, train_fold_path, val_fold_path, ROOT_DIR, model_save_path\n",
    "    )\n",
    "\n",
    "    # Plot\n",
    "    plot_metrics(train_accs, val_accs, f\"{model_name}_fold{fold+1}\", plot_save_path)\n",
    "\n",
    "# for fold, (train_idx, val_idx) in enumerate(skf.split(df, df['label'])):\n",
    "#     print(f\"\\n Fold {fold + 1} \")\n",
    "#     train_df = df.iloc[train_idx]\n",
    "#     val_df = df.iloc[val_idx]\n",
    "\n",
    "#     train_fold_path = FOLDS_DIR / f\"{history}_train_fold_{fold+1}.csv\"\n",
    "#     val_fold_path = FOLDS_DIR / f\"{history}_val_fold_{fold+1}.csv\"\n",
    "#     train_df.to_csv(train_fold_path, index=False)\n",
    "#     val_df.to_csv(val_fold_path, index=False)\n",
    "\n",
    "#     model_save_path = save_path / f\"{model_name}_fold{fold+1}.pth\"\n",
    "#     model, train_accs, val_accs = train_model(model_name, train_fold_path, val_fold_path, ROOT_DIR, model_save_path)\n",
    "#     plot_metrics(train_accs, val_accs, f\"{model_name}_fold{fold+1}\", plot_save_path)\n"
   ]
  },
  {
   "cell_type": "markdown",
   "metadata": {},
   "source": [
    "## TESTING CODE SNIPPET"
   ]
  },
  {
   "cell_type": "code",
   "execution_count": null,
   "metadata": {},
   "outputs": [],
   "source": [
    "from PIL import Image\n",
    "import torch\n",
    "import torchvision.transforms as transforms\n",
    "from pathlib import Path\n",
    "import pandas as pd\n",
    "\n",
    "# === Load model ===\n",
    "model = ExtendedModel(model_name).to(DEVICE)\n",
    "model.load_state_dict(torch.load(\"/content/drive/MyDrive/Research/Independent study/models/checkpoints/tiny_vit_model_fold1.pth\"))\n",
    "model.eval()\n",
    "\n",
    "# === Define transforms (must match training) ===\n",
    "transform = transforms.Compose([\n",
    "    transforms.Resize((224, 224)),\n",
    "    transforms.ToTensor()\n",
    "])\n",
    "\n",
    "# === Compute auxiliary features ===\n",
    "def compute_image_features(image_path):\n",
    "    from skimage import io, filters, exposure\n",
    "    from scipy.stats import entropy as scipy_entropy\n",
    "    import numpy as np\n",
    "\n",
    "    img = io.imread(image_path)\n",
    "    gray = img.mean(axis=2) if img.ndim == 3 else img\n",
    "    edges = filters.sobel(gray)\n",
    "    edge_density = edges.mean()\n",
    "    brightness = gray.mean() / 255.0\n",
    "    hist = exposure.histogram(gray, nbins=256)[0]\n",
    "    ent = scipy_entropy(hist + 1e-8)\n",
    "    return brightness, edge_density, ent\n",
    "\n",
    "# === Prediction function ===\n",
    "def predict_image(image_path, model):\n",
    "    image = Image.open(image_path).convert(\"RGB\")\n",
    "    image_tensor = transform(image).unsqueeze(0).to(DEVICE)\n",
    "    \n",
    "    brightness, edge_density, ent = compute_image_features(image_path)\n",
    "    aux_tensor = torch.tensor([[brightness, edge_density, ent]], dtype=torch.float32).to(DEVICE)\n",
    "    \n",
    "    with torch.no_grad():\n",
    "        output = model(image_tensor, aux_tensor)\n",
    "        pred = torch.argmax(output, dim=1).item()\n",
    "    \n",
    "    label_str = \"Vehicle (0)\" if pred == 0 else \"Crowd (1)\"\n",
    "    print(f\"Predicted Label: {pred} → {label_str}\")\n",
    "    return pred\n",
    "\n",
    "# === Call prediction ===\n",
    "test_img_path = \"/content/drive/MyDrive/Research/Independent study/ShanghaiTech Data/SHHA/images/0001.jpg\"\n",
    "predict_image(test_img_path, model)\n"
   ]
  },
  {
   "cell_type": "markdown",
   "metadata": {},
   "source": [
    "### TESTING FOLD - EXTERNAL VALIDATION SET"
   ]
  },
  {
   "cell_type": "code",
   "execution_count": null,
   "metadata": {},
   "outputs": [],
   "source": [
    "# Path to external test CSV (not used in fold splitting)\n",
    "external_test_csv = ROOT_DIR / \"data/final_test_set.csv\"  # <-- update this path accordingly\n",
    "\n",
    "# Create folds using only the training dataset (df)\n",
    "for fold, (train_idx, _) in enumerate(skf.split(df, df['label'])):\n",
    "    print(f\"\\n Fold {fold + 1}\")\n",
    "\n",
    "    # Split and save training data (validation is from external_test_csv)\n",
    "    train_df = df.iloc[train_idx].reset_index(drop=True)\n",
    "\n",
    "    train_fold_path = FOLDS_DIR / f\"{history}_train_fold_{fold+1}.csv\"\n",
    "    val_fold_path = external_test_csv  # Use the same external test set each time\n",
    "\n",
    "    train_df.to_csv(train_fold_path, index=False)\n",
    "\n",
    "    # Train and save model using external test set for validation\n",
    "    model_save_path = save_path / f\"{model_name}_fold{fold+1}.pth\"\n",
    "    model, train_accs, val_accs, train_losses, val_losses = train_model(\n",
    "        model_name, train_fold_path, val_fold_path, ROOT_DIR, model_save_path\n",
    "    )\n",
    "\n",
    "    # Plot\n",
    "    plot_metrics(train_accs, val_accs, f\"{model_name}_fold{fold+1}\", plot_save_path)"
   ]
  }
 ],
 "metadata": {
  "colab": {
   "authorship_tag": "ABX9TyOl0Autkp1hTLZspMJQyhDh",
   "provenance": []
  },
  "kernelspec": {
   "display_name": "my-iim",
   "language": "python",
   "name": "python3"
  },
  "language_info": {
   "codemirror_mode": {
    "name": "ipython",
    "version": 3
   },
   "file_extension": ".py",
   "mimetype": "text/x-python",
   "name": "python",
   "nbconvert_exporter": "python",
   "pygments_lexer": "ipython3",
   "version": "3.12.0"
  }
 },
 "nbformat": 4,
 "nbformat_minor": 0
}
