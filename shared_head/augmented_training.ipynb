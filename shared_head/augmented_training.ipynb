{
 "cells": [
  {
   "cell_type": "markdown",
   "metadata": {},
   "source": [
    "## VS CODE"
   ]
  },
  {
   "cell_type": "code",
   "execution_count": 45,
   "metadata": {},
   "outputs": [],
   "source": [
    "import os\n",
    "import pandas as pd\n",
    "import torch\n",
    "import numpy as np\n",
    "from sklearn.model_selection import StratifiedKFold\n",
    "from torch.utils.data import DataLoader, Dataset\n",
    "from torchvision import transforms\n",
    "from PIL import Image\n",
    "import timm\n",
    "import torch.nn as nn\n",
    "import torch.optim as optim\n",
    "from tqdm import tqdm\n",
    "from sklearn.metrics import accuracy_score, f1_score, confusion_matrix, classification_report\n",
    "import matplotlib.pyplot as plt\n",
    "import seaborn as sns\n",
    "from pathlib import Path"
   ]
  },
  {
   "cell_type": "code",
   "execution_count": 46,
   "metadata": {},
   "outputs": [],
   "source": [
    "# === Configurations ===\n",
    "ROOT_DIR = Path(\"C:/Users/rsriram3/Documents/ind_study\")\n",
    "OUTPUT_DIR = ROOT_DIR / \"data\"\n",
    "CSV_PATH = OUTPUT_DIR / \"full_augmented_images_metrics.csv\"\n",
    "CHECKPOINT_DIR = OUTPUT_DIR / \"best_checkpoints\"\n",
    "CHECKPOINT_DIR.mkdir(parents=True, exist_ok=True)\n",
    "# IMAGE_ROOT = ROOT_DIR / \"images\"\n",
    "NUM_CLASSES = 2\n",
    "IMAGE_SIZE = 224\n",
    "BATCH_SIZE = 32\n",
    "EPOCHS = 15\n",
    "PATIENCE = 5\n",
    "NUM_FOLDS = 5\n",
    "DEVICE = \"cuda\" if torch.cuda.is_available() else \"cpu\"\n"
   ]
  },
  {
   "cell_type": "code",
   "execution_count": 47,
   "metadata": {},
   "outputs": [],
   "source": [
    "# === Transforms ===\n",
    "transform = transforms.Compose([\n",
    "    transforms.Resize((IMAGE_SIZE, IMAGE_SIZE)),\n",
    "    transforms.ToTensor(),\n",
    "    transforms.Normalize(mean=[0.485, 0.456, 0.406], std=[0.229, 0.224, 0.225])\n",
    "])"
   ]
  },
  {
   "cell_type": "code",
   "execution_count": 48,
   "metadata": {},
   "outputs": [],
   "source": [
    "# === Dataset with optional aux features ===\n",
    "class SharedHeadDataset(Dataset):\n",
    "    def __init__(self, df, use_aux=True):\n",
    "        self.df = df.reset_index(drop=True)\n",
    "        self.use_aux = use_aux\n",
    "\n",
    "    def __len__(self):\n",
    "        return len(self.df)\n",
    "\n",
    "    def __getitem__(self, idx):\n",
    "        row = self.df.iloc[idx]\n",
    "        image_path = (ROOT_DIR / row['image']).resolve()\n",
    "        image = Image.open(image_path).convert(\"RGB\")\n",
    "        image = transform(image)\n",
    "        label = torch.tensor(row['label'], dtype=torch.long)\n",
    "\n",
    "        if self.use_aux:\n",
    "            aux = torch.tensor([row['brightness'], row['edge_density'], row['entropy']], dtype=torch.float32)\n",
    "            return image, aux, label\n",
    "        else:\n",
    "            return image, label"
   ]
  },
  {
   "cell_type": "code",
   "execution_count": 49,
   "metadata": {},
   "outputs": [],
   "source": [
    "# === Collate function to unify batch ===\n",
    "def collate_fn(batch):\n",
    "    images, auxs, labels = zip(*batch)\n",
    "    return torch.stack(images), torch.stack(auxs), torch.tensor(labels)"
   ]
  },
  {
   "cell_type": "code",
   "execution_count": 50,
   "metadata": {},
   "outputs": [],
   "source": [
    "# === Mixup ===\n",
    "def mixup_data(x, aux, y, alpha=1.0):\n",
    "    if alpha > 0:\n",
    "        lam = np.random.beta(alpha, alpha)\n",
    "    else:\n",
    "        lam = 1\n",
    "    batch_size = x.size()[0]\n",
    "    index = torch.randperm(batch_size).to(x.device)\n",
    "\n",
    "    mixed_x = lam * x + (1 - lam) * x[index, :]\n",
    "    mixed_aux = lam * aux + (1 - lam) * aux[index, :]\n",
    "    y_a, y_b = y, y[index]\n",
    "    return mixed_x, mixed_aux, y_a, y_b, lam\n",
    "\n",
    "def mixup_criterion(criterion, pred, y_a, y_b, lam):\n",
    "    return lam * criterion(pred, y_a) + (1 - lam) * criterion(pred, y_b)"
   ]
  },
  {
   "cell_type": "code",
   "execution_count": 51,
   "metadata": {},
   "outputs": [],
   "source": [
    "# === Extended Model ===\n",
    "class ExtendedModel(nn.Module):\n",
    "    def __init__(self, backbone, num_classes):\n",
    "        super().__init__()\n",
    "        self.backbone = backbone\n",
    "        self.head = nn.Sequential(\n",
    "            nn.Linear(backbone.num_features + 3, 512),\n",
    "            nn.ReLU(),\n",
    "            nn.Dropout(0.3),\n",
    "            nn.Linear(512, num_classes)\n",
    "        )\n",
    "        self.backbone.reset_classifier(0)\n",
    "\n",
    "    def forward(self, x, aux):\n",
    "        x = self.backbone(x)\n",
    "        combined = torch.cat([x, aux], dim=1)\n",
    "        return self.head(combined)"
   ]
  },
  {
   "cell_type": "code",
   "execution_count": 52,
   "metadata": {},
   "outputs": [],
   "source": [
    "# === Evaluation ===\n",
    "def evaluate_model(model, dataloader):\n",
    "    model.eval()\n",
    "    all_preds, all_labels = [], []\n",
    "    with torch.no_grad():\n",
    "        for images, aux, labels in dataloader:\n",
    "            images, aux, labels = images.to(DEVICE), aux.to(DEVICE), labels.to(DEVICE)\n",
    "            outputs = model(images, aux)\n",
    "            _, preds = torch.max(outputs, 1)\n",
    "            all_preds.extend(preds.cpu().numpy())\n",
    "            all_labels.extend(labels.cpu().numpy())\n",
    "    acc = accuracy_score(all_labels, all_preds)\n",
    "    f1 = f1_score(all_labels, all_preds)\n",
    "    cm = confusion_matrix(all_labels, all_preds)\n",
    "    print(classification_report(all_labels, all_preds))\n",
    "    return acc, f1, cm"
   ]
  },
  {
   "cell_type": "code",
   "execution_count": 53,
   "metadata": {},
   "outputs": [],
   "source": [
    "def plot_metrics(train_accs, val_accs, name, path):\n",
    "    plt.plot(train_accs, label='Train Acc')\n",
    "    plt.plot(val_accs, label='Val Acc')\n",
    "    plt.xlabel('Epoch')\n",
    "    plt.ylabel('Accuracy')\n",
    "    plt.title(name)\n",
    "    plt.legend()\n",
    "    plt.grid(True)\n",
    "    plt.savefig(path / f\"{name}.png\")\n",
    "    plt.clf()"
   ]
  },
  {
   "cell_type": "code",
   "execution_count": 54,
   "metadata": {},
   "outputs": [],
   "source": [
    "# === Plot Confusion Matrix ===\n",
    "def plot_confusion_matrix(cm, model_name):\n",
    "    plt.figure(figsize=(6, 5))\n",
    "    sns.heatmap(cm, annot=True, fmt=\"d\", cmap=\"Blues\")\n",
    "    plt.xlabel(\"Predicted\")\n",
    "    plt.ylabel(\"True\")\n",
    "    plt.title(f\"Confusion Matrix: {model_name}\")\n",
    "    plt.show()"
   ]
  },
  {
   "cell_type": "code",
   "execution_count": 55,
   "metadata": {},
   "outputs": [],
   "source": [
    "# === Model Training Function ===\n",
    "# def train_model(model_name, train_csv, val_csv, root_dir, model_save_path):\n",
    "#     train_df = pd.read_csv(train_csv)\n",
    "#     val_df = pd.read_csv(val_csv)\n",
    "\n",
    "#     train_dataset = SharedHeadDataset(train_df, use_aux=True)\n",
    "#     val_dataset = SharedHeadDataset(val_df, use_aux=True)\n",
    "\n",
    "#     train_loader = DataLoader(train_dataset, batch_size=BATCH_SIZE, shuffle=True, collate_fn=collate_fn)\n",
    "#     val_loader = DataLoader(val_dataset, batch_size=BATCH_SIZE, shuffle=False, collate_fn=collate_fn)\n",
    "\n",
    "#     base_model = timm.create_model(model_name, pretrained=True, num_classes=0)\n",
    "#     model = ExtendedModel(base_model, num_classes=NUM_CLASSES).to(DEVICE)\n",
    "#     optimizer = optim.AdamW(model.parameters(), lr=3e-4)\n",
    "#     scheduler = torch.optim.lr_scheduler.CosineAnnealingLR(optimizer, T_max=EPOCHS)\n",
    "#     criterion = nn.CrossEntropyLoss()\n",
    "\n",
    "#     train_accs, val_accs = [], []\n",
    "#     best_val_acc, early_stop_counter = 0.0, 0\n",
    "\n",
    "#     for epoch in range(EPOCHS):\n",
    "#         model.train()\n",
    "#         correct, total = 0, 0\n",
    "#         for images, aux, labels in tqdm(train_loader):\n",
    "#             images, aux, labels = images.to(DEVICE), aux.to(DEVICE), labels.to(DEVICE)\n",
    "#             optimizer.zero_grad()\n",
    "#             mixed_x, mixed_aux, y_a, y_b, lam = mixup_data(images, aux, labels)\n",
    "#             outputs = model(mixed_x, mixed_aux)\n",
    "#             loss = mixup_criterion(criterion, outputs, y_a, y_b, lam)\n",
    "#             loss.backward()\n",
    "#             optimizer.step()\n",
    "#             _, preds = torch.max(outputs, 1)\n",
    "#             total += labels.size(0)\n",
    "#             correct += (lam * preds.eq(y_a).sum().item() + (1 - lam) * preds.eq(y_b).sum().item())\n",
    "#         train_acc = correct / total\n",
    "#         val_acc, val_f1, val_cm = evaluate_model(model, val_loader)\n",
    "#         train_accs.append(train_acc)\n",
    "#         val_accs.append(val_acc)\n",
    "#         scheduler.step()\n",
    "\n",
    "#         if val_acc > best_val_acc:\n",
    "#             best_val_acc = val_acc\n",
    "#             early_stop_counter = 0\n",
    "#             torch.save(model.state_dict(), model_save_path)\n",
    "#         else:\n",
    "#             early_stop_counter += 1\n",
    "#             if early_stop_counter >= PATIENCE:\n",
    "#                 break\n",
    "#     return model, train_accs, val_accs"
   ]
  },
  {
   "cell_type": "code",
   "execution_count": 56,
   "metadata": {},
   "outputs": [],
   "source": [
    "class EarlyStopping:\n",
    "    def __init__(self, patience=5, verbose=False):\n",
    "        self.patience = patience\n",
    "        self.verbose = verbose\n",
    "        self.counter = 0\n",
    "        self.best_score = None\n",
    "        self.early_stop = False\n",
    "\n",
    "    def __call__(self, val_acc):\n",
    "        if self.best_score is None or val_acc > self.best_score:\n",
    "            self.best_score = val_acc\n",
    "            self.counter = 0\n",
    "        else:\n",
    "            self.counter += 1\n",
    "            if self.verbose:\n",
    "                print(f\"EarlyStopping counter: {self.counter} / {self.patience}\")\n",
    "            if self.counter >= self.patience:\n",
    "                self.early_stop = True"
   ]
  },
  {
   "cell_type": "code",
   "execution_count": 57,
   "metadata": {},
   "outputs": [],
   "source": [
    "# === Model Training Function - Early stopping===\n",
    "def train_model(model_name, train_csv, val_csv, root_dir, model_save_path):\n",
    "    train_df = pd.read_csv(train_csv)\n",
    "    val_df = pd.read_csv(val_csv)\n",
    "\n",
    "    train_dataset = SharedHeadDataset(train_df, use_aux=True)\n",
    "    val_dataset = SharedHeadDataset(val_df, use_aux=True)\n",
    "\n",
    "    train_loader = DataLoader(train_dataset, batch_size=BATCH_SIZE, shuffle=True, collate_fn=collate_fn)\n",
    "    val_loader = DataLoader(val_dataset, batch_size=BATCH_SIZE, shuffle=False, collate_fn=collate_fn)\n",
    "\n",
    "    base_model = timm.create_model(model_name, pretrained=True, num_classes=0)\n",
    "    model = ExtendedModel(base_model, num_classes=NUM_CLASSES).to(DEVICE)\n",
    "    optimizer = optim.AdamW(model.parameters(), lr=3e-4)\n",
    "    scheduler = torch.optim.lr_scheduler.CosineAnnealingLR(optimizer, T_max=EPOCHS)\n",
    "    criterion = nn.CrossEntropyLoss()\n",
    "\n",
    "    early_stopper = EarlyStopping(patience=PATIENCE, verbose=True)\n",
    "\n",
    "    train_accs, val_accs = [], []\n",
    "    best_val_acc = 0.0\n",
    "\n",
    "    print(\"Epoch\\tTrain Acc\\tVal Acc\\tVal F1\")\n",
    "    for epoch in range(EPOCHS):\n",
    "        model.train()\n",
    "        correct, total = 0, 0\n",
    "        for images, aux, labels in tqdm(train_loader):\n",
    "            images, aux, labels = images.to(DEVICE), aux.to(DEVICE), labels.to(DEVICE)\n",
    "            optimizer.zero_grad()\n",
    "            mixed_x, mixed_aux, y_a, y_b, lam = mixup_data(images, aux, labels)\n",
    "            outputs = model(mixed_x, mixed_aux)\n",
    "            loss = mixup_criterion(criterion, outputs, y_a, y_b, lam)\n",
    "            loss.backward()\n",
    "            optimizer.step()\n",
    "            _, preds = torch.max(outputs, 1)\n",
    "            total += labels.size(0)\n",
    "            correct += (lam * preds.eq(y_a).sum().item() + (1 - lam) * preds.eq(y_b).sum().item())\n",
    "\n",
    "        train_acc = correct / total\n",
    "        val_acc, val_f1, val_cm = evaluate_model(model, val_loader)\n",
    "        train_accs.append(train_acc)\n",
    "        val_accs.append(val_acc)\n",
    "        scheduler.step()\n",
    "\n",
    "        print(f\"{epoch+1}\\t{train_acc:.4f}\\t{val_acc:.4f}\\t{val_f1:.4f}\")\n",
    "\n",
    "        if val_acc > best_val_acc:\n",
    "            best_val_acc = val_acc\n",
    "            torch.save(model.state_dict(), model_save_path)\n",
    "\n",
    "        early_stopper(val_acc)\n",
    "        if early_stopper.early_stop:\n",
    "            print(\"Early stopping triggered.\")\n",
    "            break\n",
    "\n",
    "    print(\"Best Val Accuracy:\", best_val_acc)\n",
    "    return model, train_accs, val_accs"
   ]
  },
  {
   "cell_type": "code",
   "execution_count": 58,
   "metadata": {},
   "outputs": [],
   "source": [
    "model_configs = [\n",
    "    (\"swin_small_patch4_window7_224.ms_in1k\", \"swin_model.pth\"),\n",
    "    (\"coatnet_1_rw_224.sw_in1k\", \"coatnet_model.pth\"),\n",
    "    (\"convnext_small.fb_in1k\", \"convnext_model.pth\"),\n",
    "    (\"tiny_vit_5m_224.dist_in22k_ft_in1k\", \"tiny_vit_model.pth\"),\n",
    "    (\"edgenext_xx_small.in1k\", \"edgenext_xx_model.pth\")\n",
    "]"
   ]
  },
  {
   "cell_type": "code",
   "execution_count": 59,
   "metadata": {},
   "outputs": [],
   "source": [
    "# === Load & Clean CSV ===\n",
    "df = pd.read_csv(CSV_PATH)\n",
    "df = df.dropna(subset=['image', 'label', 'brightness', 'edge_density', 'entropy']).reset_index(drop=True)"
   ]
  },
  {
   "cell_type": "code",
   "execution_count": 60,
   "metadata": {},
   "outputs": [
    {
     "data": {
      "text/plain": [
       "(14810, 5)"
      ]
     },
     "execution_count": 60,
     "metadata": {},
     "output_type": "execute_result"
    }
   ],
   "source": [
    "df.shape"
   ]
  },
  {
   "cell_type": "code",
   "execution_count": 61,
   "metadata": {},
   "outputs": [],
   "source": [
    "# === Cross-validation ===\n",
    "skf = StratifiedKFold(n_splits=NUM_FOLDS, shuffle=True, random_state=42)"
   ]
  },
  {
   "cell_type": "code",
   "execution_count": 62,
   "metadata": {},
   "outputs": [],
   "source": [
    "model_id = 3\n",
    "model_name = model_configs[model_id][0]\n",
    "history = model_configs[model_id][1]\n",
    "save_path = ROOT_DIR / \"models\" / history.split('.')[0]\n",
    "save_path.mkdir(parents=True, exist_ok=True)\n",
    "plot_save_path = Path(\"C:/Users/rsriram3/Documents/ind_study/test-IIM\") / \"figures\" / \"shared_head_figures\" / history.split('.')[0]\n",
    "plot_save_path.mkdir(parents=True, exist_ok=True)"
   ]
  },
  {
   "cell_type": "code",
   "execution_count": 63,
   "metadata": {},
   "outputs": [],
   "source": [
    "# Create folds directory\n",
    "FOLDS_DIR = OUTPUT_DIR / \"folds\"\n",
    "FOLDS_DIR.mkdir(parents=True, exist_ok=True)"
   ]
  },
  {
   "cell_type": "code",
   "execution_count": 64,
   "metadata": {},
   "outputs": [
    {
     "name": "stdout",
     "output_type": "stream",
     "text": [
      "\n",
      " Fold 1 \n"
     ]
    },
    {
     "name": "stderr",
     "output_type": "stream",
     "text": [
      "c:\\Users\\rsriram3\\Documents\\ind_study\\test-IIM\\my-iim\\Lib\\site-packages\\huggingface_hub\\file_download.py:144: UserWarning: `huggingface_hub` cache-system uses symlinks by default to efficiently store duplicated files but your machine does not support them in C:\\Users\\rsriram3\\.cache\\huggingface\\hub\\models--timm--tiny_vit_5m_224.dist_in22k_ft_in1k. Caching files will still work but in a degraded version that might require more space on your disk. This warning can be disabled by setting the `HF_HUB_DISABLE_SYMLINKS_WARNING` environment variable. For more details, see https://huggingface.co/docs/huggingface_hub/how-to-cache#limitations.\n",
      "To support symlinks on Windows, you either need to activate Developer Mode or to run Python as an administrator. In order to activate developer mode, see this article: https://docs.microsoft.com/en-us/windows/apps/get-started/enable-your-device-for-development\n",
      "  warnings.warn(message)\n"
     ]
    },
    {
     "name": "stdout",
     "output_type": "stream",
     "text": [
      "Epoch\tTrain Acc\tVal Acc\tVal F1\n"
     ]
    },
    {
     "name": "stderr",
     "output_type": "stream",
     "text": [
      "100%|██████████| 371/371 [03:45<00:00,  1.64it/s]\n"
     ]
    },
    {
     "name": "stdout",
     "output_type": "stream",
     "text": [
      "              precision    recall  f1-score   support\n",
      "\n",
      "           0       1.00      1.00      1.00      2003\n",
      "           1       1.00      1.00      1.00       959\n",
      "\n",
      "    accuracy                           1.00      2962\n",
      "   macro avg       1.00      1.00      1.00      2962\n",
      "weighted avg       1.00      1.00      1.00      2962\n",
      "\n",
      "1\t0.8643\t0.9997\t0.9995\n"
     ]
    },
    {
     "name": "stderr",
     "output_type": "stream",
     "text": [
      "100%|██████████| 371/371 [03:45<00:00,  1.65it/s]\n"
     ]
    },
    {
     "name": "stdout",
     "output_type": "stream",
     "text": [
      "              precision    recall  f1-score   support\n",
      "\n",
      "           0       1.00      1.00      1.00      2003\n",
      "           1       1.00      1.00      1.00       959\n",
      "\n",
      "    accuracy                           1.00      2962\n",
      "   macro avg       1.00      1.00      1.00      2962\n",
      "weighted avg       1.00      1.00      1.00      2962\n",
      "\n",
      "2\t0.8865\t0.9997\t0.9995\n",
      "EarlyStopping counter: 1 / 5\n"
     ]
    },
    {
     "name": "stderr",
     "output_type": "stream",
     "text": [
      "100%|██████████| 371/371 [03:44<00:00,  1.65it/s]\n"
     ]
    },
    {
     "name": "stdout",
     "output_type": "stream",
     "text": [
      "              precision    recall  f1-score   support\n",
      "\n",
      "           0       1.00      1.00      1.00      2003\n",
      "           1       1.00      1.00      1.00       959\n",
      "\n",
      "    accuracy                           1.00      2962\n",
      "   macro avg       1.00      1.00      1.00      2962\n",
      "weighted avg       1.00      1.00      1.00      2962\n",
      "\n",
      "3\t0.8856\t1.0000\t1.0000\n"
     ]
    },
    {
     "name": "stderr",
     "output_type": "stream",
     "text": [
      "100%|██████████| 371/371 [03:46<00:00,  1.64it/s]\n"
     ]
    },
    {
     "name": "stdout",
     "output_type": "stream",
     "text": [
      "              precision    recall  f1-score   support\n",
      "\n",
      "           0       1.00      1.00      1.00      2003\n",
      "           1       1.00      1.00      1.00       959\n",
      "\n",
      "    accuracy                           1.00      2962\n",
      "   macro avg       1.00      1.00      1.00      2962\n",
      "weighted avg       1.00      1.00      1.00      2962\n",
      "\n",
      "4\t0.8859\t1.0000\t1.0000\n",
      "EarlyStopping counter: 1 / 5\n"
     ]
    },
    {
     "name": "stderr",
     "output_type": "stream",
     "text": [
      "100%|██████████| 371/371 [03:44<00:00,  1.65it/s]\n"
     ]
    },
    {
     "name": "stdout",
     "output_type": "stream",
     "text": [
      "              precision    recall  f1-score   support\n",
      "\n",
      "           0       1.00      1.00      1.00      2003\n",
      "           1       1.00      1.00      1.00       959\n",
      "\n",
      "    accuracy                           1.00      2962\n",
      "   macro avg       1.00      1.00      1.00      2962\n",
      "weighted avg       1.00      1.00      1.00      2962\n",
      "\n",
      "5\t0.8947\t1.0000\t1.0000\n",
      "EarlyStopping counter: 2 / 5\n"
     ]
    },
    {
     "name": "stderr",
     "output_type": "stream",
     "text": [
      "100%|██████████| 371/371 [03:44<00:00,  1.65it/s]\n"
     ]
    },
    {
     "name": "stdout",
     "output_type": "stream",
     "text": [
      "              precision    recall  f1-score   support\n",
      "\n",
      "           0       1.00      1.00      1.00      2003\n",
      "           1       1.00      1.00      1.00       959\n",
      "\n",
      "    accuracy                           1.00      2962\n",
      "   macro avg       1.00      1.00      1.00      2962\n",
      "weighted avg       1.00      1.00      1.00      2962\n",
      "\n",
      "6\t0.8950\t1.0000\t1.0000\n",
      "EarlyStopping counter: 3 / 5\n"
     ]
    },
    {
     "name": "stderr",
     "output_type": "stream",
     "text": [
      "100%|██████████| 371/371 [03:45<00:00,  1.65it/s]\n"
     ]
    },
    {
     "name": "stdout",
     "output_type": "stream",
     "text": [
      "              precision    recall  f1-score   support\n",
      "\n",
      "           0       1.00      1.00      1.00      2003\n",
      "           1       1.00      1.00      1.00       959\n",
      "\n",
      "    accuracy                           1.00      2962\n",
      "   macro avg       1.00      1.00      1.00      2962\n",
      "weighted avg       1.00      1.00      1.00      2962\n",
      "\n",
      "7\t0.8972\t1.0000\t1.0000\n",
      "EarlyStopping counter: 4 / 5\n"
     ]
    },
    {
     "name": "stderr",
     "output_type": "stream",
     "text": [
      "100%|██████████| 371/371 [03:44<00:00,  1.65it/s]\n"
     ]
    },
    {
     "name": "stdout",
     "output_type": "stream",
     "text": [
      "              precision    recall  f1-score   support\n",
      "\n",
      "           0       1.00      1.00      1.00      2003\n",
      "           1       1.00      1.00      1.00       959\n",
      "\n",
      "    accuracy                           1.00      2962\n",
      "   macro avg       1.00      1.00      1.00      2962\n",
      "weighted avg       1.00      1.00      1.00      2962\n",
      "\n",
      "8\t0.8931\t1.0000\t1.0000\n",
      "EarlyStopping counter: 5 / 5\n",
      "Early stopping triggered.\n",
      "Best Val Accuracy: 1.0\n",
      "\n",
      " Fold 2 \n",
      "Epoch\tTrain Acc\tVal Acc\tVal F1\n"
     ]
    },
    {
     "name": "stderr",
     "output_type": "stream",
     "text": [
      "100%|██████████| 371/371 [03:43<00:00,  1.66it/s]\n"
     ]
    },
    {
     "name": "stdout",
     "output_type": "stream",
     "text": [
      "              precision    recall  f1-score   support\n",
      "\n",
      "           0       1.00      1.00      1.00      2003\n",
      "           1       1.00      1.00      1.00       959\n",
      "\n",
      "    accuracy                           1.00      2962\n",
      "   macro avg       1.00      1.00      1.00      2962\n",
      "weighted avg       1.00      1.00      1.00      2962\n",
      "\n",
      "1\t0.8576\t0.9997\t0.9995\n"
     ]
    },
    {
     "name": "stderr",
     "output_type": "stream",
     "text": [
      "100%|██████████| 371/371 [03:42<00:00,  1.67it/s]\n"
     ]
    },
    {
     "name": "stdout",
     "output_type": "stream",
     "text": [
      "              precision    recall  f1-score   support\n",
      "\n",
      "           0       1.00      1.00      1.00      2003\n",
      "           1       1.00      1.00      1.00       959\n",
      "\n",
      "    accuracy                           1.00      2962\n",
      "   macro avg       1.00      1.00      1.00      2962\n",
      "weighted avg       1.00      1.00      1.00      2962\n",
      "\n",
      "2\t0.8859\t1.0000\t1.0000\n"
     ]
    },
    {
     "name": "stderr",
     "output_type": "stream",
     "text": [
      "100%|██████████| 371/371 [03:42<00:00,  1.67it/s]\n"
     ]
    },
    {
     "name": "stdout",
     "output_type": "stream",
     "text": [
      "              precision    recall  f1-score   support\n",
      "\n",
      "           0       1.00      1.00      1.00      2003\n",
      "           1       1.00      1.00      1.00       959\n",
      "\n",
      "    accuracy                           1.00      2962\n",
      "   macro avg       1.00      1.00      1.00      2962\n",
      "weighted avg       1.00      1.00      1.00      2962\n",
      "\n",
      "3\t0.8895\t1.0000\t1.0000\n",
      "EarlyStopping counter: 1 / 5\n"
     ]
    },
    {
     "name": "stderr",
     "output_type": "stream",
     "text": [
      "100%|██████████| 371/371 [03:43<00:00,  1.66it/s]\n"
     ]
    },
    {
     "name": "stdout",
     "output_type": "stream",
     "text": [
      "              precision    recall  f1-score   support\n",
      "\n",
      "           0       1.00      1.00      1.00      2003\n",
      "           1       1.00      1.00      1.00       959\n",
      "\n",
      "    accuracy                           1.00      2962\n",
      "   macro avg       1.00      1.00      1.00      2962\n",
      "weighted avg       1.00      1.00      1.00      2962\n",
      "\n",
      "4\t0.8881\t1.0000\t1.0000\n",
      "EarlyStopping counter: 2 / 5\n"
     ]
    },
    {
     "name": "stderr",
     "output_type": "stream",
     "text": [
      "100%|██████████| 371/371 [03:41<00:00,  1.67it/s]\n"
     ]
    },
    {
     "name": "stdout",
     "output_type": "stream",
     "text": [
      "              precision    recall  f1-score   support\n",
      "\n",
      "           0       1.00      1.00      1.00      2003\n",
      "           1       1.00      1.00      1.00       959\n",
      "\n",
      "    accuracy                           1.00      2962\n",
      "   macro avg       1.00      1.00      1.00      2962\n",
      "weighted avg       1.00      1.00      1.00      2962\n",
      "\n",
      "5\t0.8903\t1.0000\t1.0000\n",
      "EarlyStopping counter: 3 / 5\n"
     ]
    },
    {
     "name": "stderr",
     "output_type": "stream",
     "text": [
      "100%|██████████| 371/371 [03:43<00:00,  1.66it/s]\n"
     ]
    },
    {
     "name": "stdout",
     "output_type": "stream",
     "text": [
      "              precision    recall  f1-score   support\n",
      "\n",
      "           0       1.00      1.00      1.00      2003\n",
      "           1       1.00      1.00      1.00       959\n",
      "\n",
      "    accuracy                           1.00      2962\n",
      "   macro avg       1.00      1.00      1.00      2962\n",
      "weighted avg       1.00      1.00      1.00      2962\n",
      "\n",
      "6\t0.8933\t1.0000\t1.0000\n",
      "EarlyStopping counter: 4 / 5\n"
     ]
    },
    {
     "name": "stderr",
     "output_type": "stream",
     "text": [
      "100%|██████████| 371/371 [03:44<00:00,  1.65it/s]\n"
     ]
    },
    {
     "name": "stdout",
     "output_type": "stream",
     "text": [
      "              precision    recall  f1-score   support\n",
      "\n",
      "           0       1.00      1.00      1.00      2003\n",
      "           1       1.00      1.00      1.00       959\n",
      "\n",
      "    accuracy                           1.00      2962\n",
      "   macro avg       1.00      1.00      1.00      2962\n",
      "weighted avg       1.00      1.00      1.00      2962\n",
      "\n",
      "7\t0.8970\t1.0000\t1.0000\n",
      "EarlyStopping counter: 5 / 5\n",
      "Early stopping triggered.\n",
      "Best Val Accuracy: 1.0\n",
      "\n",
      " Fold 3 \n",
      "Epoch\tTrain Acc\tVal Acc\tVal F1\n"
     ]
    },
    {
     "name": "stderr",
     "output_type": "stream",
     "text": [
      "100%|██████████| 371/371 [03:44<00:00,  1.65it/s]\n"
     ]
    },
    {
     "name": "stdout",
     "output_type": "stream",
     "text": [
      "              precision    recall  f1-score   support\n",
      "\n",
      "           0       1.00      1.00      1.00      2004\n",
      "           1       1.00      1.00      1.00       958\n",
      "\n",
      "    accuracy                           1.00      2962\n",
      "   macro avg       1.00      1.00      1.00      2962\n",
      "weighted avg       1.00      1.00      1.00      2962\n",
      "\n",
      "1\t0.8616\t1.0000\t1.0000\n"
     ]
    },
    {
     "name": "stderr",
     "output_type": "stream",
     "text": [
      "100%|██████████| 371/371 [03:42<00:00,  1.67it/s]\n"
     ]
    },
    {
     "name": "stdout",
     "output_type": "stream",
     "text": [
      "              precision    recall  f1-score   support\n",
      "\n",
      "           0       1.00      1.00      1.00      2004\n",
      "           1       1.00      1.00      1.00       958\n",
      "\n",
      "    accuracy                           1.00      2962\n",
      "   macro avg       1.00      1.00      1.00      2962\n",
      "weighted avg       1.00      1.00      1.00      2962\n",
      "\n",
      "2\t0.8818\t1.0000\t1.0000\n",
      "EarlyStopping counter: 1 / 5\n"
     ]
    },
    {
     "name": "stderr",
     "output_type": "stream",
     "text": [
      "100%|██████████| 371/371 [03:44<00:00,  1.65it/s]\n"
     ]
    },
    {
     "name": "stdout",
     "output_type": "stream",
     "text": [
      "              precision    recall  f1-score   support\n",
      "\n",
      "           0       1.00      1.00      1.00      2004\n",
      "           1       1.00      1.00      1.00       958\n",
      "\n",
      "    accuracy                           1.00      2962\n",
      "   macro avg       1.00      1.00      1.00      2962\n",
      "weighted avg       1.00      1.00      1.00      2962\n",
      "\n",
      "3\t0.8872\t1.0000\t1.0000\n",
      "EarlyStopping counter: 2 / 5\n"
     ]
    },
    {
     "name": "stderr",
     "output_type": "stream",
     "text": [
      "100%|██████████| 371/371 [04:10<00:00,  1.48it/s]\n"
     ]
    },
    {
     "name": "stdout",
     "output_type": "stream",
     "text": [
      "              precision    recall  f1-score   support\n",
      "\n",
      "           0       1.00      1.00      1.00      2004\n",
      "           1       1.00      1.00      1.00       958\n",
      "\n",
      "    accuracy                           1.00      2962\n",
      "   macro avg       1.00      1.00      1.00      2962\n",
      "weighted avg       1.00      1.00      1.00      2962\n",
      "\n",
      "4\t0.8935\t1.0000\t1.0000\n",
      "EarlyStopping counter: 3 / 5\n"
     ]
    },
    {
     "name": "stderr",
     "output_type": "stream",
     "text": [
      "100%|██████████| 371/371 [04:21<00:00,  1.42it/s]\n"
     ]
    },
    {
     "name": "stdout",
     "output_type": "stream",
     "text": [
      "              precision    recall  f1-score   support\n",
      "\n",
      "           0       1.00      1.00      1.00      2004\n",
      "           1       1.00      1.00      1.00       958\n",
      "\n",
      "    accuracy                           1.00      2962\n",
      "   macro avg       1.00      1.00      1.00      2962\n",
      "weighted avg       1.00      1.00      1.00      2962\n",
      "\n",
      "5\t0.8937\t1.0000\t1.0000\n",
      "EarlyStopping counter: 4 / 5\n"
     ]
    },
    {
     "name": "stderr",
     "output_type": "stream",
     "text": [
      "100%|██████████| 371/371 [03:42<00:00,  1.67it/s]\n"
     ]
    },
    {
     "name": "stdout",
     "output_type": "stream",
     "text": [
      "              precision    recall  f1-score   support\n",
      "\n",
      "           0       1.00      1.00      1.00      2004\n",
      "           1       1.00      1.00      1.00       958\n",
      "\n",
      "    accuracy                           1.00      2962\n",
      "   macro avg       1.00      1.00      1.00      2962\n",
      "weighted avg       1.00      1.00      1.00      2962\n",
      "\n",
      "6\t0.8913\t1.0000\t1.0000\n",
      "EarlyStopping counter: 5 / 5\n",
      "Early stopping triggered.\n",
      "Best Val Accuracy: 1.0\n",
      "\n",
      " Fold 4 \n",
      "Epoch\tTrain Acc\tVal Acc\tVal F1\n"
     ]
    },
    {
     "name": "stderr",
     "output_type": "stream",
     "text": [
      "100%|██████████| 371/371 [03:40<00:00,  1.68it/s]\n"
     ]
    },
    {
     "name": "stdout",
     "output_type": "stream",
     "text": [
      "              precision    recall  f1-score   support\n",
      "\n",
      "           0       1.00      1.00      1.00      2004\n",
      "           1       1.00      1.00      1.00       958\n",
      "\n",
      "    accuracy                           1.00      2962\n",
      "   macro avg       1.00      1.00      1.00      2962\n",
      "weighted avg       1.00      1.00      1.00      2962\n",
      "\n",
      "1\t0.8567\t1.0000\t1.0000\n"
     ]
    },
    {
     "name": "stderr",
     "output_type": "stream",
     "text": [
      "100%|██████████| 371/371 [03:39<00:00,  1.69it/s]\n"
     ]
    },
    {
     "name": "stdout",
     "output_type": "stream",
     "text": [
      "              precision    recall  f1-score   support\n",
      "\n",
      "           0       1.00      1.00      1.00      2004\n",
      "           1       1.00      1.00      1.00       958\n",
      "\n",
      "    accuracy                           1.00      2962\n",
      "   macro avg       1.00      1.00      1.00      2962\n",
      "weighted avg       1.00      1.00      1.00      2962\n",
      "\n",
      "2\t0.8851\t1.0000\t1.0000\n",
      "EarlyStopping counter: 1 / 5\n"
     ]
    },
    {
     "name": "stderr",
     "output_type": "stream",
     "text": [
      "100%|██████████| 371/371 [03:42<00:00,  1.67it/s]\n"
     ]
    },
    {
     "name": "stdout",
     "output_type": "stream",
     "text": [
      "              precision    recall  f1-score   support\n",
      "\n",
      "           0       1.00      1.00      1.00      2004\n",
      "           1       1.00      1.00      1.00       958\n",
      "\n",
      "    accuracy                           1.00      2962\n",
      "   macro avg       1.00      1.00      1.00      2962\n",
      "weighted avg       1.00      1.00      1.00      2962\n",
      "\n",
      "3\t0.8845\t1.0000\t1.0000\n",
      "EarlyStopping counter: 2 / 5\n"
     ]
    },
    {
     "name": "stderr",
     "output_type": "stream",
     "text": [
      "100%|██████████| 371/371 [03:45<00:00,  1.64it/s]\n"
     ]
    },
    {
     "name": "stdout",
     "output_type": "stream",
     "text": [
      "              precision    recall  f1-score   support\n",
      "\n",
      "           0       1.00      1.00      1.00      2004\n",
      "           1       1.00      1.00      1.00       958\n",
      "\n",
      "    accuracy                           1.00      2962\n",
      "   macro avg       1.00      1.00      1.00      2962\n",
      "weighted avg       1.00      1.00      1.00      2962\n",
      "\n",
      "4\t0.8904\t1.0000\t1.0000\n",
      "EarlyStopping counter: 3 / 5\n"
     ]
    },
    {
     "name": "stderr",
     "output_type": "stream",
     "text": [
      "100%|██████████| 371/371 [03:40<00:00,  1.68it/s]\n"
     ]
    },
    {
     "name": "stdout",
     "output_type": "stream",
     "text": [
      "              precision    recall  f1-score   support\n",
      "\n",
      "           0       1.00      1.00      1.00      2004\n",
      "           1       1.00      1.00      1.00       958\n",
      "\n",
      "    accuracy                           1.00      2962\n",
      "   macro avg       1.00      1.00      1.00      2962\n",
      "weighted avg       1.00      1.00      1.00      2962\n",
      "\n",
      "5\t0.8963\t1.0000\t1.0000\n",
      "EarlyStopping counter: 4 / 5\n"
     ]
    },
    {
     "name": "stderr",
     "output_type": "stream",
     "text": [
      "100%|██████████| 371/371 [03:41<00:00,  1.67it/s]\n"
     ]
    },
    {
     "name": "stdout",
     "output_type": "stream",
     "text": [
      "              precision    recall  f1-score   support\n",
      "\n",
      "           0       1.00      1.00      1.00      2004\n",
      "           1       1.00      1.00      1.00       958\n",
      "\n",
      "    accuracy                           1.00      2962\n",
      "   macro avg       1.00      1.00      1.00      2962\n",
      "weighted avg       1.00      1.00      1.00      2962\n",
      "\n",
      "6\t0.8912\t0.9986\t0.9979\n",
      "EarlyStopping counter: 5 / 5\n",
      "Early stopping triggered.\n",
      "Best Val Accuracy: 1.0\n",
      "\n",
      " Fold 5 \n",
      "Epoch\tTrain Acc\tVal Acc\tVal F1\n"
     ]
    },
    {
     "name": "stderr",
     "output_type": "stream",
     "text": [
      "100%|██████████| 371/371 [03:42<00:00,  1.67it/s]\n"
     ]
    },
    {
     "name": "stdout",
     "output_type": "stream",
     "text": [
      "              precision    recall  f1-score   support\n",
      "\n",
      "           0       1.00      1.00      1.00      2004\n",
      "           1       1.00      1.00      1.00       958\n",
      "\n",
      "    accuracy                           1.00      2962\n",
      "   macro avg       1.00      1.00      1.00      2962\n",
      "weighted avg       1.00      1.00      1.00      2962\n",
      "\n",
      "1\t0.8613\t1.0000\t1.0000\n"
     ]
    },
    {
     "name": "stderr",
     "output_type": "stream",
     "text": [
      "100%|██████████| 371/371 [03:43<00:00,  1.66it/s]\n"
     ]
    },
    {
     "name": "stdout",
     "output_type": "stream",
     "text": [
      "              precision    recall  f1-score   support\n",
      "\n",
      "           0       1.00      1.00      1.00      2004\n",
      "           1       1.00      1.00      1.00       958\n",
      "\n",
      "    accuracy                           1.00      2962\n",
      "   macro avg       1.00      1.00      1.00      2962\n",
      "weighted avg       1.00      1.00      1.00      2962\n",
      "\n",
      "2\t0.8815\t1.0000\t1.0000\n",
      "EarlyStopping counter: 1 / 5\n"
     ]
    },
    {
     "name": "stderr",
     "output_type": "stream",
     "text": [
      "100%|██████████| 371/371 [03:44<00:00,  1.65it/s]\n"
     ]
    },
    {
     "name": "stdout",
     "output_type": "stream",
     "text": [
      "              precision    recall  f1-score   support\n",
      "\n",
      "           0       1.00      1.00      1.00      2004\n",
      "           1       1.00      1.00      1.00       958\n",
      "\n",
      "    accuracy                           1.00      2962\n",
      "   macro avg       1.00      1.00      1.00      2962\n",
      "weighted avg       1.00      1.00      1.00      2962\n",
      "\n",
      "3\t0.8843\t0.9997\t0.9995\n",
      "EarlyStopping counter: 2 / 5\n"
     ]
    },
    {
     "name": "stderr",
     "output_type": "stream",
     "text": [
      "100%|██████████| 371/371 [03:42<00:00,  1.67it/s]\n"
     ]
    },
    {
     "name": "stdout",
     "output_type": "stream",
     "text": [
      "              precision    recall  f1-score   support\n",
      "\n",
      "           0       1.00      1.00      1.00      2004\n",
      "           1       1.00      1.00      1.00       958\n",
      "\n",
      "    accuracy                           1.00      2962\n",
      "   macro avg       1.00      1.00      1.00      2962\n",
      "weighted avg       1.00      1.00      1.00      2962\n",
      "\n",
      "4\t0.8911\t1.0000\t1.0000\n",
      "EarlyStopping counter: 3 / 5\n"
     ]
    },
    {
     "name": "stderr",
     "output_type": "stream",
     "text": [
      "100%|██████████| 371/371 [03:43<00:00,  1.66it/s]\n"
     ]
    },
    {
     "name": "stdout",
     "output_type": "stream",
     "text": [
      "              precision    recall  f1-score   support\n",
      "\n",
      "           0       1.00      1.00      1.00      2004\n",
      "           1       1.00      1.00      1.00       958\n",
      "\n",
      "    accuracy                           1.00      2962\n",
      "   macro avg       1.00      1.00      1.00      2962\n",
      "weighted avg       1.00      1.00      1.00      2962\n",
      "\n",
      "5\t0.8948\t1.0000\t1.0000\n",
      "EarlyStopping counter: 4 / 5\n"
     ]
    },
    {
     "name": "stderr",
     "output_type": "stream",
     "text": [
      "100%|██████████| 371/371 [03:42<00:00,  1.66it/s]\n"
     ]
    },
    {
     "name": "stdout",
     "output_type": "stream",
     "text": [
      "              precision    recall  f1-score   support\n",
      "\n",
      "           0       1.00      1.00      1.00      2004\n",
      "           1       1.00      1.00      1.00       958\n",
      "\n",
      "    accuracy                           1.00      2962\n",
      "   macro avg       1.00      1.00      1.00      2962\n",
      "weighted avg       1.00      1.00      1.00      2962\n",
      "\n",
      "6\t0.8889\t0.9997\t0.9995\n",
      "EarlyStopping counter: 5 / 5\n",
      "Early stopping triggered.\n",
      "Best Val Accuracy: 1.0\n"
     ]
    },
    {
     "data": {
      "text/plain": [
       "<Figure size 640x480 with 0 Axes>"
      ]
     },
     "metadata": {},
     "output_type": "display_data"
    }
   ],
   "source": [
    "for fold, (train_idx, val_idx) in enumerate(skf.split(df, df['label'])):\n",
    "    print(f\"\\n Fold {fold + 1} \")\n",
    "    train_df = df.iloc[train_idx]\n",
    "    val_df = df.iloc[val_idx]\n",
    "\n",
    "    train_fold_path = FOLDS_DIR / f\"{history}_train_fold_{fold+1}.csv\"\n",
    "    val_fold_path = FOLDS_DIR / f\"{history}_val_fold_{fold+1}.csv\"\n",
    "    train_df.to_csv(train_fold_path, index=False)\n",
    "    val_df.to_csv(val_fold_path, index=False)\n",
    "\n",
    "    model_save_path = save_path / f\"{model_name}_fold{fold+1}.pth\"\n",
    "    model, train_accs, val_accs = train_model(model_name, train_fold_path, val_fold_path, ROOT_DIR, model_save_path)\n",
    "    plot_metrics(train_accs, val_accs, f\"{model_name}_fold{fold+1}\", plot_save_path)\n"
   ]
  },
  {
   "cell_type": "code",
   "execution_count": null,
   "metadata": {},
   "outputs": [],
   "source": []
  }
 ],
 "metadata": {
  "colab": {
   "authorship_tag": "ABX9TyOl0Autkp1hTLZspMJQyhDh",
   "provenance": []
  },
  "kernelspec": {
   "display_name": "my-iim",
   "language": "python",
   "name": "python3"
  },
  "language_info": {
   "codemirror_mode": {
    "name": "ipython",
    "version": 3
   },
   "file_extension": ".py",
   "mimetype": "text/x-python",
   "name": "python",
   "nbconvert_exporter": "python",
   "pygments_lexer": "ipython3",
   "version": "3.12.0"
  }
 },
 "nbformat": 4,
 "nbformat_minor": 0
}
